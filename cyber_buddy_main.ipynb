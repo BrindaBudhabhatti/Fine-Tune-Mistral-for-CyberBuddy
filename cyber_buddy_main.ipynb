{
  "cells": [
    {
      "cell_type": "markdown",
      "metadata": {
        "id": "Un3a2pyPyUhU"
      },
      "source": [
        "# **FINE TUNING CYBER BUDDY**\n",
        "\n",
        "---\n",
        "\n"
      ]
    },
    {
      "cell_type": "markdown",
      "metadata": {
        "id": "o7l9kybz-_nm"
      },
      "source": [
        "# **📅 Day 1: Foundations for Fine-Tuning LLMs**\n",
        "\n",
        "🎯 Goal of Today:\n",
        "> Understand the basics: What are LLMs, how transformers work, what embeddings and tokenization are."
      ]
    },
    {
      "cell_type": "markdown",
      "metadata": {
        "id": "OsaGpcitysXM"
      },
      "source": [
        "1. What is Language Model?\n",
        "* A **Language Model (LM)** is trained to predict the next word given some text. An LLM (Larga Language Model) is just a huge version of this.\n",
        "\n",
        "---\n",
        "\n",
        "2. Transformers\n",
        "* Transformers are like attention machines - they pay attention to words in a sentence and understand the context. They work using:\n",
        "    * Embeddings  (turning words into numbers)\n",
        "    * Self-Attention  (deciding which words to fucus on)\n",
        "    * Positional Encoding  (word order matters)\n",
        "    * Layers  (stacked attention and feed-forward blocks)\n",
        "\n",
        "---\n",
        "3. Tokenization\n",
        "* Before feeding text into a model, we must tokenize it.\n",
        "[Tokenization explanation in detail](https://www.geeksforgeeks.org/what-is-tokenization/)"
      ]
    },
    {
      "cell_type": "code",
      "execution_count": null,
      "metadata": {
        "id": "POgekqpiyTYc"
      },
      "outputs": [],
      "source": [
        "# Tokenization demo\n",
        "\n",
        "from transformers import AutoTokenizer\n",
        "\n",
        "tokenizer = AutoTokenizer.from_pretrained('gpt2')\n",
        "text = \"Hello, Brinda!\"\n",
        "tokens = tokenizer.tokenize(text)\n",
        "ids = tokenizer.encode(text)\n",
        "\n",
        "print(f'Tokens: {tokens}')\n",
        "print(f'Token IDs: {ids}')"
      ]
    },
    {
      "cell_type": "markdown",
      "metadata": {
        "id": "w-d75WLH-7d0"
      },
      "source": [
        "# 📅 **Day 2: Hugging Face 101 - The Language Model Playground**\n",
        "\n",
        "🎯 Goal of the Day:\n",
        "> Learn how to use Hugging Face 🤗 to browse, load, and run models and datasets. We'll also generate our first real outputs from pre-trained models!"
      ]
    },
    {
      "cell_type": "markdown",
      "metadata": {
        "id": "o_DiKXhzAKSz"
      },
      "source": [
        "1. What is HuggingFace?\n",
        "* Hugging Face is like a GitHub of AI Models - it hosts thousands of Models and Datasets\n",
        "* Core Libraries:\n",
        "    * `transformers`: for working with LLMs\n",
        "    * `datasets`: for ready-made datasets\n",
        "    * `huggingface_hubs`: to upload/share ready-made datasets\n",
        "\n",
        "🔗 Explore: https://huggingface.co/models\n",
        "\n"
      ]
    },
    {
      "cell_type": "markdown",
      "metadata": {
        "id": "aLCDC6hxBX3S"
      },
      "source": [
        "2. Install Hugging Face on Colab"
      ]
    },
    {
      "cell_type": "code",
      "execution_count": null,
      "metadata": {
        "id": "d9A5Oi9T3C0C"
      },
      "outputs": [],
      "source": [
        "!pip3 install -q transformers datasets huggingface_hub"
      ]
    },
    {
      "cell_type": "markdown",
      "metadata": {
        "id": "GSQ_dCI0Bu_c"
      },
      "source": [
        "3. Try a model with Pipeline\n",
        ">The easiest way to use any model <br>\n",
        ">🧠 This runs GPT-2 to generate text given a prompt.\n",
        "\n"
      ]
    },
    {
      "cell_type": "code",
      "execution_count": null,
      "metadata": {
        "id": "7xaZUc2zBkIb"
      },
      "outputs": [],
      "source": [
        "from transformers import pipeline\n",
        "\n",
        "# Text generation pipiline\n",
        "generator = pipeline('text-generation', model='gpt2')\n",
        "\n",
        "output = generator(\"Cyber Security is\", max_length=30, num_return_sequences=1)\n",
        "print(output[0]['generated_text'])"
      ]
    },
    {
      "cell_type": "markdown",
      "metadata": {
        "id": "6NYOIraqDoGM"
      },
      "source": [
        "📂 4. Try a Text Classification Pipeline\n",
        ">🔎 We'll see whether the text is positive/negative — and how confident the model is.\n",
        "\n"
      ]
    },
    {
      "cell_type": "code",
      "execution_count": null,
      "metadata": {
        "id": "MQ-M5EwoC-Kt"
      },
      "outputs": [],
      "source": [
        "classifier = pipeline('sentiment-analysis')\n",
        "\n",
        "result = classifier('I like Cycling, but I am tired of it!')\n",
        "print(result)"
      ]
    },
    {
      "cell_type": "markdown",
      "metadata": {
        "id": "I3oMJ5QKFl0w"
      },
      "source": [
        "🗂️ 5. Load a Dataset\n",
        ">💡 This loads 1000 news headlines with categories (world, sports, business, sci/tech)."
      ]
    },
    {
      "cell_type": "code",
      "execution_count": null,
      "metadata": {
        "id": "i0J6DXQWD4f9"
      },
      "outputs": [],
      "source": [
        "# Load AG News dataset\n",
        "from datasets import load_dataset\n",
        "dataset = load_dataset(\"ag_news\", split=\"train[:1000]\", download_mode=\"force_redownload\")\n",
        "print(dataset[0])\n"
      ]
    },
    {
      "cell_type": "markdown",
      "metadata": {
        "id": "QjAWRhoBPv5I"
      },
      "source": [
        "---"
      ]
    },
    {
      "cell_type": "markdown",
      "metadata": {
        "id": "W0Ut4dOgfd1C"
      },
      "source": [
        "# **📅 Day 3: Tokenizers Deep Dive**\n",
        "\n",
        "🎯 Goal of the Day:\n",
        "\n",
        "> 1. What is Tokenization?\n",
        "2. Types of Tokenizers:\n",
        "    * Word-level\n",
        "    * Character-level\n",
        "    * Subword-level: BPE, WordPiece, SentencePiece\n",
        "3. Tokenization Demo using Hugging Face\n",
        "4. Token IDs vs Tokens\n",
        "5. Visualize Tokenization\n",
        "6. Bonus: Custom training of your own tokenizer (BPE)\n",
        "\n",
        "---"
      ]
    },
    {
      "cell_type": "markdown",
      "metadata": {
        "id": "t714-ZMLNAg1"
      },
      "source": [
        "**1. What is Tokenization?**\n",
        "> Tokenization is a process of splitting input text into pieces (called Tokens) so that models can work with them.\n",
        "\n",
        "**Example:**\n",
        "```\n",
        "Input Text: \"I love CyberBuddy\"\n",
        "Word Tokens: [\"I\", \"love\", CyberBuddy\"]\n",
        "```\n",
        "\n",
        "But models don't use wrods, they use Token IDs"
      ]
    },
    {
      "cell_type": "markdown",
      "metadata": {
        "id": "GeUsf5d2OTuG"
      },
      "source": [
        "**2. Types of Tokenizers**\n",
        "\n",
        "| Type   | Description | Example Tokens|\n",
        "| ------------ | ------------------ | ----------------- |\n",
        "| **Word-level** | Splits on whitespace  | [\"I\", \"love\", \"CyberBuddy\"]    |\n",
        "| **Character-level** | Every character is a token | [\"I\", \" \", \"l\", \"o\", \"v\", \"e\"] |\n",
        "| **Subword-level**   | Splits into word pieces (most powerful) | [\"Cy\", \"##ber\", \"Bud\", \"##dy\"] |\n",
        "\n",
        "\n",
        "**Most modern LLMs use sub-word Tokenizers**"
      ]
    },
    {
      "cell_type": "markdown",
      "metadata": {
        "id": "JIA2EpPIP29n"
      },
      "source": [
        "**3. Common Sub-word Tokenizers type:**\n",
        "\n",
        "| Type                         | Used by        | Algorithm                                               |\n",
        "| ---------------------------- | -------------- | ------------------------------------------------------- |\n",
        "| **BPE (Byte Pair Encoding)** | GPT-2, Mistral | Merges frequent character pairs                         |\n",
        "| **WordPiece**                | BERT           | Similar to BPE, adds constraint to limit vocabulary     |\n",
        "| **SentencePiece**            | T5, ALBERT     | Works on raw text without whitespace-based tokenization |\n"
      ]
    },
    {
      "cell_type": "markdown",
      "metadata": {
        "id": "FEzV1HFNQUZY"
      },
      "source": [
        "---\n",
        "\n",
        "## 🧪 Part-1: Tokenizing with GPT-2 (Subword - BPE):\n",
        "\n",
        "We'll se how Hugging Face Tokenizers work under the hood\n"
      ]
    },
    {
      "cell_type": "markdown",
      "metadata": {
        "id": "YAUD0_bDROFT"
      },
      "source": [
        "🔍 Step-1: Load GPT-2 Tokenizer"
      ]
    },
    {
      "cell_type": "code",
      "execution_count": null,
      "metadata": {
        "id": "iLivyTjMGYpg"
      },
      "outputs": [],
      "source": [
        "from transformers import AutoTokenizer\n",
        "\n",
        "tokenizer = AutoTokenizer.from_pretrained(\"gpt2\")\n"
      ]
    },
    {
      "cell_type": "markdown",
      "metadata": {
        "id": "6VhQHe0ARcwu"
      },
      "source": [
        "🔍 Step-2: Tokenize a Simple Sentance"
      ]
    },
    {
      "cell_type": "code",
      "execution_count": null,
      "metadata": {
        "id": "1RJg0LGyfimc"
      },
      "outputs": [],
      "source": [
        "text = \"CyberBuddy is your personal assistant!\"\n",
        "\n",
        "# Tokenize (subwords)\n",
        "tokens = tokenizer.tokenize(text)\n",
        "\n",
        "# Convert tokens to IDs\n",
        "ids = tokenizer.convert_tokens_to_ids(tokens)\n",
        "\n",
        "print(f\"Input Text: {text}\")\n",
        "print(f\"Tokens: {tokens}\")\n",
        "print(f\"Token IDs: {ids}\")\n"
      ]
    },
    {
      "cell_type": "markdown",
      "metadata": {
        "id": "WLznj6SYThNI"
      },
      "source": [
        "We’ll notice weird things like 'Ġ', or tokens like \"Cy\", \"ber\", \"Bud\", \"##dy\" — this is how BPE works: it splits into meaningful sub-parts based on training frequency"
      ]
    },
    {
      "cell_type": "markdown",
      "metadata": {
        "id": "bVHqF9MWTvgS"
      },
      "source": [
        "🧰 Step-3: Encode + Decode"
      ]
    },
    {
      "cell_type": "code",
      "execution_count": null,
      "metadata": {
        "id": "kMNMzDVnfmmQ"
      },
      "outputs": [],
      "source": [
        "# Encode directly\n",
        "encoded = tokenizer.encode(text)\n",
        "print(f\"\\nEncoded IDs: {encoded}\")\n",
        "\n",
        "# Decode back to text\n",
        "decoded = tokenizer.decode(encoded)\n",
        "print(f\"Decoded Text: {decoded}\")\n"
      ]
    },
    {
      "cell_type": "markdown",
      "metadata": {
        "id": "UqHB94M3UEKP"
      },
      "source": [
        "🧠 This is exactly how a model like GPT-2 understands and responds to input."
      ]
    },
    {
      "cell_type": "markdown",
      "metadata": {
        "id": "DkPS8WAitfes"
      },
      "source": [
        "## 🎨 Part 2: Visualize with Token Strings and Offsets\n",
        "Let’s see how tokens map back to parts of your original sentence."
      ]
    },
    {
      "cell_type": "code",
      "execution_count": null,
      "metadata": {
        "id": "CznpXamQfxXD"
      },
      "outputs": [],
      "source": [
        "output = tokenizer(text, return_offsets_mapping=True)\n",
        "tokens = tokenizer.convert_ids_to_tokens(output[\"input_ids\"])\n",
        "offsets = output[\"offset_mapping\"]\n",
        "\n",
        "for token, (start, end) in zip(tokens, offsets):\n",
        "    print(f\"{token:15} -> '{text[start:end]}'\")"
      ]
    },
    {
      "cell_type": "code",
      "execution_count": null,
      "metadata": {
        "id": "PONzJPSItMSi"
      },
      "outputs": [],
      "source": [
        "output"
      ]
    },
    {
      "cell_type": "markdown",
      "metadata": {
        "id": "C07yat33ZDd4"
      },
      "source": [
        "---\n",
        "\n",
        "## ⭐ Bonus: Build Our Own Tokenizer\n"
      ]
    },
    {
      "cell_type": "code",
      "execution_count": null,
      "metadata": {
        "id": "upJMZnBBwAdz"
      },
      "outputs": [],
      "source": [
        "# 🧰 Step 0: Install Required Libraries\n",
        "!pip install -q tokenizers\n"
      ]
    },
    {
      "cell_type": "code",
      "execution_count": null,
      "metadata": {
        "id": "84XfnBMlwG3I"
      },
      "outputs": [],
      "source": [
        "# 📦 Step 1: Prepare a small corpus for training\n",
        "custom_corpus = [\n",
        "    \"CyberBuddy is your AI-powered cybersecurity assistant.\",\n",
        "    \"Phishing attacks are dangerous and increasing in India.\",\n",
        "    \"OTP frauds, malware, spyware — CyberBuddy helps prevent them.\",\n",
        "    \"A good assistant understands your needs and protects your identity.\",\n",
        "    \"India’s cybercrime rate is growing — awareness is key.\"\n",
        "]\n"
      ]
    },
    {
      "cell_type": "code",
      "execution_count": null,
      "metadata": {
        "id": "yEUZPOoVwJOU"
      },
      "outputs": [],
      "source": [
        "with open(\"corpus.txt\", \"w\") as f:\n",
        "    for line in custom_corpus:\n",
        "        f.write(line + \"\\n\")\n"
      ]
    },
    {
      "cell_type": "code",
      "execution_count": null,
      "metadata": {
        "id": "AzG0H0xPwPJ_"
      },
      "outputs": [],
      "source": [
        "\n",
        "# 🔧 Step 2: Train a BPE Tokenizer from scratch\n",
        "from tokenizers import Tokenizer\n",
        "from tokenizers.models import BPE\n",
        "from tokenizers.trainers import BpeTrainer\n",
        "from tokenizers.pre_tokenizers import Whitespace\n"
      ]
    },
    {
      "cell_type": "code",
      "execution_count": null,
      "metadata": {
        "id": "hJxZ8aiIwVO4"
      },
      "outputs": [],
      "source": [
        "# Initialize empty BPE tokenizer\n",
        "tokenizer = Tokenizer(BPE())\n",
        "tokenizer.pre_tokenizer = Whitespace()\n",
        "\n",
        "trainer = BpeTrainer(vocab_size=100, special_tokens=[\"[PAD]\", \"[UNK]\", \"[CLS]\", \"[SEP]\", \"[MASK]\"])\n",
        "tokenizer.train([\"corpus.txt\"], trainer)\n"
      ]
    },
    {
      "cell_type": "code",
      "execution_count": null,
      "metadata": {
        "id": "9CiAHfkowXul"
      },
      "outputs": [],
      "source": [
        "# 💾 Save tokenizer\n",
        "tokenizer.save(\"cyberbuddy-tokenizer.json\")\n"
      ]
    },
    {
      "cell_type": "code",
      "execution_count": null,
      "metadata": {
        "id": "Jb2nNeIRwdUq"
      },
      "outputs": [],
      "source": [
        "# 🔁 Step 3: Load and Test the Trained Tokenizer\n",
        "from tokenizers import Tokenizer as LoadTokenizer\n",
        "loaded_tokenizer = LoadTokenizer.from_file(\"cyberbuddy-tokenizer.json\")\n"
      ]
    },
    {
      "cell_type": "code",
      "execution_count": null,
      "metadata": {
        "id": "SNXQzKrswkJ3"
      },
      "outputs": [],
      "source": [
        "# Tokenize custom sentence\n",
        "text = \"CyberBuddy prevents phishing and OTP fraud.\"\n",
        "output = loaded_tokenizer.encode(text)\n"
      ]
    },
    {
      "cell_type": "code",
      "execution_count": null,
      "metadata": {
        "id": "t-4qaPmVwu82"
      },
      "outputs": [],
      "source": [
        "\n",
        "print(f\"Input: {text}\")\n",
        "print(f\"Tokens: {output.tokens}\")\n",
        "print(f\"Token IDs: {output.ids}\")\n"
      ]
    },
    {
      "cell_type": "code",
      "execution_count": null,
      "metadata": {
        "id": "RytTc9c1wyAx"
      },
      "outputs": [],
      "source": [
        "\n",
        "# 🔍 Step 4: Compare with GPT-2 Tokenizer\n",
        "from transformers import AutoTokenizer\n",
        "hf_tokenizer = AutoTokenizer.from_pretrained(\"gpt2\")\n",
        "\n",
        "print(\"\\n[GPT-2 Tokenizer]\")\n",
        "hf_output = hf_tokenizer.tokenize(text)\n",
        "print(\"GPT-2 Tokens:\", hf_output)\n"
      ]
    },
    {
      "cell_type": "markdown",
      "metadata": {
        "id": "au5eaPeNZoq3"
      },
      "source": [
        "\n",
        "We:\n",
        "\n",
        "* Trained a custom BPE tokenizer on cybercrime text\n",
        "\n",
        "* Saved, reloaded, and tested it\n",
        "\n",
        "* Compared it with GPT-2\n",
        "\n",
        "This gave us full control over how CyberBuddy or any assistant interprets your domain-specific text 🧠⚙️\n",
        "\n",
        "---"
      ]
    },
    {
      "cell_type": "markdown",
      "metadata": {
        "id": "yY_0tDbEZ6QG"
      },
      "source": [
        "# **📘 Day-4: Dataset Proprocessing for Fine-Tuning (CyberBuddy Edition)**"
      ]
    },
    {
      "cell_type": "markdown",
      "metadata": {
        "id": "ekkDUS-5amMD"
      },
      "source": [
        "🧠 **Why Preprocedd Data for Fine-Tuning?**\n",
        "> Fine-Tuning teaches the model how to behave in specific situations - in our case, answersng questions about cyber crime in India\n",
        "\n",
        "> But raw data (like our JSON with crime_type, description, etc.) isn't enough — we need to restructure it into instruction-following format the model can learn from."
      ]
    },
    {
      "cell_type": "markdown",
      "metadata": {
        "id": "DPQWf_AsbaVU"
      },
      "source": [
        "🤖 **What does the model expect?**\n",
        "> LLMs traqined from instruction-following mode (like Mistral, LLaMA) learn from prompt like this:\n",
        "\n",
        "> ```\n",
        "<s>[INST] Your question goes here [/INST] The assistant’s helpful answer goes here </s>\n",
        "```\n",
        "\n",
        "* The `[INST]...[/INST]` marks the instruction.\n",
        "\n",
        "* After `[/INST]`, you write the response.\n",
        "\n",
        "* The `<s>` and `</s>` mark the start and end of a conversation.\n",
        "\n",
        "> This teaches the model: “When I see a question like this, I should respond like that.”\n",
        "\n"
      ]
    },
    {
      "cell_type": "markdown",
      "metadata": {
        "id": "qvEuE6yIpANB"
      },
      "source": [
        "🧾 **Our Cyber Crime Dataset Structure**\n",
        "\n",
        "Our JSON entries look like this:\n",
        "\n",
        "```\n",
        "{\n",
        "  \"crime_type\": \"Hacking\",\n",
        "  \"description\": \"...\",\n",
        "  \"applicable_laws\": \"...\",\n",
        "  \"penalty\": \"...\",\n",
        "  \"prevention_tips\": [...],\n",
        "  \"source_url\": \"...\"\n",
        "}\n",
        "\n",
        "```\n",
        "\n",
        "But what the model needs is something like this:\n",
        "\n",
        "```\n",
        "<s>[INST] What is the punishment and applicable law for Hacking? [/INST]\n",
        "Description: ...\n",
        "Applicable Law: ...\n",
        "Penalty: ...\n",
        "Prevention Tips: ...\n",
        "Source: ...\n",
        "</s>\n",
        "\n",
        "```"
      ]
    },
    {
      "cell_type": "markdown",
      "metadata": {
        "id": "0PtgxOL1phX3"
      },
      "source": [
        "✨ What We’ll Learn Today\n",
        "By the end of Day 4, you’ll know:\n",
        "\n",
        "✅ What instruction-tuning format is\n",
        "\n",
        "✅ Why it’s needed\n",
        "\n",
        "✅ How to write a data formatter that takes your JSON → model-ready format\n",
        "\n",
        "✅ How to save your data as .jsonl (one sample per line)"
      ]
    },
    {
      "cell_type": "code",
      "execution_count": null,
      "metadata": {
        "colab": {
          "base_uri": "https://localhost:8080/"
        },
        "id": "5OKbuJKig9pO",
        "outputId": "6318d042-3d1b-4ee2-e098-d015795f37bb"
      },
      "outputs": [
        {
          "name": "stdout",
          "output_type": "stream",
          "text": [
            "Found existing installation: datasets 3.6.0\n",
            "Uninstalling datasets-3.6.0:\n",
            "  Would remove:\n",
            "    /usr/local/bin/datasets-cli\n",
            "    /usr/local/lib/python3.11/dist-packages/datasets-3.6.0.dist-info/*\n",
            "    /usr/local/lib/python3.11/dist-packages/datasets/*\n",
            "Proceed (Y/n)? y\n",
            "  Successfully uninstalled datasets-3.6.0\n"
          ]
        }
      ],
      "source": [
        "!pip3 uninstall datasets"
      ]
    },
    {
      "cell_type": "code",
      "execution_count": null,
      "metadata": {
        "id": "Yid7TxCDXkMu"
      },
      "outputs": [],
      "source": [
        "!pip3 install -U datasets"
      ]
    },
    {
      "cell_type": "markdown",
      "metadata": {
        "id": "6JKvM1OPYfaf"
      },
      "source": [
        "## **Load the Dataset**"
      ]
    },
    {
      "cell_type": "code",
      "execution_count": null,
      "metadata": {
        "colab": {
          "base_uri": "https://localhost:8080/",
          "height": 49,
          "referenced_widgets": [
            "7ef5002178324369bfd99b85c779b08b",
            "748a728756c24405ba304d31bd307d54",
            "df61c4226b804ec89ebb48443b8932c2",
            "7348bf8cf2c04f9780c60a844ef78d26",
            "1a5f878fdbf24f71b6b806cc349a4208",
            "212272c4c57d4d09bac1a25ed3ab0ac0",
            "30977cabadad489badb27f5a8aa6b47e",
            "58a227140a884f3c9453cf9f25134321",
            "b0c5a1d3e48343aa88337462e541c0b6",
            "19dee76f642648e9a8196e54af6ca94a",
            "c229e256c0e941138d0e739121e72489"
          ]
        },
        "id": "HImOTt-WrB1D",
        "outputId": "af1f6eb7-f712-44db-9826-22a0cacbc1ff"
      },
      "outputs": [
        {
          "data": {
            "application/vnd.jupyter.widget-view+json": {
              "model_id": "7ef5002178324369bfd99b85c779b08b",
              "version_major": 2,
              "version_minor": 0
            },
            "text/plain": [
              "Generating train split: 0 examples [00:00, ? examples/s]"
            ]
          },
          "metadata": {},
          "output_type": "display_data"
        }
      ],
      "source": [
        "from datasets import load_dataset\n",
        "\n",
        "dataset = load_dataset(\"json\", data_files=\"/content/drive/MyDrive/Fine Tuning CyberBuddy/data/cybercrime_dataset.json\", split=\"train\")"
      ]
    },
    {
      "cell_type": "code",
      "execution_count": null,
      "metadata": {
        "colab": {
          "base_uri": "https://localhost:8080/"
        },
        "id": "0TICoxJiWDUv",
        "outputId": "e600b697-ed40-4bca-ebc6-890a9941099a"
      },
      "outputs": [
        {
          "data": {
            "text/plain": [
              "Dataset({\n",
              "    features: ['crime_type', 'description', 'applicable_laws', 'penalty', 'prevention_tips', 'source_url'],\n",
              "    num_rows: 406\n",
              "})"
            ]
          },
          "execution_count": 14,
          "metadata": {},
          "output_type": "execute_result"
        }
      ],
      "source": [
        "dataset"
      ]
    },
    {
      "cell_type": "code",
      "execution_count": null,
      "metadata": {
        "colab": {
          "base_uri": "https://localhost:8080/"
        },
        "id": "BoB92GDXXtGX",
        "outputId": "00030a80-73ab-4948-9c71-6f920d986ecf"
      },
      "outputs": [
        {
          "data": {
            "text/plain": [
              "({'crime_type': 'Tampering with computer source documents',\n",
              "  'description': 'Knowingly concealing, destroying or altering computer source code required by law.',\n",
              "  'applicable_laws': 'Section\\xa065, IT\\xa0Act\\xa02000',\n",
              "  'penalty': 'Imprisonment up to 3\\u202fyears, or fine up to ₹2\\u202flakh, or both.',\n",
              "  'prevention_tips': ['Use version control',\n",
              "   'Maintain secure backups',\n",
              "   'Restrict source code access'],\n",
              "  'source_url': 'https://indiacode.nic.in/show-data?actid=AC_CEN_45_76_00001_200021_1517807324077&orderno=75'},\n",
              " 'Tampering with computer source documents')"
            ]
          },
          "execution_count": 15,
          "metadata": {},
          "output_type": "execute_result"
        }
      ],
      "source": [
        "entry = dataset[0]\n",
        "\n",
        "entry, entry['crime_type']"
      ]
    },
    {
      "cell_type": "markdown",
      "metadata": {
        "id": "2xZMqilOb3PE"
      },
      "source": [
        "Description, applicable laws, penalty, prevention tips, source url"
      ]
    },
    {
      "cell_type": "code",
      "execution_count": null,
      "metadata": {
        "colab": {
          "base_uri": "https://localhost:8080/",
          "height": 36
        },
        "id": "UT3DOxLRgUpP",
        "outputId": "6c64d6ea-5256-4336-cbcf-894f3f73f619"
      },
      "outputs": [
        {
          "data": {
            "application/vnd.google.colaboratory.intrinsic+json": {
              "type": "string"
            },
            "text/plain": [
              "'Section\\xa065, IT\\xa0Act\\xa02000'"
            ]
          },
          "execution_count": 16,
          "metadata": {},
          "output_type": "execute_result"
        }
      ],
      "source": [
        "\n",
        "dataset[0]['applicable_laws']"
      ]
    },
    {
      "cell_type": "code",
      "execution_count": null,
      "metadata": {
        "id": "snrykQPgac2q"
      },
      "outputs": [],
      "source": [
        "def clean_unicode(text):\n",
        "    # Replace known invisible unicode characters with space or nothing\n",
        "    return (text.replace('\\xa0', ' ')\n",
        "                .replace('\\u202f', ' ')\n",
        "                .replace('\\u200b', '')  # zero-width space\n",
        "                .replace('\\ufeff', '')  # BOM\n",
        "                .replace('\\u2060', '')  # Word joiner\n",
        "            )"
      ]
    },
    {
      "cell_type": "code",
      "execution_count": null,
      "metadata": {
        "id": "NcGmOSZAZQNW"
      },
      "outputs": [],
      "source": [
        "def format(entry):\n",
        "    instruction = f\"What is the law and punishment for {entry['crime_type']}?\"\n",
        "    output_parts = [\n",
        "        f\"Description: {entry['description']}\",\n",
        "        f\"Applicable Laws: {entry['applicable_laws']}\",\n",
        "        f\"Penalty: {entry['penalty']}\",\n",
        "        f\"Prevention Tips: {entry['prevention_tips']}\",\n",
        "        f\"Source URL: {entry['source_url']}\"\n",
        "    ]\n",
        "    output = '\\n'.join(output_parts)\n",
        "    del entry['crime_type']\n",
        "    del entry['description']\n",
        "    del entry['applicable_laws']\n",
        "    del entry['penalty']\n",
        "    del entry['prevention_tips']\n",
        "    del entry['source_url']\n",
        "\n",
        "    return {\n",
        "        'instruction': clean_unicode(instruction),\n",
        "        \"input\": \"\",\n",
        "        \"output\": clean_unicode(output),\n",
        "        \"text\": f\"<s>[INST] {clean_unicode(instruction)} [/INST] \\n {clean_unicode(output)} </s>\"\n",
        "    }\n",
        "\n"
      ]
    },
    {
      "cell_type": "code",
      "execution_count": null,
      "metadata": {
        "colab": {
          "base_uri": "https://localhost:8080/"
        },
        "id": "BNpGaJeEg43N",
        "outputId": "bbc5030b-5d49-4c5d-f232-408a47f296df"
      },
      "outputs": [
        {
          "data": {
            "text/plain": [
              "{'instruction': 'What is the law and punishment for Tampering with computer source documents?',\n",
              " 'input': '',\n",
              " 'output': \"Description: Knowingly concealing, destroying or altering computer source code required by law.\\nApplicable Laws: Section 65, IT Act 2000\\nPenalty: Imprisonment up to 3 years, or fine up to ₹2 lakh, or both.\\nPrevention Tips: ['Use version control', 'Maintain secure backups', 'Restrict source code access']\\nSource URL: https://indiacode.nic.in/show-data?actid=AC_CEN_45_76_00001_200021_1517807324077&orderno=75\",\n",
              " 'text': \"<s>[INST] What is the law and punishment for Tampering with computer source documents? [/INST] \\n Description: Knowingly concealing, destroying or altering computer source code required by law.\\nApplicable Laws: Section 65, IT Act 2000\\nPenalty: Imprisonment up to 3 years, or fine up to ₹2 lakh, or both.\\nPrevention Tips: ['Use version control', 'Maintain secure backups', 'Restrict source code access']\\nSource URL: https://indiacode.nic.in/show-data?actid=AC_CEN_45_76_00001_200021_1517807324077&orderno=75 </s>\"}"
            ]
          },
          "execution_count": 19,
          "metadata": {},
          "output_type": "execute_result"
        }
      ],
      "source": [
        "format(dataset[0])"
      ]
    },
    {
      "cell_type": "code",
      "execution_count": null,
      "metadata": {
        "colab": {
          "base_uri": "https://localhost:8080/",
          "height": 49,
          "referenced_widgets": [
            "12b264cc9a9a4c42b5681b775c809305",
            "7f9593c188b2419cb8a6a7ec4f2e05c4",
            "3dcc731f45bf4559b4bbc5fb81bab69c",
            "ea2fbf8225594f5c8548568c5ca7b6b3",
            "d344098091b445d6b1a263e3ea66a54c",
            "f78be504318b4f968b3cb925d88bf803",
            "e6ab5c8c435a42b3a706a7846db229b7",
            "f88cfc00e5d446cea954c2fcb0a8bf7d",
            "4bd516d3ad52449dbf9b2defea753299",
            "82c7ecc3dbdf4973af901b1ca9c678ba",
            "61b4f59c488d4df690c115e66f10f3dd"
          ]
        },
        "id": "Q2yOQAScyAkY",
        "outputId": "83267c9b-2b88-4ffa-f9c7-4ebe638b63a7"
      },
      "outputs": [
        {
          "data": {
            "application/vnd.jupyter.widget-view+json": {
              "model_id": "12b264cc9a9a4c42b5681b775c809305",
              "version_major": 2,
              "version_minor": 0
            },
            "text/plain": [
              "Map:   0%|          | 0/406 [00:00<?, ? examples/s]"
            ]
          },
          "metadata": {},
          "output_type": "display_data"
        }
      ],
      "source": [
        "# Format Dataset\n",
        "\n",
        "dataset = dataset.map(format)"
      ]
    },
    {
      "cell_type": "code",
      "execution_count": null,
      "metadata": {
        "colab": {
          "base_uri": "https://localhost:8080/"
        },
        "id": "cfKl_XAbZMFQ",
        "outputId": "eb7c83f1-8959-44a5-a2a8-a9bfddcb31e4"
      },
      "outputs": [
        {
          "data": {
            "text/plain": [
              "{'instruction': 'What is the law and punishment for Tampering with computer source documents?',\n",
              " 'input': '',\n",
              " 'output': \"Description: Knowingly concealing, destroying or altering computer source code required by law.\\nApplicable Laws: Section 65, IT Act 2000\\nPenalty: Imprisonment up to 3 years, or fine up to ₹2 lakh, or both.\\nPrevention Tips: ['Use version control', 'Maintain secure backups', 'Restrict source code access']\\nSource URL: https://indiacode.nic.in/show-data?actid=AC_CEN_45_76_00001_200021_1517807324077&orderno=75\",\n",
              " 'text': \"<s>[INST] What is the law and punishment for Tampering with computer source documents? [/INST] \\n Description: Knowingly concealing, destroying or altering computer source code required by law.\\nApplicable Laws: Section 65, IT Act 2000\\nPenalty: Imprisonment up to 3 years, or fine up to ₹2 lakh, or both.\\nPrevention Tips: ['Use version control', 'Maintain secure backups', 'Restrict source code access']\\nSource URL: https://indiacode.nic.in/show-data?actid=AC_CEN_45_76_00001_200021_1517807324077&orderno=75 </s>\"}"
            ]
          },
          "execution_count": 21,
          "metadata": {},
          "output_type": "execute_result"
        }
      ],
      "source": [
        "dataset[0]"
      ]
    },
    {
      "cell_type": "markdown",
      "metadata": {
        "id": "T78O41XMeCt0"
      },
      "source": [
        "```\n",
        "{\n",
        "    \"instruction\": \"What is the law and punishment for Tampering with computer source documents?\",\n",
        "    \"input\": \"\",\n",
        "    \"output\": \"🔍 Description: Knowingly concealing, destroying or altering computer source code required by law.\\n⚖️ Law: Section 65, IT Act 2000\\n🚨 Penalty: Imprisonment up to 3 years, or fine up to ₹2 lakh, or both.\\n✅ Prevention Tips: Use version control, Maintain secure backups, Restrict source code access\",\n",
        "    \"text\": \"<s>[INST] What is the law and punishment for Tampering with computer source documents? [/INST] 🔍 Description: Knowingly concealing, destroying or altering computer source code required by law.\\n⚖️ Law: Section 65, IT Act 2000\\n🚨 Penalty: Imprisonment up to 3 years, or fine up to ₹2 lakh, or both.\\n✅ Prevention Tips: Use version control, Maintain secure backups, Restrict source code access</s>\"\n",
        "  },\n",
        "\n",
        "```\n"
      ]
    },
    {
      "cell_type": "markdown",
      "metadata": {
        "id": "0nw7xHNzbqhV"
      },
      "source": [
        "### **Shuffle Dataset**"
      ]
    },
    {
      "cell_type": "code",
      "execution_count": null,
      "metadata": {
        "id": "oiUhFnEubwAg"
      },
      "outputs": [],
      "source": [
        "dataset = dataset.shuffle(seed=42)\n"
      ]
    },
    {
      "cell_type": "markdown",
      "metadata": {
        "id": "v6MCcj0Zbz2N"
      },
      "source": [
        "### **Split Dataset**"
      ]
    },
    {
      "cell_type": "code",
      "execution_count": null,
      "metadata": {
        "id": "2ABDI_LOb5KZ"
      },
      "outputs": [],
      "source": [
        "split_dataset = dataset.train_test_split(test_size=0.2)   # 80 - 20 ratio\n",
        "\n",
        "train_dataset = split_dataset['train']\n",
        "eval_dataset = split_dataset['test']"
      ]
    },
    {
      "cell_type": "code",
      "execution_count": null,
      "metadata": {
        "colab": {
          "base_uri": "https://localhost:8080/"
        },
        "id": "j1mVXIZVcCpb",
        "outputId": "6992a650-f1e8-47a0-edf4-798519f7d17a"
      },
      "outputs": [
        {
          "data": {
            "text/plain": [
              "(Dataset({\n",
              "     features: ['instruction', 'input', 'output', 'text'],\n",
              "     num_rows: 324\n",
              " }),\n",
              " Dataset({\n",
              "     features: ['instruction', 'input', 'output', 'text'],\n",
              "     num_rows: 82\n",
              " }))"
            ]
          },
          "execution_count": 24,
          "metadata": {},
          "output_type": "execute_result"
        }
      ],
      "source": [
        "train_dataset, eval_dataset"
      ]
    },
    {
      "cell_type": "markdown",
      "metadata": {
        "id": "74BQXtUmcNPP"
      },
      "source": [
        "## **Tokenization Time ✨**"
      ]
    },
    {
      "cell_type": "code",
      "execution_count": null,
      "metadata": {
        "id": "VdqfMHJ_ZiyQ"
      },
      "outputs": [],
      "source": [
        "from huggingface_hub import login\n",
        "login('HugginfFaceToken')\n",
        "token='HugginfFaceToken'"
      ]
    },
    {
      "cell_type": "markdown",
      "metadata": {
        "id": "IuR_7_VgcXcS"
      },
      "source": [
        "\n",
        "### Step-1: Load a Tokenizer"
      ]
    },
    {
      "cell_type": "code",
      "execution_count": null,
      "metadata": {
        "id": "wcGe6c12cTZk"
      },
      "outputs": [],
      "source": [
        "from transformers import AutoTokenizer\n",
        "\n",
        "tokenizer = AutoTokenizer.from_pretrained('mistralai/Mistral-7B-v0.1', use_fast=True)\n",
        "tokenizer.pad_token = tokenizer.eos_token"
      ]
    },
    {
      "cell_type": "markdown",
      "metadata": {
        "id": "8BIO5gZVZ_v1"
      },
      "source": [
        "### Step-2: Create Tokenization Function"
      ]
    },
    {
      "cell_type": "code",
      "execution_count": null,
      "metadata": {
        "id": "-tdRq-7nc4kZ"
      },
      "outputs": [],
      "source": [
        "def tokenize_function(example):\n",
        "    return tokenizer(\n",
        "        example['text'],\n",
        "        truncation=True,\n",
        "        padding='max_length',\n",
        "        max_length=512,\n",
        "        return_tensors='pt'\n",
        "    )"
      ]
    },
    {
      "cell_type": "markdown",
      "metadata": {
        "id": "_GhYa-0GbBcv"
      },
      "source": [
        "### Apply `.map()` for Tokenization"
      ]
    },
    {
      "cell_type": "code",
      "execution_count": null,
      "metadata": {
        "colab": {
          "base_uri": "https://localhost:8080/",
          "height": 220,
          "referenced_widgets": [
            "0f720e5a3314489abe3546523459d299",
            "0e3d933eac9142689ec1919b8ae6d8ba",
            "a03654dcfb524d479746b6e14e75ea92",
            "c9608370c9994fdd977ae5c0cc87a0e1",
            "c7840dea8b0a4cedacc0110040f9bac9",
            "9364042054d24c1592d076676c5968dc",
            "cc2eccdc26eb48559fafc21464bb4c05",
            "867e7f0f2e474268a5320734e08c17ec",
            "1afd9124685a4106bf4d9e02605b92d4",
            "e483a010113d46f9957b01516e16cc5b",
            "95154feb98ca4f9cbb30deba278d9671",
            "c96e28ba884f4444a63f06747df73a92",
            "9b8e96e5a2fb4846babb4f2a324e14c7",
            "3d502320c81f4d9494180138e048b664",
            "5395c12f1efe42d6a45b19953756c2db",
            "ba2d9627b25a41b493161c273160fc60",
            "9b5bc7e9358842ac9f3aeed43d7cabf2",
            "be07ce282aad4887b317395c445ec97b",
            "7e68d935233947f5b25633c73bb00977",
            "38cf3438630940c59afcf5f70c026c1f",
            "7fddaff5664043edb82996993dfc2823",
            "25629b1049514d589cd4307879ac2924"
          ]
        },
        "id": "vUtiTWPHeE2_",
        "outputId": "35e2d052-6484-473c-eecf-1a79eab36c63"
      },
      "outputs": [
        {
          "data": {
            "application/vnd.jupyter.widget-view+json": {
              "model_id": "0f720e5a3314489abe3546523459d299",
              "version_major": 2,
              "version_minor": 0
            },
            "text/plain": [
              "Map:   0%|          | 0/324 [00:00<?, ? examples/s]"
            ]
          },
          "metadata": {},
          "output_type": "display_data"
        },
        {
          "data": {
            "application/vnd.jupyter.widget-view+json": {
              "model_id": "c96e28ba884f4444a63f06747df73a92",
              "version_major": 2,
              "version_minor": 0
            },
            "text/plain": [
              "Map:   0%|          | 0/82 [00:00<?, ? examples/s]"
            ]
          },
          "metadata": {},
          "output_type": "display_data"
        },
        {
          "data": {
            "text/plain": [
              "(Dataset({\n",
              "     features: ['instruction', 'input', 'output', 'text', 'input_ids', 'attention_mask'],\n",
              "     num_rows: 324\n",
              " }),\n",
              " Dataset({\n",
              "     features: ['instruction', 'input', 'output', 'text', 'input_ids', 'attention_mask'],\n",
              "     num_rows: 82\n",
              " }))"
            ]
          },
          "execution_count": 28,
          "metadata": {},
          "output_type": "execute_result"
        }
      ],
      "source": [
        "train_dataset = train_dataset.map(tokenize_function, batched=True)\n",
        "eval_dataset = eval_dataset.map(tokenize_function, batched=True)\n",
        "\n",
        "train_dataset, eval_dataset"
      ]
    },
    {
      "cell_type": "markdown",
      "metadata": {
        "id": "325QEt0eeV9U"
      },
      "source": [
        "---\n",
        "\n",
        "# **🔥 Day 5: QLoRA Fine-Tuning Setup**\n"
      ]
    },
    {
      "cell_type": "markdown",
      "metadata": {
        "id": "aUWumlMviHEn"
      },
      "source": [
        "### 🎓 What is QLoRA?\n",
        "\n",
        "🧠 QLoRA stands for:\n",
        "\n",
        "> **`Quantized Low-Rank Adapter`** — a technique to efficiently fine-tune large language models (LLMs) like Mistral-7B on limited hardware (like our Colab GPU)."
      ]
    },
    {
      "cell_type": "markdown",
      "metadata": {
        "id": "R5a66BKKieDW"
      },
      "source": [
        "**🤔 Why do we need QLoRA?**\n",
        "\n",
        "| Without QLoRA                 | With QLoRA                                             |\n",
        "| ----------------------------- | ------------------------------------------------------ |\n",
        "| Requires > 48 GB VRAM 😵‍💫   | Fine-tunes on just 12–16 GB GPU (Colab-compatible!) 🥳 |\n",
        "| Full model weights updated 💸 | Only *tiny adapters* are trained 🧩                    |\n",
        "| Slow & expensive ⌛            | Fast & efficient ⚡                                     |\n"
      ]
    },
    {
      "cell_type": "markdown",
      "metadata": {
        "id": "SHYs9OFQixWp"
      },
      "source": [
        "**⚙️ QLoRA Workflow:**\n",
        "\n",
        "\n",
        "          ┌───────────────────────────┐\n",
        "          │  Base LLM (e.g. Mistral)  │\n",
        "          └────────────┬──────────────┘\n",
        "                       │\n",
        "        Load with 4-bit quantization  ← 💾 Memory-efficient\n",
        "                       │\n",
        "               Add LoRA adapters      ← 🧩 Small trainable modules\n",
        "                       │\n",
        "              Fine-tune on your data  ← 💻 CyberBuddy dataset\n",
        "                       │\n",
        "              Save only the adapters  ← 📁 Small files\n"
      ]
    },
    {
      "cell_type": "markdown",
      "metadata": {
        "id": "VayE3oAnjC4c"
      },
      "source": [
        "✅ Key Benefits:\n",
        "\n",
        "* ✅ You don't touch original weights (safe & reusable)\n",
        "\n",
        "* ✅ You can share adapters easily (like plugins!)\n",
        "\n",
        "* ✅ You can merge adapter with base model later if needed\n",
        "\n"
      ]
    },
    {
      "cell_type": "markdown",
      "metadata": {
        "id": "WeaKSPyMjY2G"
      },
      "source": [
        "🚨 Requirements for QLoRA Setup:\n",
        "\n",
        "* `transformers`\n",
        "\n",
        "* `accelerate`\n",
        "\n",
        "* `peft` (for LoRA)\n",
        "\n",
        "* `bitsandbytes` (for 4-bit quantization)\n",
        "\n",
        "* HuggingFace Datasets and Tokenizers"
      ]
    },
    {
      "cell_type": "markdown",
      "metadata": {
        "id": "fEe6rIU1jm8b"
      },
      "source": [
        "## **🧰 Step 1: Install Required Libraries**\n"
      ]
    },
    {
      "cell_type": "code",
      "execution_count": null,
      "metadata": {
        "colab": {
          "base_uri": "https://localhost:8080/"
        },
        "id": "hLUcMmmYj6-h",
        "outputId": "76cf1eb9-ff3a-4ae8-f535-4c229825b27d"
      },
      "outputs": [
        {
          "name": "stdout",
          "output_type": "stream",
          "text": [
            "\u001b[?25l   \u001b[90m━━━━━━━━━━━━━━━━━━━━━━━━━━━━━━━━━━━━━━━━\u001b[0m \u001b[32m0.0/375.8 kB\u001b[0m \u001b[31m?\u001b[0m eta \u001b[36m-:--:--\u001b[0m\r\u001b[2K   \u001b[90m━━━━━━━━━━━━━━━━━━━━━━━━━━━━━━━━━━━━━━━━\u001b[0m \u001b[32m375.8/375.8 kB\u001b[0m \u001b[31m16.2 MB/s\u001b[0m eta \u001b[36m0:00:00\u001b[0m\n",
            "\u001b[?25h"
          ]
        }
      ],
      "source": [
        "!pip3 install -q transformers datasets accelerate peft trl scipy"
      ]
    },
    {
      "cell_type": "code",
      "execution_count": null,
      "metadata": {
        "colab": {
          "base_uri": "https://localhost:8080/"
        },
        "id": "iXFCE7p4BCyf",
        "outputId": "3e45e7d3-dd25-4992-9aa0-48b25cfb341b"
      },
      "outputs": [
        {
          "name": "stdout",
          "output_type": "stream",
          "text": [
            "Collecting bitsandbytes\n",
            "  Downloading bitsandbytes-0.46.0-py3-none-manylinux_2_24_x86_64.whl.metadata (10 kB)\n",
            "Requirement already satisfied: torch<3,>=2.2 in /usr/local/lib/python3.11/dist-packages (from bitsandbytes) (2.6.0+cu124)\n",
            "Requirement already satisfied: numpy>=1.17 in /usr/local/lib/python3.11/dist-packages (from bitsandbytes) (2.0.2)\n",
            "Requirement already satisfied: filelock in /usr/local/lib/python3.11/dist-packages (from torch<3,>=2.2->bitsandbytes) (3.18.0)\n",
            "Requirement already satisfied: typing-extensions>=4.10.0 in /usr/local/lib/python3.11/dist-packages (from torch<3,>=2.2->bitsandbytes) (4.14.0)\n",
            "Requirement already satisfied: networkx in /usr/local/lib/python3.11/dist-packages (from torch<3,>=2.2->bitsandbytes) (3.5)\n",
            "Requirement already satisfied: jinja2 in /usr/local/lib/python3.11/dist-packages (from torch<3,>=2.2->bitsandbytes) (3.1.6)\n",
            "Requirement already satisfied: fsspec in /usr/local/lib/python3.11/dist-packages (from torch<3,>=2.2->bitsandbytes) (2025.3.2)\n",
            "Collecting nvidia-cuda-nvrtc-cu12==12.4.127 (from torch<3,>=2.2->bitsandbytes)\n",
            "  Downloading nvidia_cuda_nvrtc_cu12-12.4.127-py3-none-manylinux2014_x86_64.whl.metadata (1.5 kB)\n",
            "Collecting nvidia-cuda-runtime-cu12==12.4.127 (from torch<3,>=2.2->bitsandbytes)\n",
            "  Downloading nvidia_cuda_runtime_cu12-12.4.127-py3-none-manylinux2014_x86_64.whl.metadata (1.5 kB)\n",
            "Collecting nvidia-cuda-cupti-cu12==12.4.127 (from torch<3,>=2.2->bitsandbytes)\n",
            "  Downloading nvidia_cuda_cupti_cu12-12.4.127-py3-none-manylinux2014_x86_64.whl.metadata (1.6 kB)\n",
            "Collecting nvidia-cudnn-cu12==9.1.0.70 (from torch<3,>=2.2->bitsandbytes)\n",
            "  Downloading nvidia_cudnn_cu12-9.1.0.70-py3-none-manylinux2014_x86_64.whl.metadata (1.6 kB)\n",
            "Collecting nvidia-cublas-cu12==12.4.5.8 (from torch<3,>=2.2->bitsandbytes)\n",
            "  Downloading nvidia_cublas_cu12-12.4.5.8-py3-none-manylinux2014_x86_64.whl.metadata (1.5 kB)\n",
            "Collecting nvidia-cufft-cu12==11.2.1.3 (from torch<3,>=2.2->bitsandbytes)\n",
            "  Downloading nvidia_cufft_cu12-11.2.1.3-py3-none-manylinux2014_x86_64.whl.metadata (1.5 kB)\n",
            "Collecting nvidia-curand-cu12==10.3.5.147 (from torch<3,>=2.2->bitsandbytes)\n",
            "  Downloading nvidia_curand_cu12-10.3.5.147-py3-none-manylinux2014_x86_64.whl.metadata (1.5 kB)\n",
            "Collecting nvidia-cusolver-cu12==11.6.1.9 (from torch<3,>=2.2->bitsandbytes)\n",
            "  Downloading nvidia_cusolver_cu12-11.6.1.9-py3-none-manylinux2014_x86_64.whl.metadata (1.6 kB)\n",
            "Collecting nvidia-cusparse-cu12==12.3.1.170 (from torch<3,>=2.2->bitsandbytes)\n",
            "  Downloading nvidia_cusparse_cu12-12.3.1.170-py3-none-manylinux2014_x86_64.whl.metadata (1.6 kB)\n",
            "Requirement already satisfied: nvidia-cusparselt-cu12==0.6.2 in /usr/local/lib/python3.11/dist-packages (from torch<3,>=2.2->bitsandbytes) (0.6.2)\n",
            "Requirement already satisfied: nvidia-nccl-cu12==2.21.5 in /usr/local/lib/python3.11/dist-packages (from torch<3,>=2.2->bitsandbytes) (2.21.5)\n",
            "Requirement already satisfied: nvidia-nvtx-cu12==12.4.127 in /usr/local/lib/python3.11/dist-packages (from torch<3,>=2.2->bitsandbytes) (12.4.127)\n",
            "Collecting nvidia-nvjitlink-cu12==12.4.127 (from torch<3,>=2.2->bitsandbytes)\n",
            "  Downloading nvidia_nvjitlink_cu12-12.4.127-py3-none-manylinux2014_x86_64.whl.metadata (1.5 kB)\n",
            "Requirement already satisfied: triton==3.2.0 in /usr/local/lib/python3.11/dist-packages (from torch<3,>=2.2->bitsandbytes) (3.2.0)\n",
            "Requirement already satisfied: sympy==1.13.1 in /usr/local/lib/python3.11/dist-packages (from torch<3,>=2.2->bitsandbytes) (1.13.1)\n",
            "Requirement already satisfied: mpmath<1.4,>=1.1.0 in /usr/local/lib/python3.11/dist-packages (from sympy==1.13.1->torch<3,>=2.2->bitsandbytes) (1.3.0)\n",
            "Requirement already satisfied: MarkupSafe>=2.0 in /usr/local/lib/python3.11/dist-packages (from jinja2->torch<3,>=2.2->bitsandbytes) (3.0.2)\n",
            "Downloading bitsandbytes-0.46.0-py3-none-manylinux_2_24_x86_64.whl (67.0 MB)\n",
            "\u001b[2K   \u001b[90m━━━━━━━━━━━━━━━━━━━━━━━━━━━━━━━━━━━━━━━━\u001b[0m \u001b[32m67.0/67.0 MB\u001b[0m \u001b[31m14.2 MB/s\u001b[0m eta \u001b[36m0:00:00\u001b[0m\n",
            "\u001b[?25hDownloading nvidia_cublas_cu12-12.4.5.8-py3-none-manylinux2014_x86_64.whl (363.4 MB)\n",
            "\u001b[2K   \u001b[90m━━━━━━━━━━━━━━━━━━━━━━━━━━━━━━━━━━━━━━━━\u001b[0m \u001b[32m363.4/363.4 MB\u001b[0m \u001b[31m4.7 MB/s\u001b[0m eta \u001b[36m0:00:00\u001b[0m\n",
            "\u001b[?25hDownloading nvidia_cuda_cupti_cu12-12.4.127-py3-none-manylinux2014_x86_64.whl (13.8 MB)\n",
            "\u001b[2K   \u001b[90m━━━━━━━━━━━━━━━━━━━━━━━━━━━━━━━━━━━━━━━━\u001b[0m \u001b[32m13.8/13.8 MB\u001b[0m \u001b[31m114.7 MB/s\u001b[0m eta \u001b[36m0:00:00\u001b[0m\n",
            "\u001b[?25hDownloading nvidia_cuda_nvrtc_cu12-12.4.127-py3-none-manylinux2014_x86_64.whl (24.6 MB)\n",
            "\u001b[2K   \u001b[90m━━━━━━━━━━━━━━━━━━━━━━━━━━━━━━━━━━━━━━━━\u001b[0m \u001b[32m24.6/24.6 MB\u001b[0m \u001b[31m89.9 MB/s\u001b[0m eta \u001b[36m0:00:00\u001b[0m\n",
            "\u001b[?25hDownloading nvidia_cuda_runtime_cu12-12.4.127-py3-none-manylinux2014_x86_64.whl (883 kB)\n",
            "\u001b[2K   \u001b[90m━━━━━━━━━━━━━━━━━━━━━━━━━━━━━━━━━━━━━━━━\u001b[0m \u001b[32m883.7/883.7 kB\u001b[0m \u001b[31m62.2 MB/s\u001b[0m eta \u001b[36m0:00:00\u001b[0m\n",
            "\u001b[?25hDownloading nvidia_cudnn_cu12-9.1.0.70-py3-none-manylinux2014_x86_64.whl (664.8 MB)\n",
            "\u001b[2K   \u001b[90m━━━━━━━━━━━━━━━━━━━━━━━━━━━━━━━━━━━━━━━\u001b[0m \u001b[32m664.8/664.8 MB\u001b[0m \u001b[31m925.0 kB/s\u001b[0m eta \u001b[36m0:00:00\u001b[0m\n",
            "\u001b[?25hDownloading nvidia_cufft_cu12-11.2.1.3-py3-none-manylinux2014_x86_64.whl (211.5 MB)\n",
            "\u001b[2K   \u001b[90m━━━━━━━━━━━━━━━━━━━━━━━━━━━━━━━━━━━━━━━━\u001b[0m \u001b[32m211.5/211.5 MB\u001b[0m \u001b[31m6.4 MB/s\u001b[0m eta \u001b[36m0:00:00\u001b[0m\n",
            "\u001b[?25hDownloading nvidia_curand_cu12-10.3.5.147-py3-none-manylinux2014_x86_64.whl (56.3 MB)\n",
            "\u001b[2K   \u001b[90m━━━━━━━━━━━━━━━━━━━━━━━━━━━━━━━━━━━━━━━━\u001b[0m \u001b[32m56.3/56.3 MB\u001b[0m \u001b[31m13.3 MB/s\u001b[0m eta \u001b[36m0:00:00\u001b[0m\n",
            "\u001b[?25hDownloading nvidia_cusolver_cu12-11.6.1.9-py3-none-manylinux2014_x86_64.whl (127.9 MB)\n",
            "\u001b[2K   \u001b[90m━━━━━━━━━━━━━━━━━━━━━━━━━━━━━━━━━━━━━━━━\u001b[0m \u001b[32m127.9/127.9 MB\u001b[0m \u001b[31m8.2 MB/s\u001b[0m eta \u001b[36m0:00:00\u001b[0m\n",
            "\u001b[?25hDownloading nvidia_cusparse_cu12-12.3.1.170-py3-none-manylinux2014_x86_64.whl (207.5 MB)\n",
            "\u001b[2K   \u001b[90m━━━━━━━━━━━━━━━━━━━━━━━━━━━━━━━━━━━━━━━━\u001b[0m \u001b[32m207.5/207.5 MB\u001b[0m \u001b[31m6.3 MB/s\u001b[0m eta \u001b[36m0:00:00\u001b[0m\n",
            "\u001b[?25hDownloading nvidia_nvjitlink_cu12-12.4.127-py3-none-manylinux2014_x86_64.whl (21.1 MB)\n",
            "\u001b[2K   \u001b[90m━━━━━━━━━━━━━━━━━━━━━━━━━━━━━━━━━━━━━━━━\u001b[0m \u001b[32m21.1/21.1 MB\u001b[0m \u001b[31m97.4 MB/s\u001b[0m eta \u001b[36m0:00:00\u001b[0m\n",
            "\u001b[?25hInstalling collected packages: nvidia-nvjitlink-cu12, nvidia-curand-cu12, nvidia-cufft-cu12, nvidia-cuda-runtime-cu12, nvidia-cuda-nvrtc-cu12, nvidia-cuda-cupti-cu12, nvidia-cublas-cu12, nvidia-cusparse-cu12, nvidia-cudnn-cu12, nvidia-cusolver-cu12, bitsandbytes\n",
            "  Attempting uninstall: nvidia-nvjitlink-cu12\n",
            "    Found existing installation: nvidia-nvjitlink-cu12 12.5.82\n",
            "    Uninstalling nvidia-nvjitlink-cu12-12.5.82:\n",
            "      Successfully uninstalled nvidia-nvjitlink-cu12-12.5.82\n",
            "  Attempting uninstall: nvidia-curand-cu12\n",
            "    Found existing installation: nvidia-curand-cu12 10.3.6.82\n",
            "    Uninstalling nvidia-curand-cu12-10.3.6.82:\n",
            "      Successfully uninstalled nvidia-curand-cu12-10.3.6.82\n",
            "  Attempting uninstall: nvidia-cufft-cu12\n",
            "    Found existing installation: nvidia-cufft-cu12 11.2.3.61\n",
            "    Uninstalling nvidia-cufft-cu12-11.2.3.61:\n",
            "      Successfully uninstalled nvidia-cufft-cu12-11.2.3.61\n",
            "  Attempting uninstall: nvidia-cuda-runtime-cu12\n",
            "    Found existing installation: nvidia-cuda-runtime-cu12 12.5.82\n",
            "    Uninstalling nvidia-cuda-runtime-cu12-12.5.82:\n",
            "      Successfully uninstalled nvidia-cuda-runtime-cu12-12.5.82\n",
            "  Attempting uninstall: nvidia-cuda-nvrtc-cu12\n",
            "    Found existing installation: nvidia-cuda-nvrtc-cu12 12.5.82\n",
            "    Uninstalling nvidia-cuda-nvrtc-cu12-12.5.82:\n",
            "      Successfully uninstalled nvidia-cuda-nvrtc-cu12-12.5.82\n",
            "  Attempting uninstall: nvidia-cuda-cupti-cu12\n",
            "    Found existing installation: nvidia-cuda-cupti-cu12 12.5.82\n",
            "    Uninstalling nvidia-cuda-cupti-cu12-12.5.82:\n",
            "      Successfully uninstalled nvidia-cuda-cupti-cu12-12.5.82\n",
            "  Attempting uninstall: nvidia-cublas-cu12\n",
            "    Found existing installation: nvidia-cublas-cu12 12.5.3.2\n",
            "    Uninstalling nvidia-cublas-cu12-12.5.3.2:\n",
            "      Successfully uninstalled nvidia-cublas-cu12-12.5.3.2\n",
            "  Attempting uninstall: nvidia-cusparse-cu12\n",
            "    Found existing installation: nvidia-cusparse-cu12 12.5.1.3\n",
            "    Uninstalling nvidia-cusparse-cu12-12.5.1.3:\n",
            "      Successfully uninstalled nvidia-cusparse-cu12-12.5.1.3\n",
            "  Attempting uninstall: nvidia-cudnn-cu12\n",
            "    Found existing installation: nvidia-cudnn-cu12 9.3.0.75\n",
            "    Uninstalling nvidia-cudnn-cu12-9.3.0.75:\n",
            "      Successfully uninstalled nvidia-cudnn-cu12-9.3.0.75\n",
            "  Attempting uninstall: nvidia-cusolver-cu12\n",
            "    Found existing installation: nvidia-cusolver-cu12 11.6.3.83\n",
            "    Uninstalling nvidia-cusolver-cu12-11.6.3.83:\n",
            "      Successfully uninstalled nvidia-cusolver-cu12-11.6.3.83\n",
            "Successfully installed bitsandbytes-0.46.0 nvidia-cublas-cu12-12.4.5.8 nvidia-cuda-cupti-cu12-12.4.127 nvidia-cuda-nvrtc-cu12-12.4.127 nvidia-cuda-runtime-cu12-12.4.127 nvidia-cudnn-cu12-9.1.0.70 nvidia-cufft-cu12-11.2.1.3 nvidia-curand-cu12-10.3.5.147 nvidia-cusolver-cu12-11.6.1.9 nvidia-cusparse-cu12-12.3.1.170 nvidia-nvjitlink-cu12-12.4.127\n"
          ]
        }
      ],
      "source": [
        "!pip3 install -U bitsandbytes"
      ]
    },
    {
      "cell_type": "markdown",
      "metadata": {
        "id": "tCa1_lX6kF21"
      },
      "source": [
        "> 📝 `trl` is for training utilities (like SFTTrainer), and `bitsandbytes` enables 4-bit quantization."
      ]
    },
    {
      "cell_type": "markdown",
      "metadata": {
        "id": "AvodRmOOGL5_"
      },
      "source": [
        "## **🚦 Step 2: Login to HuggingFace**"
      ]
    },
    {
      "cell_type": "code",
      "execution_count": null,
      "metadata": {
        "id": "9_ka122DGP_c"
      },
      "outputs": [],
      "source": [
        "# This was done above!"
      ]
    },
    {
      "cell_type": "code",
      "execution_count": null,
      "metadata": {
        "colab": {
          "base_uri": "https://localhost:8080/"
        },
        "id": "CgtP4_mLrVFV",
        "outputId": "eebbb3ee-85b6-4b4b-99ce-ddd84900f023"
      },
      "outputs": [
        {
          "name": "stdout",
          "output_type": "stream",
          "text": [
            "True\n"
          ]
        }
      ],
      "source": [
        "import torch\n",
        "print(torch.cuda.is_available())\n"
      ]
    },
    {
      "cell_type": "markdown",
      "metadata": {
        "id": "2CapSmkY-Oew"
      },
      "source": [
        "---\n",
        "---\n",
        "Error solve"
      ]
    },
    {
      "cell_type": "code",
      "execution_count": null,
      "metadata": {
        "id": "kFXgL67u_BYR"
      },
      "outputs": [],
      "source": [
        "# import sys\n",
        "# modules_to_delete = [k for k in sys.modules.keys() if \"bitsandbytes\" in k]\n",
        "# for k in modules_to_delete:\n",
        "#     print(k)\n",
        "#     del sys.modules[k]\n"
      ]
    },
    {
      "cell_type": "code",
      "execution_count": null,
      "metadata": {
        "id": "YcbFCRuICD0K"
      },
      "outputs": [],
      "source": [
        "# !pip show bitsandbytes"
      ]
    },
    {
      "cell_type": "markdown",
      "metadata": {
        "id": "O1o08q9hMYRK"
      },
      "source": [
        "----\n",
        "----"
      ]
    },
    {
      "cell_type": "code",
      "execution_count": null,
      "metadata": {
        "id": "DjKJhxFQMfwx"
      },
      "outputs": [],
      "source": [
        "# !pip uninstall -y bitsandbytes\n",
        "# !rm -rf /usr/local/lib/python*/dist-packages/bitsandbytes"
      ]
    },
    {
      "cell_type": "code",
      "execution_count": null,
      "metadata": {
        "id": "Nc7CD47iMiMG"
      },
      "outputs": [],
      "source": [
        "# !CUDA_VERSION=124 pip install git+https://github.com/TimDettmers/bitsandbytes.git"
      ]
    },
    {
      "cell_type": "code",
      "execution_count": null,
      "metadata": {
        "id": "LRmJqAo5Ms_3"
      },
      "outputs": [],
      "source": [
        "# import os\n",
        "# os.kill(os.getpid(), 9)"
      ]
    },
    {
      "cell_type": "code",
      "execution_count": null,
      "metadata": {
        "colab": {
          "base_uri": "https://localhost:8080/"
        },
        "id": "QZugnuCaMu0e",
        "outputId": "88b4e637-114b-4e3b-d1a4-ec27252d81a9"
      },
      "outputs": [
        {
          "name": "stdout",
          "output_type": "stream",
          "text": [
            "✅ bitsandbytes available: True\n",
            "✅ version: 0.46.0\n"
          ]
        }
      ],
      "source": [
        "import bitsandbytes as bnb\n",
        "from transformers.utils import is_bitsandbytes_available\n",
        "\n",
        "print(\"✅ bitsandbytes available:\", is_bitsandbytes_available())\n",
        "print(\"✅ version:\", bnb.__version__)"
      ]
    },
    {
      "cell_type": "markdown",
      "metadata": {
        "id": "5P_70dhbGW1e"
      },
      "source": [
        "## **🧠 Step 3: Load the Mistral-7B Model in 4-bit**"
      ]
    },
    {
      "cell_type": "code",
      "execution_count": null,
      "metadata": {
        "colab": {
          "base_uri": "https://localhost:8080/",
          "height": 510,
          "referenced_widgets": [
            "6020df0d8b7747cda1e698fa0146424b",
            "7dbaf3400b094af8ab87f3bf49558dcb",
            "d7c30f902b5f4c6ba049815d4f73d3b6",
            "91a0cbe310654e7c8e87a481b7ef453e",
            "9ea0b6af0583442686752e82ccd45caa",
            "9932831bb2854cdca2d3b73bd34e577a",
            "1711265c3a194ce0a355121bf53970fb",
            "92c925d808bd48229b5ecefdf2755350",
            "c8c3e6f450b047fca6a134cc1cda5ac4",
            "6eb6d25fd77348ddbfde8dc650c903a5",
            "de1d91ef2b9344ffa7e44a0cc25daa9f",
            "39afa2f05e4445259227459ff2e57a82",
            "6ed5c21ac5be4934a1076b91512d7c13",
            "aec2aecc35be496faad7b950ed9bcd78",
            "570731ec46aa448db669ae8622343fc4",
            "681d7d3201204f13aa51e4bbe196d7ab",
            "4da5bf63a0ea464d8088dddcb924fa37",
            "a00a5f6b31374571b76acbd00cb23e92",
            "da147ebf9d0f4cf4aa65d8f167d22e46",
            "55be766ce873448a8e53e46f4596d54e",
            "19a9d4c8137c40c499f4a51f3a591a7d",
            "8133bce7dfce49bb8718eb4e3bbd8f31",
            "19402d95255f42b381709b67c49ca7fd",
            "2b267ca1d4e5442196d6906c9a4368fa",
            "4a6af9c5bc424af899f5875a3b46f7c0",
            "e4e3560429e7421e885f40e9938d0f61",
            "b6bb7fbdac2342d0b74ca2830efdc7b6",
            "1af78b88b43d430d8bca6b24fb608b33",
            "db64cf7f75214ab3bbe44c95d3ad18db",
            "a2f9a6ee51f0479a891b599126e74e14",
            "c6f93b74362e41c8804c0c59d11d1d16",
            "f8ab5d7373f84f3e88cdd5e475f08528",
            "30428486469a41cfaa1d4998c71093b4",
            "584d77caeb064940b3bab89fa460f0e7",
            "5517afee881149749cab79ac99380856",
            "c8b18a857ca94e218fc10e2775f804e9",
            "80773527772044988a4ef81f41662bd0",
            "18e65a9083b04668b7b3f43c51d6d18c",
            "628e094bd66948adb0073c8dfdbc15ba",
            "a00c4149814e4627a0f0b7b5d268ed83",
            "b59dcbf6647549caa1c16316bccd6332",
            "9d9ba21c0b6f49518999d7b30d96cafd",
            "f09cf0063d044a42ac047a0e5971036d",
            "c57ba30b81534285b3af955775635000",
            "2ca146dcdd3842ec8cadcea099d745db",
            "3d1af3c5c3504dc7b9631d91f407c3d1",
            "2a8310465a084b77a0a73b72209905c3",
            "782641b43d35466296da703d9567b4bf",
            "b5be06d3c1144295ace3ee964b0d566d",
            "d7a3f2e28b5644ea9e9327abe5876d1a",
            "2d48ec87604443aeb08740c9bde8a2d3",
            "3307c2472a8b47c29f2d27c90138f373",
            "b281da5f6c1a4be2b8f223e6fac90182",
            "33f2a5ee88684962a0a7c5db06d590ad",
            "9c8969cceda849c3aa78197c400028e9",
            "caa2c87d3b2744a292143475388b4fb8",
            "424608282aaf46c69787b5646e526dff",
            "745b65b6d7c94dd190ca764a9185ce18",
            "f6f6ae2dd64b432084a9c9448390dc14",
            "31f10c00837a480d836946df154185c9",
            "cc06344e771a4b0f8c2f84b76c2eda84",
            "74a52e3297374fcc8ee1727eb4aa30ca",
            "621d7f43651e4913b8744417f4877b30",
            "35a5255cf32b41f8b5a82aaaed60dff1",
            "2840474e625d4148a55d2d9f59baa5af",
            "2519790a07274fc39fe6813b2140cd92",
            "4164a289e0ef4fbc979deafcb18c0153",
            "af094298d1be45009ade5c21105ff0b5",
            "fea63dfaab954cb4b5c27c4735da2713",
            "eb6231687725461fab876d4fc442d13d",
            "b7cae5043dad40f7a5986fc4811f4eba",
            "cba999f6ceb2431d88ba072865bb833b",
            "ab3e4f9793c64b21b0fd785f1890a874",
            "7f6b889481a147a1ab9b521c9da6e859",
            "76c22d7fe4f64ed89b8848994163b335",
            "5d1ddaebe6d041cfa4c6496db71f9718",
            "b9683c3db7984f1099a8e988f76c68f3",
            "8b18fe6de21349d3b0178834a99a3f50",
            "e201c11258a449658c79e4290dd4328a",
            "11120bb6866f4877aa21bfa6fadafe5c",
            "45746e9ce567488288524be1ff27aa4b",
            "d2d4530ca36e439688fcdfcd9e2335dd",
            "5bfef01334994279b8099bddf712889a",
            "8b2e341a05f54437a07227e62626c7b3",
            "29e89e671a1c4dfb9c17e35d2dcc9bf6",
            "abf1add9203e4af69270a1a72f0a9559",
            "c9775ab1cf714c13819ec9b40d13ad5c",
            "f28d82576b7b4b4d9af83180722de137",
            "e7dceb87d5c847b086aac3d05f90b979",
            "4dcbc7a40bef4565b74ab8eb9c7475a4",
            "cf9521d43a784c32a72fe56ba6147d1f",
            "c66e2c1addf54c5c828dd20ed863f516",
            "ca23d58e5c9549539dd0f52a95ebb43e",
            "cd5683a8371546d08ba5434c7a49d58a",
            "9977552b847a4c19936669c50db937a5",
            "b77aa8dcd48445f0be0347d09391cb65",
            "34a2aa518eb44ca1bc6f543b585f1e3b",
            "a9ae39bf9f944362a01930f9265f5481",
            "95c50bf58a4e4c848cd0862f3acd85dc",
            "bcba2817a3ed4c69988b5d03ec40fe0d",
            "05d577e85ccc4fc1a80051c682e35332",
            "8f6ec2b8f2884905b59ce8ec98a4a4d9",
            "677ece14e3fa4745942da68b7869295b",
            "a28e6a91a7f04db39f434bbe2eabeb59",
            "970e9ce157164d5585d167f239e9d753",
            "0f20cf8f4a654b84acc67cc7ab5e3c23",
            "2cc7ddbdd14e490e8034984123393082",
            "c60ae3678a104d928df62f46b056a217",
            "b3554b4e29aa42d9983b6cb9f86240d6",
            "13cd0067a64942fba104a634c445db44",
            "fa5dbd2567ce43828ba339ac6121922c",
            "011d01295ad74a06ae078759efd21e95",
            "a04b57d2efab4082819483d974558233",
            "2f681dc8831d4cd89f63ff1fb3a17cf1",
            "bcb16ac866124dab8ed231a57cfab5be",
            "bbead9e0933c46ada7ed7c8af8dc95d6",
            "ddc7ee86d5cd4c3a9dfb0138bd4d65c2",
            "1cbd8e550b8e4c2d984e151a77df0d3d",
            "ca268020842242a39f6ae55f58d33a53",
            "c274e97b1a2748bdb3bdab18d585e2d3",
            "dff7d7d21ab740d6b043c6a4c9146a33"
          ]
        },
        "id": "WMRrp2NjkKc5",
        "outputId": "1a0872e2-2e4f-4ab2-cc05-c19a6c2814f5"
      },
      "outputs": [
        {
          "name": "stderr",
          "output_type": "stream",
          "text": [
            "/usr/local/lib/python3.11/dist-packages/huggingface_hub/utils/_auth.py:94: UserWarning: \n",
            "The secret `HF_TOKEN` does not exist in your Colab secrets.\n",
            "To authenticate with the Hugging Face Hub, create a token in your settings tab (https://huggingface.co/settings/tokens), set it as secret in your Google Colab and restart your session.\n",
            "You will be able to reuse this secret in all of your notebooks.\n",
            "Please note that authentication is recommended but still optional to access public models or datasets.\n",
            "  warnings.warn(\n"
          ]
        },
        {
          "data": {
            "application/vnd.jupyter.widget-view+json": {
              "model_id": "6020df0d8b7747cda1e698fa0146424b",
              "version_major": 2,
              "version_minor": 0
            },
            "text/plain": [
              "config.json:   0%|          | 0.00/571 [00:00<?, ?B/s]"
            ]
          },
          "metadata": {},
          "output_type": "display_data"
        },
        {
          "data": {
            "application/vnd.jupyter.widget-view+json": {
              "model_id": "39afa2f05e4445259227459ff2e57a82",
              "version_major": 2,
              "version_minor": 0
            },
            "text/plain": [
              "model.safetensors.index.json:   0%|          | 0.00/25.1k [00:00<?, ?B/s]"
            ]
          },
          "metadata": {},
          "output_type": "display_data"
        },
        {
          "data": {
            "application/vnd.jupyter.widget-view+json": {
              "model_id": "19402d95255f42b381709b67c49ca7fd",
              "version_major": 2,
              "version_minor": 0
            },
            "text/plain": [
              "Fetching 2 files:   0%|          | 0/2 [00:00<?, ?it/s]"
            ]
          },
          "metadata": {},
          "output_type": "display_data"
        },
        {
          "data": {
            "application/vnd.jupyter.widget-view+json": {
              "model_id": "584d77caeb064940b3bab89fa460f0e7",
              "version_major": 2,
              "version_minor": 0
            },
            "text/plain": [
              "model-00001-of-00002.safetensors:   0%|          | 0.00/9.94G [00:00<?, ?B/s]"
            ]
          },
          "metadata": {},
          "output_type": "display_data"
        },
        {
          "data": {
            "application/vnd.jupyter.widget-view+json": {
              "model_id": "2ca146dcdd3842ec8cadcea099d745db",
              "version_major": 2,
              "version_minor": 0
            },
            "text/plain": [
              "model-00002-of-00002.safetensors:   0%|          | 0.00/4.54G [00:00<?, ?B/s]"
            ]
          },
          "metadata": {},
          "output_type": "display_data"
        },
        {
          "data": {
            "application/vnd.jupyter.widget-view+json": {
              "model_id": "caa2c87d3b2744a292143475388b4fb8",
              "version_major": 2,
              "version_minor": 0
            },
            "text/plain": [
              "Loading checkpoint shards:   0%|          | 0/2 [00:00<?, ?it/s]"
            ]
          },
          "metadata": {},
          "output_type": "display_data"
        },
        {
          "data": {
            "application/vnd.jupyter.widget-view+json": {
              "model_id": "4164a289e0ef4fbc979deafcb18c0153",
              "version_major": 2,
              "version_minor": 0
            },
            "text/plain": [
              "generation_config.json:   0%|          | 0.00/116 [00:00<?, ?B/s]"
            ]
          },
          "metadata": {},
          "output_type": "display_data"
        },
        {
          "data": {
            "application/vnd.jupyter.widget-view+json": {
              "model_id": "8b18fe6de21349d3b0178834a99a3f50",
              "version_major": 2,
              "version_minor": 0
            },
            "text/plain": [
              "tokenizer_config.json:   0%|          | 0.00/996 [00:00<?, ?B/s]"
            ]
          },
          "metadata": {},
          "output_type": "display_data"
        },
        {
          "data": {
            "application/vnd.jupyter.widget-view+json": {
              "model_id": "e7dceb87d5c847b086aac3d05f90b979",
              "version_major": 2,
              "version_minor": 0
            },
            "text/plain": [
              "tokenizer.model:   0%|          | 0.00/493k [00:00<?, ?B/s]"
            ]
          },
          "metadata": {},
          "output_type": "display_data"
        },
        {
          "data": {
            "application/vnd.jupyter.widget-view+json": {
              "model_id": "bcba2817a3ed4c69988b5d03ec40fe0d",
              "version_major": 2,
              "version_minor": 0
            },
            "text/plain": [
              "tokenizer.json:   0%|          | 0.00/1.80M [00:00<?, ?B/s]"
            ]
          },
          "metadata": {},
          "output_type": "display_data"
        },
        {
          "data": {
            "application/vnd.jupyter.widget-view+json": {
              "model_id": "fa5dbd2567ce43828ba339ac6121922c",
              "version_major": 2,
              "version_minor": 0
            },
            "text/plain": [
              "special_tokens_map.json:   0%|          | 0.00/414 [00:00<?, ?B/s]"
            ]
          },
          "metadata": {},
          "output_type": "display_data"
        },
        {
          "name": "stdout",
          "output_type": "stream",
          "text": [
            "✅ Mistral-7B model loaded in 4-bit successfully!\n"
          ]
        }
      ],
      "source": [
        "from transformers import AutoModelForCausalLM, AutoTokenizer, BitsAndBytesConfig\n",
        "import torch\n",
        "\n",
        "model_name = \"mistralai/Mistral-7B-v0.1\"\n",
        "\n",
        "bnb_config = BitsAndBytesConfig(\n",
        "    load_in_4bit=True,\n",
        "    bnb_4bit_use_double_quant=True,\n",
        "    bnb_4bit_quant_type=\"nf4\",  # NormalFloat4 - best performance/quality tradeoff\n",
        "    bnb_4bit_compute_dtype=\"bfloat16\"\n",
        ")\n",
        "\n",
        "model = AutoModelForCausalLM.from_pretrained(\n",
        "    model_name,\n",
        "    quantization_config=bnb_config,\n",
        "    device_map=\"auto\",\n",
        "    torch_dtype=torch.float16,\n",
        "    token=True\n",
        ")\n",
        "\n",
        "tokenizer = AutoTokenizer.from_pretrained(model_name)\n",
        "tokenizer.pad_token = tokenizer.eos_token  # ✅ Fixes the padding issue from before\n",
        "\n",
        "print(\"✅ Mistral-7B model loaded in 4-bit successfully!\")"
      ]
    },
    {
      "cell_type": "markdown",
      "metadata": {
        "id": "ILlDm3PeC3OB"
      },
      "source": [
        "## **Applying PEFT + LoRA (QLoRA)**"
      ]
    },
    {
      "cell_type": "markdown",
      "metadata": {
        "id": "4S-brKbiCU_t"
      },
      "source": [
        "### ⚙️ Step 1: Install PEFT + Accelerate"
      ]
    },
    {
      "cell_type": "code",
      "execution_count": null,
      "metadata": {
        "id": "mhUxpUfcDEWA"
      },
      "outputs": [],
      "source": [
        "!pip3 install -q peft accelerate"
      ]
    },
    {
      "cell_type": "markdown",
      "metadata": {
        "id": "DAsfeKnADMF9"
      },
      "source": [
        "### 🧪 Step 2: Configure LoRA (Low-Rank Adaptation)"
      ]
    },
    {
      "cell_type": "code",
      "execution_count": null,
      "metadata": {
        "id": "MjcU0ZxwDR6T"
      },
      "outputs": [],
      "source": [
        "from peft import LoraConfig, get_peft_model, TaskType\n",
        "\n",
        "lora_config = LoraConfig(\n",
        "    r=64,\n",
        "    lora_alpha=16,\n",
        "    target_modules=[\"q_proj\", \"k_proj\", \"v_proj\", \"o_proj\"],\n",
        "    lora_dropout=0.1,\n",
        "    bias=\"none\",\n",
        "    task_type=TaskType.CAUSAL_LM   # for Mistral\n",
        ")"
      ]
    },
    {
      "cell_type": "markdown",
      "metadata": {
        "id": "wT9hT3-3EdxU"
      },
      "source": [
        "> 🔎 You can think of LoRA as a lightweight way to fine-tune only the attention layers using low-rank matrices, which saves memory + time."
      ]
    },
    {
      "cell_type": "markdown",
      "metadata": {
        "id": "PHhMnzSxEan3"
      },
      "source": [
        "### 🧬 Step 3: Wrap Mistral with LoRA"
      ]
    },
    {
      "cell_type": "code",
      "execution_count": null,
      "metadata": {
        "colab": {
          "base_uri": "https://localhost:8080/"
        },
        "id": "hKLF1Sz2Ew_d",
        "outputId": "12b6592e-bdad-463d-a36e-9ee1d48b92fc"
      },
      "outputs": [
        {
          "name": "stdout",
          "output_type": "stream",
          "text": [
            "base_model.model.model.layers.0.self_attn.q_proj.lora_A.default.weight\n",
            "base_model.model.model.layers.0.self_attn.q_proj.lora_B.default.weight\n",
            "base_model.model.model.layers.0.self_attn.k_proj.lora_A.default.weight\n",
            "base_model.model.model.layers.0.self_attn.k_proj.lora_B.default.weight\n",
            "base_model.model.model.layers.0.self_attn.v_proj.lora_A.default.weight\n",
            "base_model.model.model.layers.0.self_attn.v_proj.lora_B.default.weight\n",
            "base_model.model.model.layers.0.self_attn.o_proj.lora_A.default.weight\n",
            "base_model.model.model.layers.0.self_attn.o_proj.lora_B.default.weight\n",
            "base_model.model.model.layers.1.self_attn.q_proj.lora_A.default.weight\n",
            "base_model.model.model.layers.1.self_attn.q_proj.lora_B.default.weight\n",
            "base_model.model.model.layers.1.self_attn.k_proj.lora_A.default.weight\n",
            "base_model.model.model.layers.1.self_attn.k_proj.lora_B.default.weight\n",
            "base_model.model.model.layers.1.self_attn.v_proj.lora_A.default.weight\n",
            "base_model.model.model.layers.1.self_attn.v_proj.lora_B.default.weight\n",
            "base_model.model.model.layers.1.self_attn.o_proj.lora_A.default.weight\n",
            "base_model.model.model.layers.1.self_attn.o_proj.lora_B.default.weight\n",
            "base_model.model.model.layers.2.self_attn.q_proj.lora_A.default.weight\n",
            "base_model.model.model.layers.2.self_attn.q_proj.lora_B.default.weight\n",
            "base_model.model.model.layers.2.self_attn.k_proj.lora_A.default.weight\n",
            "base_model.model.model.layers.2.self_attn.k_proj.lora_B.default.weight\n",
            "base_model.model.model.layers.2.self_attn.v_proj.lora_A.default.weight\n",
            "base_model.model.model.layers.2.self_attn.v_proj.lora_B.default.weight\n",
            "base_model.model.model.layers.2.self_attn.o_proj.lora_A.default.weight\n",
            "base_model.model.model.layers.2.self_attn.o_proj.lora_B.default.weight\n",
            "base_model.model.model.layers.3.self_attn.q_proj.lora_A.default.weight\n",
            "base_model.model.model.layers.3.self_attn.q_proj.lora_B.default.weight\n",
            "base_model.model.model.layers.3.self_attn.k_proj.lora_A.default.weight\n",
            "base_model.model.model.layers.3.self_attn.k_proj.lora_B.default.weight\n",
            "base_model.model.model.layers.3.self_attn.v_proj.lora_A.default.weight\n",
            "base_model.model.model.layers.3.self_attn.v_proj.lora_B.default.weight\n",
            "base_model.model.model.layers.3.self_attn.o_proj.lora_A.default.weight\n",
            "base_model.model.model.layers.3.self_attn.o_proj.lora_B.default.weight\n",
            "base_model.model.model.layers.4.self_attn.q_proj.lora_A.default.weight\n",
            "base_model.model.model.layers.4.self_attn.q_proj.lora_B.default.weight\n",
            "base_model.model.model.layers.4.self_attn.k_proj.lora_A.default.weight\n",
            "base_model.model.model.layers.4.self_attn.k_proj.lora_B.default.weight\n",
            "base_model.model.model.layers.4.self_attn.v_proj.lora_A.default.weight\n",
            "base_model.model.model.layers.4.self_attn.v_proj.lora_B.default.weight\n",
            "base_model.model.model.layers.4.self_attn.o_proj.lora_A.default.weight\n",
            "base_model.model.model.layers.4.self_attn.o_proj.lora_B.default.weight\n",
            "base_model.model.model.layers.5.self_attn.q_proj.lora_A.default.weight\n",
            "base_model.model.model.layers.5.self_attn.q_proj.lora_B.default.weight\n",
            "base_model.model.model.layers.5.self_attn.k_proj.lora_A.default.weight\n",
            "base_model.model.model.layers.5.self_attn.k_proj.lora_B.default.weight\n",
            "base_model.model.model.layers.5.self_attn.v_proj.lora_A.default.weight\n",
            "base_model.model.model.layers.5.self_attn.v_proj.lora_B.default.weight\n",
            "base_model.model.model.layers.5.self_attn.o_proj.lora_A.default.weight\n",
            "base_model.model.model.layers.5.self_attn.o_proj.lora_B.default.weight\n",
            "base_model.model.model.layers.6.self_attn.q_proj.lora_A.default.weight\n",
            "base_model.model.model.layers.6.self_attn.q_proj.lora_B.default.weight\n",
            "base_model.model.model.layers.6.self_attn.k_proj.lora_A.default.weight\n",
            "base_model.model.model.layers.6.self_attn.k_proj.lora_B.default.weight\n",
            "base_model.model.model.layers.6.self_attn.v_proj.lora_A.default.weight\n",
            "base_model.model.model.layers.6.self_attn.v_proj.lora_B.default.weight\n",
            "base_model.model.model.layers.6.self_attn.o_proj.lora_A.default.weight\n",
            "base_model.model.model.layers.6.self_attn.o_proj.lora_B.default.weight\n",
            "base_model.model.model.layers.7.self_attn.q_proj.lora_A.default.weight\n",
            "base_model.model.model.layers.7.self_attn.q_proj.lora_B.default.weight\n",
            "base_model.model.model.layers.7.self_attn.k_proj.lora_A.default.weight\n",
            "base_model.model.model.layers.7.self_attn.k_proj.lora_B.default.weight\n",
            "base_model.model.model.layers.7.self_attn.v_proj.lora_A.default.weight\n",
            "base_model.model.model.layers.7.self_attn.v_proj.lora_B.default.weight\n",
            "base_model.model.model.layers.7.self_attn.o_proj.lora_A.default.weight\n",
            "base_model.model.model.layers.7.self_attn.o_proj.lora_B.default.weight\n",
            "base_model.model.model.layers.8.self_attn.q_proj.lora_A.default.weight\n",
            "base_model.model.model.layers.8.self_attn.q_proj.lora_B.default.weight\n",
            "base_model.model.model.layers.8.self_attn.k_proj.lora_A.default.weight\n",
            "base_model.model.model.layers.8.self_attn.k_proj.lora_B.default.weight\n",
            "base_model.model.model.layers.8.self_attn.v_proj.lora_A.default.weight\n",
            "base_model.model.model.layers.8.self_attn.v_proj.lora_B.default.weight\n",
            "base_model.model.model.layers.8.self_attn.o_proj.lora_A.default.weight\n",
            "base_model.model.model.layers.8.self_attn.o_proj.lora_B.default.weight\n",
            "base_model.model.model.layers.9.self_attn.q_proj.lora_A.default.weight\n",
            "base_model.model.model.layers.9.self_attn.q_proj.lora_B.default.weight\n",
            "base_model.model.model.layers.9.self_attn.k_proj.lora_A.default.weight\n",
            "base_model.model.model.layers.9.self_attn.k_proj.lora_B.default.weight\n",
            "base_model.model.model.layers.9.self_attn.v_proj.lora_A.default.weight\n",
            "base_model.model.model.layers.9.self_attn.v_proj.lora_B.default.weight\n",
            "base_model.model.model.layers.9.self_attn.o_proj.lora_A.default.weight\n",
            "base_model.model.model.layers.9.self_attn.o_proj.lora_B.default.weight\n",
            "base_model.model.model.layers.10.self_attn.q_proj.lora_A.default.weight\n",
            "base_model.model.model.layers.10.self_attn.q_proj.lora_B.default.weight\n",
            "base_model.model.model.layers.10.self_attn.k_proj.lora_A.default.weight\n",
            "base_model.model.model.layers.10.self_attn.k_proj.lora_B.default.weight\n",
            "base_model.model.model.layers.10.self_attn.v_proj.lora_A.default.weight\n",
            "base_model.model.model.layers.10.self_attn.v_proj.lora_B.default.weight\n",
            "base_model.model.model.layers.10.self_attn.o_proj.lora_A.default.weight\n",
            "base_model.model.model.layers.10.self_attn.o_proj.lora_B.default.weight\n",
            "base_model.model.model.layers.11.self_attn.q_proj.lora_A.default.weight\n",
            "base_model.model.model.layers.11.self_attn.q_proj.lora_B.default.weight\n",
            "base_model.model.model.layers.11.self_attn.k_proj.lora_A.default.weight\n",
            "base_model.model.model.layers.11.self_attn.k_proj.lora_B.default.weight\n",
            "base_model.model.model.layers.11.self_attn.v_proj.lora_A.default.weight\n",
            "base_model.model.model.layers.11.self_attn.v_proj.lora_B.default.weight\n",
            "base_model.model.model.layers.11.self_attn.o_proj.lora_A.default.weight\n",
            "base_model.model.model.layers.11.self_attn.o_proj.lora_B.default.weight\n",
            "base_model.model.model.layers.12.self_attn.q_proj.lora_A.default.weight\n",
            "base_model.model.model.layers.12.self_attn.q_proj.lora_B.default.weight\n",
            "base_model.model.model.layers.12.self_attn.k_proj.lora_A.default.weight\n",
            "base_model.model.model.layers.12.self_attn.k_proj.lora_B.default.weight\n",
            "base_model.model.model.layers.12.self_attn.v_proj.lora_A.default.weight\n",
            "base_model.model.model.layers.12.self_attn.v_proj.lora_B.default.weight\n",
            "base_model.model.model.layers.12.self_attn.o_proj.lora_A.default.weight\n",
            "base_model.model.model.layers.12.self_attn.o_proj.lora_B.default.weight\n",
            "base_model.model.model.layers.13.self_attn.q_proj.lora_A.default.weight\n",
            "base_model.model.model.layers.13.self_attn.q_proj.lora_B.default.weight\n",
            "base_model.model.model.layers.13.self_attn.k_proj.lora_A.default.weight\n",
            "base_model.model.model.layers.13.self_attn.k_proj.lora_B.default.weight\n",
            "base_model.model.model.layers.13.self_attn.v_proj.lora_A.default.weight\n",
            "base_model.model.model.layers.13.self_attn.v_proj.lora_B.default.weight\n",
            "base_model.model.model.layers.13.self_attn.o_proj.lora_A.default.weight\n",
            "base_model.model.model.layers.13.self_attn.o_proj.lora_B.default.weight\n",
            "base_model.model.model.layers.14.self_attn.q_proj.lora_A.default.weight\n",
            "base_model.model.model.layers.14.self_attn.q_proj.lora_B.default.weight\n",
            "base_model.model.model.layers.14.self_attn.k_proj.lora_A.default.weight\n",
            "base_model.model.model.layers.14.self_attn.k_proj.lora_B.default.weight\n",
            "base_model.model.model.layers.14.self_attn.v_proj.lora_A.default.weight\n",
            "base_model.model.model.layers.14.self_attn.v_proj.lora_B.default.weight\n",
            "base_model.model.model.layers.14.self_attn.o_proj.lora_A.default.weight\n",
            "base_model.model.model.layers.14.self_attn.o_proj.lora_B.default.weight\n",
            "base_model.model.model.layers.15.self_attn.q_proj.lora_A.default.weight\n",
            "base_model.model.model.layers.15.self_attn.q_proj.lora_B.default.weight\n",
            "base_model.model.model.layers.15.self_attn.k_proj.lora_A.default.weight\n",
            "base_model.model.model.layers.15.self_attn.k_proj.lora_B.default.weight\n",
            "base_model.model.model.layers.15.self_attn.v_proj.lora_A.default.weight\n",
            "base_model.model.model.layers.15.self_attn.v_proj.lora_B.default.weight\n",
            "base_model.model.model.layers.15.self_attn.o_proj.lora_A.default.weight\n",
            "base_model.model.model.layers.15.self_attn.o_proj.lora_B.default.weight\n",
            "base_model.model.model.layers.16.self_attn.q_proj.lora_A.default.weight\n",
            "base_model.model.model.layers.16.self_attn.q_proj.lora_B.default.weight\n",
            "base_model.model.model.layers.16.self_attn.k_proj.lora_A.default.weight\n",
            "base_model.model.model.layers.16.self_attn.k_proj.lora_B.default.weight\n",
            "base_model.model.model.layers.16.self_attn.v_proj.lora_A.default.weight\n",
            "base_model.model.model.layers.16.self_attn.v_proj.lora_B.default.weight\n",
            "base_model.model.model.layers.16.self_attn.o_proj.lora_A.default.weight\n",
            "base_model.model.model.layers.16.self_attn.o_proj.lora_B.default.weight\n",
            "base_model.model.model.layers.17.self_attn.q_proj.lora_A.default.weight\n",
            "base_model.model.model.layers.17.self_attn.q_proj.lora_B.default.weight\n",
            "base_model.model.model.layers.17.self_attn.k_proj.lora_A.default.weight\n",
            "base_model.model.model.layers.17.self_attn.k_proj.lora_B.default.weight\n",
            "base_model.model.model.layers.17.self_attn.v_proj.lora_A.default.weight\n",
            "base_model.model.model.layers.17.self_attn.v_proj.lora_B.default.weight\n",
            "base_model.model.model.layers.17.self_attn.o_proj.lora_A.default.weight\n",
            "base_model.model.model.layers.17.self_attn.o_proj.lora_B.default.weight\n",
            "base_model.model.model.layers.18.self_attn.q_proj.lora_A.default.weight\n",
            "base_model.model.model.layers.18.self_attn.q_proj.lora_B.default.weight\n",
            "base_model.model.model.layers.18.self_attn.k_proj.lora_A.default.weight\n",
            "base_model.model.model.layers.18.self_attn.k_proj.lora_B.default.weight\n",
            "base_model.model.model.layers.18.self_attn.v_proj.lora_A.default.weight\n",
            "base_model.model.model.layers.18.self_attn.v_proj.lora_B.default.weight\n",
            "base_model.model.model.layers.18.self_attn.o_proj.lora_A.default.weight\n",
            "base_model.model.model.layers.18.self_attn.o_proj.lora_B.default.weight\n",
            "base_model.model.model.layers.19.self_attn.q_proj.lora_A.default.weight\n",
            "base_model.model.model.layers.19.self_attn.q_proj.lora_B.default.weight\n",
            "base_model.model.model.layers.19.self_attn.k_proj.lora_A.default.weight\n",
            "base_model.model.model.layers.19.self_attn.k_proj.lora_B.default.weight\n",
            "base_model.model.model.layers.19.self_attn.v_proj.lora_A.default.weight\n",
            "base_model.model.model.layers.19.self_attn.v_proj.lora_B.default.weight\n",
            "base_model.model.model.layers.19.self_attn.o_proj.lora_A.default.weight\n",
            "base_model.model.model.layers.19.self_attn.o_proj.lora_B.default.weight\n",
            "base_model.model.model.layers.20.self_attn.q_proj.lora_A.default.weight\n",
            "base_model.model.model.layers.20.self_attn.q_proj.lora_B.default.weight\n",
            "base_model.model.model.layers.20.self_attn.k_proj.lora_A.default.weight\n",
            "base_model.model.model.layers.20.self_attn.k_proj.lora_B.default.weight\n",
            "base_model.model.model.layers.20.self_attn.v_proj.lora_A.default.weight\n",
            "base_model.model.model.layers.20.self_attn.v_proj.lora_B.default.weight\n",
            "base_model.model.model.layers.20.self_attn.o_proj.lora_A.default.weight\n",
            "base_model.model.model.layers.20.self_attn.o_proj.lora_B.default.weight\n",
            "base_model.model.model.layers.21.self_attn.q_proj.lora_A.default.weight\n",
            "base_model.model.model.layers.21.self_attn.q_proj.lora_B.default.weight\n",
            "base_model.model.model.layers.21.self_attn.k_proj.lora_A.default.weight\n",
            "base_model.model.model.layers.21.self_attn.k_proj.lora_B.default.weight\n",
            "base_model.model.model.layers.21.self_attn.v_proj.lora_A.default.weight\n",
            "base_model.model.model.layers.21.self_attn.v_proj.lora_B.default.weight\n",
            "base_model.model.model.layers.21.self_attn.o_proj.lora_A.default.weight\n",
            "base_model.model.model.layers.21.self_attn.o_proj.lora_B.default.weight\n",
            "base_model.model.model.layers.22.self_attn.q_proj.lora_A.default.weight\n",
            "base_model.model.model.layers.22.self_attn.q_proj.lora_B.default.weight\n",
            "base_model.model.model.layers.22.self_attn.k_proj.lora_A.default.weight\n",
            "base_model.model.model.layers.22.self_attn.k_proj.lora_B.default.weight\n",
            "base_model.model.model.layers.22.self_attn.v_proj.lora_A.default.weight\n",
            "base_model.model.model.layers.22.self_attn.v_proj.lora_B.default.weight\n",
            "base_model.model.model.layers.22.self_attn.o_proj.lora_A.default.weight\n",
            "base_model.model.model.layers.22.self_attn.o_proj.lora_B.default.weight\n",
            "base_model.model.model.layers.23.self_attn.q_proj.lora_A.default.weight\n",
            "base_model.model.model.layers.23.self_attn.q_proj.lora_B.default.weight\n",
            "base_model.model.model.layers.23.self_attn.k_proj.lora_A.default.weight\n",
            "base_model.model.model.layers.23.self_attn.k_proj.lora_B.default.weight\n",
            "base_model.model.model.layers.23.self_attn.v_proj.lora_A.default.weight\n",
            "base_model.model.model.layers.23.self_attn.v_proj.lora_B.default.weight\n",
            "base_model.model.model.layers.23.self_attn.o_proj.lora_A.default.weight\n",
            "base_model.model.model.layers.23.self_attn.o_proj.lora_B.default.weight\n",
            "base_model.model.model.layers.24.self_attn.q_proj.lora_A.default.weight\n",
            "base_model.model.model.layers.24.self_attn.q_proj.lora_B.default.weight\n",
            "base_model.model.model.layers.24.self_attn.k_proj.lora_A.default.weight\n",
            "base_model.model.model.layers.24.self_attn.k_proj.lora_B.default.weight\n",
            "base_model.model.model.layers.24.self_attn.v_proj.lora_A.default.weight\n",
            "base_model.model.model.layers.24.self_attn.v_proj.lora_B.default.weight\n",
            "base_model.model.model.layers.24.self_attn.o_proj.lora_A.default.weight\n",
            "base_model.model.model.layers.24.self_attn.o_proj.lora_B.default.weight\n",
            "base_model.model.model.layers.25.self_attn.q_proj.lora_A.default.weight\n",
            "base_model.model.model.layers.25.self_attn.q_proj.lora_B.default.weight\n",
            "base_model.model.model.layers.25.self_attn.k_proj.lora_A.default.weight\n",
            "base_model.model.model.layers.25.self_attn.k_proj.lora_B.default.weight\n",
            "base_model.model.model.layers.25.self_attn.v_proj.lora_A.default.weight\n",
            "base_model.model.model.layers.25.self_attn.v_proj.lora_B.default.weight\n",
            "base_model.model.model.layers.25.self_attn.o_proj.lora_A.default.weight\n",
            "base_model.model.model.layers.25.self_attn.o_proj.lora_B.default.weight\n",
            "base_model.model.model.layers.26.self_attn.q_proj.lora_A.default.weight\n",
            "base_model.model.model.layers.26.self_attn.q_proj.lora_B.default.weight\n",
            "base_model.model.model.layers.26.self_attn.k_proj.lora_A.default.weight\n",
            "base_model.model.model.layers.26.self_attn.k_proj.lora_B.default.weight\n",
            "base_model.model.model.layers.26.self_attn.v_proj.lora_A.default.weight\n",
            "base_model.model.model.layers.26.self_attn.v_proj.lora_B.default.weight\n",
            "base_model.model.model.layers.26.self_attn.o_proj.lora_A.default.weight\n",
            "base_model.model.model.layers.26.self_attn.o_proj.lora_B.default.weight\n",
            "base_model.model.model.layers.27.self_attn.q_proj.lora_A.default.weight\n",
            "base_model.model.model.layers.27.self_attn.q_proj.lora_B.default.weight\n",
            "base_model.model.model.layers.27.self_attn.k_proj.lora_A.default.weight\n",
            "base_model.model.model.layers.27.self_attn.k_proj.lora_B.default.weight\n",
            "base_model.model.model.layers.27.self_attn.v_proj.lora_A.default.weight\n",
            "base_model.model.model.layers.27.self_attn.v_proj.lora_B.default.weight\n",
            "base_model.model.model.layers.27.self_attn.o_proj.lora_A.default.weight\n",
            "base_model.model.model.layers.27.self_attn.o_proj.lora_B.default.weight\n",
            "base_model.model.model.layers.28.self_attn.q_proj.lora_A.default.weight\n",
            "base_model.model.model.layers.28.self_attn.q_proj.lora_B.default.weight\n",
            "base_model.model.model.layers.28.self_attn.k_proj.lora_A.default.weight\n",
            "base_model.model.model.layers.28.self_attn.k_proj.lora_B.default.weight\n",
            "base_model.model.model.layers.28.self_attn.v_proj.lora_A.default.weight\n",
            "base_model.model.model.layers.28.self_attn.v_proj.lora_B.default.weight\n",
            "base_model.model.model.layers.28.self_attn.o_proj.lora_A.default.weight\n",
            "base_model.model.model.layers.28.self_attn.o_proj.lora_B.default.weight\n",
            "base_model.model.model.layers.29.self_attn.q_proj.lora_A.default.weight\n",
            "base_model.model.model.layers.29.self_attn.q_proj.lora_B.default.weight\n",
            "base_model.model.model.layers.29.self_attn.k_proj.lora_A.default.weight\n",
            "base_model.model.model.layers.29.self_attn.k_proj.lora_B.default.weight\n",
            "base_model.model.model.layers.29.self_attn.v_proj.lora_A.default.weight\n",
            "base_model.model.model.layers.29.self_attn.v_proj.lora_B.default.weight\n",
            "base_model.model.model.layers.29.self_attn.o_proj.lora_A.default.weight\n",
            "base_model.model.model.layers.29.self_attn.o_proj.lora_B.default.weight\n",
            "base_model.model.model.layers.30.self_attn.q_proj.lora_A.default.weight\n",
            "base_model.model.model.layers.30.self_attn.q_proj.lora_B.default.weight\n",
            "base_model.model.model.layers.30.self_attn.k_proj.lora_A.default.weight\n",
            "base_model.model.model.layers.30.self_attn.k_proj.lora_B.default.weight\n",
            "base_model.model.model.layers.30.self_attn.v_proj.lora_A.default.weight\n",
            "base_model.model.model.layers.30.self_attn.v_proj.lora_B.default.weight\n",
            "base_model.model.model.layers.30.self_attn.o_proj.lora_A.default.weight\n",
            "base_model.model.model.layers.30.self_attn.o_proj.lora_B.default.weight\n",
            "base_model.model.model.layers.31.self_attn.q_proj.lora_A.default.weight\n",
            "base_model.model.model.layers.31.self_attn.q_proj.lora_B.default.weight\n",
            "base_model.model.model.layers.31.self_attn.k_proj.lora_A.default.weight\n",
            "base_model.model.model.layers.31.self_attn.k_proj.lora_B.default.weight\n",
            "base_model.model.model.layers.31.self_attn.v_proj.lora_A.default.weight\n",
            "base_model.model.model.layers.31.self_attn.v_proj.lora_B.default.weight\n",
            "base_model.model.model.layers.31.self_attn.o_proj.lora_A.default.weight\n",
            "base_model.model.model.layers.31.self_attn.o_proj.lora_B.default.weight\n"
          ]
        }
      ],
      "source": [
        "from peft import get_peft_model\n",
        "\n",
        "model = get_peft_model(model, lora_config)\n",
        "\n",
        "model.enable_input_require_grads()  # 👈 This allows gradients to flow into input\n",
        "model.gradient_checkpointing_enable()\n",
        "\n",
        "for name, param in model.named_parameters():\n",
        "    if param.requires_grad:\n",
        "        print(name)\n"
      ]
    },
    {
      "cell_type": "markdown",
      "metadata": {
        "id": "G7fwyW32FNMa"
      },
      "source": [
        "## **Step-4: Set up the Trainer**\n",
        "\n",
        "We'll use Hugging Face's `transformers.Trainer` with the following steps:"
      ]
    },
    {
      "cell_type": "markdown",
      "metadata": {
        "id": "vzzjEmfHGptR"
      },
      "source": [
        "### 1. Define Training Arguements"
      ]
    },
    {
      "cell_type": "code",
      "execution_count": null,
      "metadata": {
        "id": "3zRvjdc7Tw_V"
      },
      "outputs": [],
      "source": [
        "model.gradient_checkpointing_enable()"
      ]
    },
    {
      "cell_type": "code",
      "execution_count": null,
      "metadata": {
        "id": "e_ZN4mf4G-8x"
      },
      "outputs": [],
      "source": [
        "from transformers import TrainingArguments\n",
        "\n",
        "training_args = TrainingArguments(\n",
        "    output_dir=\"./mistral-cyberbuddy-checkpoints\",\n",
        "    per_device_train_batch_size=1,\n",
        "    gradient_accumulation_steps=8,   # To maintain same effective batch size\n",
        "    learning_rate=2e-4,\n",
        "    num_train_epochs=3,\n",
        "    max_steps=10,\n",
        "    save_steps=10,\n",
        "    logging_dir=\"./logs\",\n",
        "    logging_steps=10,\n",
        "    save_strategy=\"epoch\",\n",
        "    eval_strategy=\"epoch\",\n",
        "    bf16=True,    # or fp16=True if bf16 not supported\n",
        "    report_to=\"none\"\n",
        ")"
      ]
    },
    {
      "cell_type": "markdown",
      "metadata": {
        "id": "-BZp_ObaIeHw"
      },
      "source": [
        "### 2. Define Dara Collactor\n",
        "\n",
        "We need a causal language modelling-friendly data collector:"
      ]
    },
    {
      "cell_type": "code",
      "execution_count": null,
      "metadata": {
        "id": "2TGrJicqIivB"
      },
      "outputs": [],
      "source": [
        "from transformers import DataCollatorForLanguageModeling\n",
        "\n",
        "data_collator = DataCollatorForLanguageModeling(\n",
        "    tokenizer=tokenizer,\n",
        "    mlm=False     # Because we're not doing masked language modeling\n",
        ")"
      ]
    },
    {
      "cell_type": "markdown",
      "metadata": {
        "id": "5dK_rdRqJ1mg"
      },
      "source": [
        "**🧠 What is Masked Language Modeling (MLM)?**\n",
        "\n",
        "Masked Language Modeling (MLM) is a training strategy used in models like BERT. In this approach:\n",
        "\n",
        "* Some words in the input are replaced with [MASK] tokens.\n",
        "\n",
        "* The model is trained to predict the missing (masked) words."
      ]
    },
    {
      "cell_type": "markdown",
      "metadata": {
        "id": "8O5HAHW4JilQ"
      },
      "source": [
        "### 3. Create the Trainer"
      ]
    },
    {
      "cell_type": "code",
      "execution_count": null,
      "metadata": {
        "colab": {
          "base_uri": "https://localhost:8080/"
        },
        "id": "4TmTvhAlKKV-",
        "outputId": "b0774925-d4f9-4dec-ac18-f8962a9bc3e3"
      },
      "outputs": [
        {
          "name": "stderr",
          "output_type": "stream",
          "text": [
            "/tmp/ipython-input-34-3470316789.py:3: FutureWarning: `tokenizer` is deprecated and will be removed in version 5.0.0 for `Trainer.__init__`. Use `processing_class` instead.\n",
            "  trainer = Trainer(\n",
            "No label_names provided for model class `PeftModelForCausalLM`. Since `PeftModel` hides base models input arguments, if label_names is not given, label_names can't be set automatically within `Trainer`. Note that empty label_names list will be used instead.\n"
          ]
        }
      ],
      "source": [
        "from transformers import Trainer\n",
        "\n",
        "trainer = Trainer(\n",
        "    model=model,\n",
        "    args=training_args,\n",
        "    train_dataset=train_dataset,\n",
        "    eval_dataset=eval_dataset,\n",
        "    tokenizer=tokenizer,\n",
        "    data_collator=data_collator,\n",
        ")"
      ]
    },
    {
      "cell_type": "code",
      "execution_count": null,
      "metadata": {
        "colab": {
          "base_uri": "https://localhost:8080/",
          "height": 159
        },
        "id": "O0Y8ogXpLTN_",
        "outputId": "70322120-0c27-4d5c-d0fc-fbd147fda2d0"
      },
      "outputs": [
        {
          "name": "stderr",
          "output_type": "stream",
          "text": [
            "`use_cache=True` is incompatible with gradient checkpointing. Setting `use_cache=False`.\n"
          ]
        },
        {
          "data": {
            "text/html": [
              "\n",
              "    <div>\n",
              "      \n",
              "      <progress value='10' max='10' style='width:300px; height:20px; vertical-align: middle;'></progress>\n",
              "      [10/10 19:08, Epoch 0/1]\n",
              "    </div>\n",
              "    <table border=\"1\" class=\"dataframe\">\n",
              "  <thead>\n",
              " <tr style=\"text-align: left;\">\n",
              "      <th>Epoch</th>\n",
              "      <th>Training Loss</th>\n",
              "      <th>Validation Loss</th>\n",
              "    </tr>\n",
              "  </thead>\n",
              "  <tbody>\n",
              "    <tr>\n",
              "      <td>0</td>\n",
              "      <td>2.447300</td>\n",
              "      <td>1.964932</td>\n",
              "    </tr>\n",
              "  </tbody>\n",
              "</table><p>"
            ],
            "text/plain": [
              "<IPython.core.display.HTML object>"
            ]
          },
          "metadata": {},
          "output_type": "display_data"
        },
        {
          "data": {
            "text/plain": [
              "TrainOutput(global_step=10, training_loss=2.4472970962524414, metrics={'train_runtime': 1245.8764, 'train_samples_per_second': 0.064, 'train_steps_per_second': 0.008, 'total_flos': 1760916123156480.0, 'train_loss': 2.4472970962524414, 'epoch': 0.24691358024691357})"
            ]
          },
          "execution_count": 35,
          "metadata": {},
          "output_type": "execute_result"
        }
      ],
      "source": [
        "trainer.train()"
      ]
    },
    {
      "cell_type": "markdown",
      "metadata": {
        "id": "mG4GEGULKtfC"
      },
      "source": [
        "## **📁 Save Fine-Tuned Model**"
      ]
    },
    {
      "cell_type": "code",
      "execution_count": null,
      "metadata": {
        "colab": {
          "base_uri": "https://localhost:8080/",
          "height": 158
        },
        "id": "0kSA7EtJ6CQv",
        "outputId": "a0e0acb5-3e39-4f7c-a01a-98363d553073"
      },
      "outputs": [
        {
          "ename": "NameError",
          "evalue": "name 'trainer' is not defined",
          "output_type": "error",
          "traceback": [
            "\u001b[0;31m---------------------------------------------------------------------------\u001b[0m",
            "\u001b[0;31mNameError\u001b[0m                                 Traceback (most recent call last)",
            "\u001b[0;32m/tmp/ipython-input-2-2263683075.py\u001b[0m in \u001b[0;36m<cell line: 0>\u001b[0;34m()\u001b[0m\n\u001b[0;32m----> 1\u001b[0;31m \u001b[0mtrainer\u001b[0m\u001b[0;34m.\u001b[0m\u001b[0msave_model\u001b[0m\u001b[0;34m(\u001b[0m\u001b[0;34m\"cyberbuddy-finetuned\"\u001b[0m\u001b[0;34m)\u001b[0m\u001b[0;34m\u001b[0m\u001b[0;34m\u001b[0m\u001b[0m\n\u001b[0m\u001b[1;32m      2\u001b[0m \u001b[0mtokenizer\u001b[0m\u001b[0;34m.\u001b[0m\u001b[0msave_pretrained\u001b[0m\u001b[0;34m(\u001b[0m\u001b[0;34m\"cyberbuddy-finetuned\"\u001b[0m\u001b[0;34m)\u001b[0m\u001b[0;34m\u001b[0m\u001b[0;34m\u001b[0m\u001b[0m\n",
            "\u001b[0;31mNameError\u001b[0m: name 'trainer' is not defined"
          ]
        }
      ],
      "source": [
        "trainer.save_model(\"cyberbuddy-finetuned\")\n",
        "tokenizer.save_pretrained(\"cyberbuddy-finetuned\")"
      ]
    },
    {
      "cell_type": "code",
      "execution_count": null,
      "metadata": {
        "colab": {
          "base_uri": "https://localhost:8080/"
        },
        "id": "seWc8BdD7OQs",
        "outputId": "49f992de-38f2-4a78-c6c4-48246b250ab7"
      },
      "outputs": [
        {
          "data": {
            "text/plain": [
              "['What is the law and punishment for E-commerce warehousing fraud?',\n",
              " 'What is the law and punishment for Delayed forensic response?',\n",
              " 'What is the law and punishment for Cyber fraud?',\n",
              " 'What is the law and punishment for Extended CERT‑In mandatory reporting?',\n",
              " 'What is the law and punishment for Unauthorized data breach?',\n",
              " 'What is the law and punishment for ESXi hypervisor attack?',\n",
              " 'What is the law and punishment for Online education fraud?',\n",
              " 'What is the law and punishment for Biometric sensor hacking?',\n",
              " 'What is the law and punishment for Criminal intimidation via electronic means?',\n",
              " 'What is the law and punishment for Ransomware?',\n",
              " 'What is the law and punishment for Cloud compliance migration importance?',\n",
              " 'What is the law and punishment for Digital evidence admissibility issues?',\n",
              " 'What is the law and punishment for ATM jackpotting?',\n",
              " 'What is the law and punishment for eGov CISOs across states?',\n",
              " 'What is the law and punishment for Good faith protection?',\n",
              " 'What is the law and punishment for Data theft via cloud misconfig?',\n",
              " 'What is the law and punishment for DPDP board setup underway?',\n",
              " 'What is the law and punishment for E‑evidence admissibility not uniform?',\n",
              " 'What is the law and punishment for Karnataka HC quashes data‑theft FIR?',\n",
              " 'What is the law and punishment for TaskUs staff leak Coinbase data?',\n",
              " 'What is the law and punishment for State of Tamil Nadu v. Suhas Katti?',\n",
              " 'What is the law and punishment for Internet censorship via intermediaries?',\n",
              " 'What is the law and punishment for Safer Internet Day 2025 RBI push?',\n",
              " 'What is the law and punishment for Espionage vlogger arrested – Punjab?',\n",
              " 'What is the law and punishment for Under-capacity of cyberforensic labs?',\n",
              " 'What is the law and punishment for CERT‑In working with FIRST & Google/Mastercard?',\n",
              " 'What is the law and punishment for Supreme Court centralises harassment FIRs?',\n",
              " 'What is the law and punishment for POCSO + IT Act child porn ruling?',\n",
              " 'What is the law and punishment for Maharashtra appoints ‘cyber commando’?',\n",
              " 'What is the law and punishment for ISC Kea DNS vulnerability alert?',\n",
              " 'What is the law and punishment for Intermediary liability?',\n",
              " 'What is the law and punishment for Online financial fraud?',\n",
              " 'What is the law and punishment for Challenges in drone-terrorism framework?',\n",
              " 'What is the law and punishment for Targeted ransomware (government/law enforcement)?',\n",
              " 'What is the law and punishment for Cyberstalking / Cyberbullying?',\n",
              " 'What is the law and punishment for CloudSEK ₹20,000 cr cyber-loss warning?',\n",
              " 'What is the law and punishment for Social engineering?',\n",
              " 'What is the law and punishment for Delhi HC – phishing software possession?',\n",
              " 'What is the law and punishment for India cyber threats surge – post‑Pahalgam?',\n",
              " 'What is the law and punishment for TCS v. Dr. Basu – proprietary software access?',\n",
              " 'What is the law and punishment for UP AI Pragya digital skills plan?',\n",
              " 'What is the law and punishment for Automated comment bots for defamation?',\n",
              " 'What is the law and punishment for Linked cloud/data breach scale 2025?',\n",
              " 'What is the law and punishment for Autonomous vehicle hacking?',\n",
              " 'What is the law and punishment for Sextortion scams in Mewat?',\n",
              " 'What is the law and punishment for Browser zero-day exploit?',\n",
              " 'What is the law and punishment for Cyberspace copyright infringement?',\n",
              " 'What is the law and punishment for India Tier‑1 GCI ranking?',\n",
              " 'What is the law and punishment for Cryptocurrency-related fraud?',\n",
              " 'What is the law and punishment for OSS supply‑chain attack?',\n",
              " 'What is the law and punishment for Unrecognized Budapest convention obligations?',\n",
              " 'What is the law and punishment for Gujarat IT/ITeS policy 2022–27?',\n",
              " 'What is the law and punishment for Nasscom v. Ajay Sood (phishing)?',\n",
              " 'What is the law and punishment for Kolkata influencer hate speech arrest?',\n",
              " 'What is the law and punishment for Need for unified cyber evidence standards?',\n",
              " 'What is the law and punishment for Malicious private blockchain forks?',\n",
              " 'What is the law and punishment for Receiving stolen computer resource?',\n",
              " 'What is the law and punishment for Tampering with computer source documents?',\n",
              " 'What is the law and punishment for CBI/NCB channel via INTERPOL?',\n",
              " 'What is the law and punishment for Sabu Mathew George – safe-search precedent?',\n",
              " 'What is the law and punishment for Data breach cost – Zscaler study?',\n",
              " 'What is the law and punishment for Online booking fraud?',\n",
              " 'What is the law and punishment for Cyber Swachhta Kendra usage drive?',\n",
              " 'What is the law and punishment for Cloud‑based ransomware (OT sector)?',\n",
              " 'What is the law and punishment for SC affirms phone backup as evidence?',\n",
              " 'What is the law and punishment for Malware attacks on websites?',\n",
              " 'What is the law and punishment for Fake job / loan apps fraud?',\n",
              " 'What is the law and punishment for CERT‑In Cyber Shock-3 drill?',\n",
              " 'What is the law and punishment for Publishing sexually explicit material?',\n",
              " 'What is the law and punishment for DPDP Act phased implementation?',\n",
              " 'What is the law and punishment for Online obscene content?',\n",
              " 'What is the law and punishment for Star Health data breach challenge?',\n",
              " 'What is the law and punishment for CloudSEK ₹20k cr cyber‑fraud projection?',\n",
              " 'What is the law and punishment for Adhar data breach?',\n",
              " 'What is the law and punishment for Cybersecurity institutional policy 2025?',\n",
              " 'What is the law and punishment for MuleHunter.ai deployment?',\n",
              " 'What is the law and punishment for Malicious RMM tools?',\n",
              " 'What is the law and punishment for Deepfake impersonation scams?',\n",
              " 'What is the law and punishment for State-by-state cybersecurity focus?',\n",
              " 'What is the law and punishment for Expanding data-sharing platforms?',\n",
              " 'What is the law and punishment for Browser hijacking/adware?',\n",
              " 'What is the law and punishment for RBI issues cyber threat action plan?',\n",
              " 'What is the law and punishment for Aadhaar Authentication Rules 2025?',\n",
              " 'What is the law and punishment for Safer Internet Day – RBI campaign?',\n",
              " 'What is the law and punishment for CERT‑In funding bolstered?',\n",
              " 'What is the law and punishment for MS‑Swachhta malware outbreaks?',\n",
              " 'What is the law and punishment for Credential stuffing via RaaS?',\n",
              " 'What is the law and punishment for Automated Linux library vulnerability?',\n",
              " 'What is the law and punishment for Bihar cybercrime-cum-cybersecurity unit?',\n",
              " 'What is the law and punishment for IoT compromise?',\n",
              " 'What is the law and punishment for Draft DPDP Rules clarifications?',\n",
              " 'What is the law and punishment for WhatsApp spyware campaign exposed?',\n",
              " 'What is the law and punishment for Telangana & states e-gov adoption?',\n",
              " 'What is the law and punishment for Algorithmic bias manipulation?',\n",
              " 'What is the law and punishment for Public–private cybersecurity partnerships?',\n",
              " 'What is the law and punishment for NCIIPC notification for CII?',\n",
              " 'What is the law and punishment for Bailable offences?',\n",
              " 'What is the law and punishment for Spike in DDoS—and malware activity?',\n",
              " 'What is the law and punishment for G20 & FIRST CERT integration?',\n",
              " 'What is the law and punishment for SPDI Rules replaced under DPDP Act?',\n",
              " 'What is the law and punishment for 5.3 M data breaches in 2023?',\n",
              " 'What is the law and punishment for Online hate speech?',\n",
              " 'What is the law and punishment for Systemic telecom mock drills?',\n",
              " 'What is the law and punishment for Wearable hacking?',\n",
              " 'What is the law and punishment for Denial-of-service attacks?',\n",
              " 'What is the law and punishment for Compliance gaps in MSMEs?',\n",
              " 'What is the law and punishment for SPoC collaboration loopholes?',\n",
              " 'What is the law and punishment for Lack of multi-jurisdictional investigation teams?',\n",
              " 'What is the law and punishment for Failure to follow audit requirements?',\n",
              " 'What is the law and punishment for Star Health writ dismissal?',\n",
              " 'What is the law and punishment for MoU with US for cyber investigations?',\n",
              " 'What is the law and punishment for Crypto/VA funding monitoring?',\n",
              " 'What is the law and punishment for High‑value cyber‑fraud verdicts emerging?',\n",
              " 'What is the law and punishment for CERT‑In international cooperation?',\n",
              " 'What is the law and punishment for Govt email security policy?',\n",
              " 'What is the law and punishment for CBI busts Microsoft‑impersonation scam?',\n",
              " 'What is the law and punishment for MARVEL AI policing in Maharashtra?',\n",
              " 'What is the law and punishment for Online ticketing fraud?',\n",
              " 'What is the law and punishment for Hyderabad YouTuber espionage arrest?',\n",
              " 'What is the law and punishment for Identity theft?',\n",
              " 'What is the law and punishment for Phishing via AI voice calls?',\n",
              " 'What is the law and punishment for E‑evidence reform: BSA vs IEA?',\n",
              " 'What is the law and punishment for Hacktivist surge in 2024?',\n",
              " 'What is the law and punishment for School cybersecurity norms in Bihar?',\n",
              " 'What is the law and punishment for AI chatbot impersonation?',\n",
              " 'What is the law and punishment for Angel One AWS breach?',\n",
              " 'What is the law and punishment for Mismatched digital evidence standards?',\n",
              " 'What is the law and punishment for Revamped Aadhaar Auth rules?',\n",
              " 'What is the law and punishment for RBI cross‑border threat alert?',\n",
              " 'What is the law and punishment for Deepfake propaganda/disinformation?',\n",
              " 'What is the law and punishment for Weak global cyber-crime alignment?',\n",
              " 'What is the law and punishment for Illegal sale via online platforms?',\n",
              " 'What is the law and punishment for Delayed adoption of UN‑cybercrime treaty?',\n",
              " 'What is the law and punishment for Voice cloning fraud?',\n",
              " 'What is the law and punishment for Examiner of electronic evidence?',\n",
              " 'What is the law and punishment for AI in financial crime—GenAI wave?',\n",
              " 'What is the law and punishment for Need for expanded MoUs?',\n",
              " 'What is the law and punishment for Check Point Harmony SASE in India?',\n",
              " 'What is the law and punishment for April 2025 global ransomware wave?',\n",
              " 'What is the law and punishment for MeitY CISO training drive?',\n",
              " 'What is the law and punishment for TROPEX 2025 cyber component?',\n",
              " 'What is the law and punishment for Non-compliance with CERT-In reporting?',\n",
              " 'What is the law and punishment for Supreme Court YouTube hack 2024?',\n",
              " 'What is the law and punishment for LOLBAS “BYOVD” driver abuse?',\n",
              " 'What is the law and punishment for Conviction delays due to weak forensics?',\n",
              " 'What is the law and punishment for Cyber fraud (bogus websites)?',\n",
              " 'What is the law and punishment for UP cooperative banks cybersecurity upgrade?',\n",
              " 'What is the law and punishment for IT Act supremacy?',\n",
              " 'What is the law and punishment for Website defacement?',\n",
              " 'What is the law and punishment for Cyber Swachhta Kendra under-use?',\n",
              " 'What is the law and punishment for Sexual exploitation (sextortion)?',\n",
              " 'What is the law and punishment for Illegal surveillance via spyware?',\n",
              " 'What is the law and punishment for Phishing targeting business apps?',\n",
              " 'What is the law and punishment for Living‑off‑the‑Land ransomware?',\n",
              " 'What is the law and punishment for Failure to decrypt data?',\n",
              " 'What is the law and punishment for RBI & AI model caution?',\n",
              " 'What is the law and punishment for Sextortion / online sexual exploitation?',\n",
              " 'What is the law and punishment for Identity theft rising?',\n",
              " 'What is the law and punishment for Cyber extortion (DDoS & ransomware)?',\n",
              " 'What is the law and punishment for Automated content takedown obligations?',\n",
              " 'What is the law and punishment for Deepfake/AI threat advisories?',\n",
              " 'What is the law and punishment for Electronic cheques?',\n",
              " 'What is the law and punishment for Gurgaon cyber‑fraud crackdown?',\n",
              " 'What is the law and punishment for I4C as international nodal agency?',\n",
              " 'What is the law and punishment for GCI Tier‑1 ranking reaffirmed?',\n",
              " 'What is the law and punishment for India’s Tier‑I CERT status?',\n",
              " 'What is the law and punishment for Obstruction of cyber investigations?',\n",
              " 'What is the law and punishment for Deepfake threat advisories?',\n",
              " 'What is the law and punishment for Growing cyber loss projection?',\n",
              " 'What is the law and punishment for India retains Tier‑1 GCI status?',\n",
              " 'What is the law and punishment for G20 cyber drills under RBI & CERT‑In?',\n",
              " 'What is the law and punishment for Rajasthan online betting racket?',\n",
              " 'What is the law and punishment for Lack of guidelines on smartphone forensics?',\n",
              " 'What is the law and punishment for Mutual Legal Assistance delays?',\n",
              " 'What is the law and punishment for E‑mail spoofing?',\n",
              " 'What is the law and punishment for Deepfake detection: Vastav AI?',\n",
              " 'What is the law and punishment for Backdoor in AI models (supply‑chain attack)?',\n",
              " 'What is the law and punishment for WhatsApp spyware detected in 2025?',\n",
              " 'What is the law and punishment for UP public complaint metrics include cybercrime?',\n",
              " 'What is the law and punishment for ATM/OTP fraud?',\n",
              " 'What is the law and punishment for Streaming piracy?',\n",
              " 'What is the law and punishment for New DPDP Rules 2025?',\n",
              " 'What is the law and punishment for Citizen financial fraud reporting?',\n",
              " 'What is the law and punishment for Cross-border extradition gaps?',\n",
              " 'What is the law and punishment for Cloud storage exfiltration?',\n",
              " 'What is the law and punishment for AI deepfake fake KYC scams?',\n",
              " 'What is the law and punishment for Inclusion of disinformation laws?',\n",
              " 'What is the law and punishment for Angel One AWS resources breached?',\n",
              " 'What is the law and punishment for Increased funds for CERT‑In?',\n",
              " 'What is the law and punishment for Sectoral increase in ransomware?',\n",
              " 'What is the law and punishment for India’s data breaches surge 2023?',\n",
              " 'What is the law and punishment for CERT‑In Cyber Shock‑3 drill?',\n",
              " 'What is the law and punishment for Malware-laden Android trojans?',\n",
              " 'What is the law and punishment for Phantom browser tabs attack?',\n",
              " 'What is the law and punishment for Sony Sambandh credit card fraud?',\n",
              " 'What is the law and punishment for Love-jihad cyber fraud?',\n",
              " 'What is the law and punishment for AI threat guidance via CERT‑In?',\n",
              " 'What is the law and punishment for Underreporting of cybercrime?',\n",
              " 'What is the law and punishment for Telephone phishing / vishing?',\n",
              " 'What is the law and punishment for Global ransomware surge in April 2025?',\n",
              " 'What is the law and punishment for SMS phishing (SMiShing)?',\n",
              " 'What is the law and punishment for Credential harvesting via social media?',\n",
              " 'What is the law and punishment for AI-powered social engineering?',\n",
              " 'What is the law and punishment for Low cyber-hygiene among citizens?',\n",
              " 'What is the law and punishment for SPDI Rules replacement?',\n",
              " 'What is the law and punishment for Intermediary content removal timelines?',\n",
              " \"What is the law and punishment for Digital arrest scam ('pregnant job') Nawada gang?\",\n",
              " 'What is the law and punishment for Digital Evidence Act – BSA update?',\n",
              " 'What is the law and punishment for India–Pakistan cyber war spike 2025?',\n",
              " 'What is the law and punishment for Medical device hacking?',\n",
              " 'What is the law and punishment for EU/UK cyber law alignment observation?',\n",
              " 'What is the law and punishment for National Insurance v. IFFCO Tokio breach?',\n",
              " 'What is the law and punishment for Supply‑chain poisoning attack?',\n",
              " 'What is the law and punishment for Bihar cybercrime-cum-cybersecurity unit?',\n",
              " 'What is the law and punishment for Ransomware in manufacturing?',\n",
              " 'What is the law and punishment for UP Ayushman Bharat healthcare fraud?',\n",
              " 'What is the law and punishment for Mock cyber drills under Operation Sindoor?',\n",
              " 'What is the law and punishment for CERT‑In 6-hour incident reporting enforced?',\n",
              " 'What is the law and punishment for Delayed public awareness campaigns?',\n",
              " 'What is the law and punishment for Publishing obscene material?',\n",
              " 'What is the law and punishment for Pregnant Job racket – Nawada?',\n",
              " 'What is the law and punishment for Global cloud security threats 2025?',\n",
              " 'What is the law and punishment for iPhone forensic best practices?',\n",
              " 'What is the law and punishment for Hacking / damage to computer systems?',\n",
              " 'What is the law and punishment for Law Compliance: SC Privacy precedent?',\n",
              " 'What is the law and punishment for Two Thane cyber‑cell cops busted in CDR racket?',\n",
              " 'What is the law and punishment for Email account compromise?',\n",
              " 'What is the law and punishment for TROPEX joint ops resilience?',\n",
              " 'What is the law and punishment for VPN/log retention mandate?',\n",
              " 'What is the law and punishment for CERT‑In directive enforcement cases?',\n",
              " 'What is the law and punishment for Smart city system breach?',\n",
              " 'What is the law and punishment for 540 repatriated from Cambodia scam farms?',\n",
              " 'What is the law and punishment for Avnish Bajaj (Bazee.com) obscene MMS?',\n",
              " 'What is the law and punishment for Corporate cyber offences?',\n",
              " 'What is the law and punishment for VPN/log retention rules?',\n",
              " 'What is the law and punishment for AI‑powered insider trading bots?',\n",
              " 'What is the law and punishment for UP cooperative banks cybersecurity upgrade?',\n",
              " 'What is the law and punishment for Global regulatory alignment?',\n",
              " 'What is the law and punishment for RBI CSITE inspections?',\n",
              " 'What is the law and punishment for Zscaler: 59% expect cyber breach in 2025?',\n",
              " 'What is the law and punishment for Extra-territorial cyber offences?',\n",
              " 'What is the law and punishment for Hospital ransomware?',\n",
              " 'What is the law and punishment for DPDP Act implementation phase?',\n",
              " 'What is the law and punishment for Chrome update bypass?',\n",
              " 'What is the law and punishment for State-level digital data norms?',\n",
              " 'What is the law and punishment for Social media algorithm manipulation?',\n",
              " 'What is the law and punishment for Global and domestic cyber threat growth?',\n",
              " 'What is the law and punishment for Low conviction rates?',\n",
              " 'What is the law and punishment for Inconsistent INTERPOL red notices for cybercriminals?',\n",
              " 'What is the law and punishment for India AI & Safe‑Trust pillar?',\n",
              " 'What is the law and punishment for Cross-border jurisdiction challenges?',\n",
              " 'What is the law and punishment for SIM swap fraud surge?',\n",
              " 'What is the law and punishment for AI and ransomware in threat advisories?',\n",
              " 'What is the law and punishment for Fraudulent publication?',\n",
              " 'What is the law and punishment for AI-generated phishing emails?',\n",
              " 'What is the law and punishment for Failure to comply with Controller’s directions?',\n",
              " 'What is the law and punishment for India ranks #1 target of hacktivists?',\n",
              " 'What is the law and punishment for Joint Cyber Coordination Teams (JCCTs)?',\n",
              " 'What is the law and punishment for Sectoral cybersecurity rules (RBI/SEBI/IRDAI)?',\n",
              " \"What is the law and punishment for India's cybersecurity overview 2025?\",\n",
              " 'What is the law and punishment for Cyber stalking / bullying?',\n",
              " 'What is the law and punishment for Child pornography offences?',\n",
              " 'What is the law and punishment for Cyber terrorism?',\n",
              " 'What is the law and punishment for India’s cyber statecraft analysis?',\n",
              " 'What is the law and punishment for Cheating by personation using computer resource?',\n",
              " 'What is the law and punishment for Cloud cryptojacking?',\n",
              " 'What is the law and punishment for Online gambling offences?',\n",
              " 'What is the law and punishment for Mobile SIM cloning at scale?',\n",
              " 'What is the law and punishment for Mandatory incident reporting for critical sectors?',\n",
              " 'What is the law and punishment for MuleHunter.ai anti‑fraud deployment?',\n",
              " 'What is the law and punishment for Controller’s orders?',\n",
              " 'What is the law and punishment for Deepfake misinformation campaigns?',\n",
              " 'What is the law and punishment for Collaborative platform poisoning?',\n",
              " 'What is the law and punishment for Automotive hacking?',\n",
              " 'What is the law and punishment for Intermediary liability unclear in prosecution?',\n",
              " 'What is the law and punishment for Mass SMS phishing?',\n",
              " 'What is the law and punishment for SIM‑swap fraud?',\n",
              " 'What is the law and punishment for Child cyber exploitation?',\n",
              " 'What is the law and punishment for Supreme Court: phone backups valid evidence?',\n",
              " 'What is the law and punishment for Search & seizure powers?',\n",
              " 'What is the law and punishment for Infosys US-unit breach settlement?',\n",
              " 'What is the law and punishment for Need mutual recognition of cyber certificates?',\n",
              " 'What is the law and punishment for IoT botnet attacks?',\n",
              " 'What is the law and punishment for SECPOD PREVENT 2025 conference?',\n",
              " 'What is the law and punishment for SC upholds child‑porn offence?',\n",
              " 'What is the law and punishment for Confiscation of cyber tools?',\n",
              " 'What is the law and punishment for Gujarat transnational cybercrime bust?',\n",
              " 'What is the law and punishment for Hare Ram Singh v. RBI – bank liability?',\n",
              " 'What is the law and punishment for Critical infrastructure policy gaps?',\n",
              " 'What is the law and punishment for Supreme Court directs Tamil Nadu cyber‑FIR transfers?',\n",
              " 'What is the law and punishment for RBI alert on cross‑border cyber threats?',\n",
              " 'What is the law and punishment for Digital forgery?',\n",
              " 'What is the law and punishment for Ease of SIM and IMEI blocking?',\n",
              " 'What is the law and punishment for Securing access to protected system?',\n",
              " 'What is the law and punishment for Weak cybersecurity culture in govt?',\n",
              " 'What is the law and punishment for Prasad scam – fake temple offerings?',\n",
              " 'What is the law and punishment for CBI SIM‑dealers arrested in UP?',\n",
              " 'What is the law and punishment for Violation of privacy?',\n",
              " 'What is the law and punishment for Credential stuffing?',\n",
              " 'What is the law and punishment for Silicomp junior data‑theft FIR quashed?',\n",
              " 'What is the law and punishment for Hacktivist targeting of India?',\n",
              " 'What is the law and punishment for OTP/ATM fraud?',\n",
              " 'What is the law and punishment for Hyderabad man impersonates CP over WhatsApp?',\n",
              " 'What is the law and punishment for Online hellhound/extortion targeting women?',\n",
              " 'What is the law and punishment for Connected implant hacking?',\n",
              " 'What is the law and punishment for Drone-based data harvesting?',\n",
              " 'What is the law and punishment for ISC Kea DNS vulnerability?',\n",
              " 'What is the law and punishment for Android malware?',\n",
              " 'What is the law and punishment for Phishing toward banking/apps?',\n",
              " 'What is the law and punishment for India–US cybercrime MoU?',\n",
              " 'What is the law and punishment for Delhi HC conviction in phishing tool possession?',\n",
              " 'What is the law and punishment for Oracle Cloud SSO breach?',\n",
              " 'What is the law and punishment for Need for cyber training with foreign agencies?',\n",
              " 'What is the law and punishment for Mobile banking malware?',\n",
              " 'What is the law and punishment for Gurgaon cyber‑crime ring arrested (55 arrested)?',\n",
              " 'What is the law and punishment for Public cloud misconfiguration attacks?',\n",
              " 'What is the law and punishment for Supply-chain poisoning?',\n",
              " 'What is the law and punishment for SMC Pneumatics v. ex-employee data theft?',\n",
              " 'What is the law and punishment for CloudSEK ₹20,000 cr loss forecast?',\n",
              " 'What is the law and punishment for Landmark SC cyber‑law precedents reminder?',\n",
              " 'What is the law and punishment for Insider leakage risk?',\n",
              " 'What is the law and punishment for Deepfake / synthetic media?',\n",
              " 'What is the law and punishment for Major breaches top-of-mind in India 2024?',\n",
              " 'What is the law and punishment for Customer-care / refund phishing?',\n",
              " 'What is the law and punishment for Online recruitment fraud?',\n",
              " 'What is the law and punishment for Cyber constitutional gap analysis?',\n",
              " 'What is the law and punishment for Data breach / leak?',\n",
              " 'What is the law and punishment for Milma‑Kerala cyber awareness campaign?',\n",
              " 'What is the law and punishment for Industrial IoT sabotage?',\n",
              " 'What is the law and punishment for Fragmented state enforcement?',\n",
              " 'What is the law and punishment for SPoC delays in forensic lab capacity?',\n",
              " 'What is the law and punishment for Telangana cyber‑slavery ring bust?',\n",
              " 'What is the law and punishment for Cloud intrusion via stolen credentials?',\n",
              " 'What is the law and punishment for Fake tech support scams?',\n",
              " 'What is the law and punishment for Failure to retain information by intermediaries?',\n",
              " 'What is the law and punishment for Ransomware-as-a-Service (RaaS)?',\n",
              " 'What is the law and punishment for Cloud security stats 2025?',\n",
              " 'What is the law and punishment for AI app malware?',\n",
              " 'What is the law and punishment for Fake/malicious mobile apps?',\n",
              " 'What is the law and punishment for State‑wise conviction disparity?',\n",
              " 'What is the law and punishment for Hacking (computer related offences)?',\n",
              " 'What is the law and punishment for Online defamation?',\n",
              " 'What is the law and punishment for Smart contract exploits?',\n",
              " 'What is the law and punishment for Publishing false electronic signature certificate?',\n",
              " 'What is the law and punishment for AI model inversion/data leakage?',\n",
              " 'What is the law and punishment for Hacktivist surge in 2024?',\n",
              " 'What is the law and punishment for Civil defence cyber‑toy drills overlap?',\n",
              " 'What is the law and punishment for Online gift/fake lottery fraud?',\n",
              " 'What is the law and punishment for Safer Internet Day (MeitY ISEA workshops)?',\n",
              " 'What is the law and punishment for Cyber threat forecast by CloudSEK?',\n",
              " 'What is the law and punishment for Export controls on cyber‑tools?',\n",
              " 'What is the law and punishment for Public–private cyber awareness plan?',\n",
              " 'What is the law and punishment for Public servants in IT?',\n",
              " 'What is the law and punishment for Queueing denial attacks (API abuse)?',\n",
              " 'What is the law and punishment for Silicomp ex-staff data theft case quashed?',\n",
              " 'What is the law and punishment for Cloud misconfiguration leaks?',\n",
              " 'What is the law and punishment for CERT‑In SAMVAAD 2025 audits?',\n",
              " 'What is the law and punishment for Global alignment (EU/UK NIS)?',\n",
              " 'What is the law and punishment for Pune Citibank/Mphasis call‑centre fraud?',\n",
              " 'What is the law and punishment for Sending abusive/obscene messages?',\n",
              " 'What is the law and punishment for Reuters hack‑for‑hire exposé reinstated?',\n",
              " 'What is the law and punishment for Smart-home surveillance breach?',\n",
              " 'What is the law and punishment for RBI’s CSITE inspections?',\n",
              " 'What is the law and punishment for Social media impersonation?',\n",
              " 'What is the law and punishment for CERT‑In Digital Threat Report 2024?',\n",
              " 'What is the law and punishment for Compounding of offences?',\n",
              " 'What is the law and punishment for Mock drills during Operation Sindoor?',\n",
              " 'What is the law and punishment for Breach of confidentiality and privacy?',\n",
              " 'What is the law and punishment for G20 cyber drills with RBI & CERT‑In?',\n",
              " 'What is the law and punishment for Cloud ransomware extortion?',\n",
              " 'What is the law and punishment for NAS malware encryption?',\n",
              " 'What is the law and punishment for Inconsistent prosecution strategies?',\n",
              " 'What is the law and punishment for BFSI root cause analysis report?',\n",
              " 'What is the law and punishment for Disclosure of information in breach of contract?',\n",
              " 'What is the law and punishment for Android/iOS/Chrome high-severity alerts?',\n",
              " 'What is the law and punishment for IndiaAI & Safe Trust AI pillar?',\n",
              " 'What is the law and punishment for Credential stuffing?',\n",
              " 'What is the law and punishment for Lack of cyber-diplomacy framework?',\n",
              " 'What is the law and punishment for Encryption methods?',\n",
              " 'What is the law and punishment for FIRST & G20 cyber drills?',\n",
              " 'What is the law and punishment for CERT‑In Tier‑1 ranking & audit readiness?',\n",
              " 'What is the law and punishment for Abetment of cyber offences?',\n",
              " 'What is the law and punishment for Andhra Pradesh district tech centers?',\n",
              " 'What is the law and punishment for Delayed policy update?',\n",
              " 'What is the law and punishment for Phishing attacks?',\n",
              " 'What is the law and punishment for Cyber terrorism?',\n",
              " 'What is the law and punishment for AePS fraud / biometric cloning?',\n",
              " 'What is the law and punishment for Low conviction rates?',\n",
              " 'What is the law and punishment for LOLBAS script abuse?',\n",
              " 'What is the law and punishment for Pune mule‑account fraud bust?',\n",
              " 'What is the law and punishment for Web‑jacking (online extortion)?',\n",
              " 'What is the law and punishment for April 2025 global cyber incidents?',\n",
              " 'What is the law and punishment for Non-interference of penalties?',\n",
              " 'What is the law and punishment for Mobile vulnerability advisories (iOS & Android)?',\n",
              " 'What is the law and punishment for IoMT device breach?',\n",
              " 'What is the law and punishment for VIF: ₹20,000 cr cybercrime forecast?',\n",
              " 'What is the law and punishment for Vastav AI deepfake defense?',\n",
              " 'What is the law and punishment for Mobile malware?',\n",
              " 'What is the law and punishment for Government email security policy?',\n",
              " 'What is the law and punishment for Legal tussle: X vs Govt over censorship?',\n",
              " 'What is the law and punishment for Misrepresentation for digital signature?',\n",
              " 'What is the law and punishment for Living Malware Delivery via LOLBAS?',\n",
              " 'What is the law and punishment for Low capacity of international evidence transfer?',\n",
              " 'What is the law and punishment for Attempt to commit cyber offences?',\n",
              " 'What is the law and punishment for Cyber extortion?',\n",
              " 'What is the law and punishment for RDP brute‑force ransomware?']"
            ]
          },
          "execution_count": 40,
          "metadata": {},
          "output_type": "execute_result"
        }
      ],
      "source": [
        "dataset['instruction']"
      ]
    },
    {
      "cell_type": "code",
      "execution_count": null,
      "metadata": {
        "colab": {
          "base_uri": "https://localhost:8080/"
        },
        "id": "XFsVOrCE6KSn",
        "outputId": "08203869-81e8-4017-90c0-821f1e4a354e"
      },
      "outputs": [
        {
          "name": "stderr",
          "output_type": "stream",
          "text": [
            "Device set to use cuda:0\n"
          ]
        },
        {
          "name": "stdout",
          "output_type": "stream",
          "text": [
            "<s>[INST] 'What is the purpose of this chatbot? [/INST] [ANS]To train chatbots to respond to conversations with empathy. [/ANS] [EXA]What can you use the bot for? [/EXA] [EXA]How can I train the bot? [/EXA]'\n",
            "même\n",
            "\n",
            "[INST] 'What is the purpose of this chatbot? [/INST] [ANS]To train chatbots to respond to conversations with empathy. [/ANS] [\n"
          ]
        }
      ],
      "source": [
        "from transformers import pipeline\n",
        "\n",
        "pipe = pipeline(\"text-generation\", model=model, tokenizer=tokenizer)\n",
        "\n",
        "response = pipe(\"<s>[INST] 'What is the purpose of this chatbot? [/INST]\",\n",
        "                max_new_tokens=100,\n",
        "                do_sample=True,\n",
        "                temperature=0.7)\n",
        "\n",
        "print(response[0]['generated_text'])\n"
      ]
    },
    {
      "cell_type": "code",
      "execution_count": null,
      "metadata": {
        "colab": {
          "base_uri": "https://localhost:8080/",
          "referenced_widgets": [
            "8acbc6951ebc4c21b05c9a6c8a731dbd",
            "91df9d8723004ecfb49706aeecd016e0",
            "a697a31eac8b42ef96873aa2091b4b75",
            "dda61e7cee0c4e71bd5e667e177fb121",
            "6ce2fc9018414f4f8d66cfb5663552e5",
            "1766993e93fd4b1ea6d040c0614417f9",
            "02e5714b8be14a8db2838ebeaf916f87",
            "b5c625fb9266494c97140d4a90091619",
            "ea7f42f224974fc490ed187e9e71cc89",
            "e87493a5fd3c42cf8536d512df9992d7",
            "0499b20ded8e42b08c34f8f46f62a0e1"
          ]
        },
        "id": "vC08Bh9d64kK",
        "outputId": "c83e3a4e-3252-4939-dbc4-989ac0c9f016"
      },
      "outputs": [
        {
          "name": "stderr",
          "output_type": "stream",
          "text": [
            "/usr/local/lib/python3.11/dist-packages/huggingface_hub/utils/_auth.py:94: UserWarning: \n",
            "The secret `HF_TOKEN` does not exist in your Colab secrets.\n",
            "To authenticate with the Hugging Face Hub, create a token in your settings tab (https://huggingface.co/settings/tokens), set it as secret in your Google Colab and restart your session.\n",
            "You will be able to reuse this secret in all of your notebooks.\n",
            "Please note that authentication is recommended but still optional to access public models or datasets.\n",
            "  warnings.warn(\n"
          ]
        },
        {
          "data": {
            "application/vnd.jupyter.widget-view+json": {
              "model_id": "8acbc6951ebc4c21b05c9a6c8a731dbd",
              "version_major": 2,
              "version_minor": 0
            },
            "text/plain": [
              "Loading checkpoint shards:   0%|          | 0/2 [00:00<?, ?it/s]"
            ]
          },
          "metadata": {},
          "output_type": "display_data"
        }
      ],
      "source": [
        "from transformers import AutoModelForCausalLM, AutoTokenizer, pipeline\n",
        "\n",
        "# ✅ Load your fine-tuned model\n",
        "model = AutoModelForCausalLM.from_pretrained(\"cyberbuddy-finetuned\")\n",
        "tokenizer = AutoTokenizer.from_pretrained(\"cyberbuddy-finetuned\")\n",
        "\n"
      ]
    },
    {
      "cell_type": "code",
      "execution_count": null,
      "metadata": {
        "id": "duEBSgA19PyW"
      },
      "outputs": [],
      "source": [
        "# ✅ Generate response\n",
        "pipe = pipeline(\"text-generation\", model=model, tokenizer=tokenizer)\n",
        "\n"
      ]
    },
    {
      "cell_type": "code",
      "execution_count": null,
      "metadata": {
        "id": "cjPuxvN59dqO"
      },
      "outputs": [],
      "source": [
        "prompt = \"<s>[INST] What is the punishment for hacking? [/INST]\"\n",
        "response = pipe(prompt, max_new_tokens=100, do_sample=True, temperature=0.7)\n",
        "\n",
        "print(response[0]['generated_text'])"
      ]
    },
    {
      "cell_type": "code",
      "execution_count": null,
      "metadata": {
        "colab": {
          "base_uri": "https://localhost:8080/",
          "height": 158
        },
        "id": "mMNLg1l59fWY",
        "outputId": "a34affa6-9b63-41e6-9114-aaf6e51f1f0a"
      },
      "outputs": [
        {
          "ename": "FileNotFoundError",
          "evalue": "[Errno 2] No such file or directory: 'cyberbuddy-finetuned'",
          "output_type": "error",
          "traceback": [
            "\u001b[0;31m---------------------------------------------------------------------------\u001b[0m",
            "\u001b[0;31mFileNotFoundError\u001b[0m                         Traceback (most recent call last)",
            "\u001b[0;32m/tmp/ipython-input-1-1776059889.py\u001b[0m in \u001b[0;36m<cell line: 0>\u001b[0;34m()\u001b[0m\n\u001b[1;32m      1\u001b[0m \u001b[0;32mimport\u001b[0m \u001b[0mos\u001b[0m\u001b[0;34m\u001b[0m\u001b[0;34m\u001b[0m\u001b[0m\n\u001b[0;32m----> 2\u001b[0;31m \u001b[0mos\u001b[0m\u001b[0;34m.\u001b[0m\u001b[0mlistdir\u001b[0m\u001b[0;34m(\u001b[0m\u001b[0;34m\"cyberbuddy-finetuned\"\u001b[0m\u001b[0;34m)\u001b[0m\u001b[0;34m\u001b[0m\u001b[0;34m\u001b[0m\u001b[0m\n\u001b[0m",
            "\u001b[0;31mFileNotFoundError\u001b[0m: [Errno 2] No such file or directory: 'cyberbuddy-finetuned'"
          ]
        }
      ],
      "source": [
        "import os\n",
        "os.listdir(\"cyberbuddy-finetuned\")\n"
      ]
    },
    {
      "cell_type": "code",
      "execution_count": null,
      "metadata": {
        "id": "Ci9AlSOYZj-0"
      },
      "outputs": [],
      "source": []
    }
  ],
  "metadata": {
    "accelerator": "GPU",
    "colab": {
      "gpuType": "T4",
      "provenance": []
    },
    "kernelspec": {
      "display_name": "Python 3",
      "name": "python3"
    },
    "language_info": {
      "name": "python"
    },
    "widgets": {
      "application/vnd.jupyter.widget-state+json": {
        "011d01295ad74a06ae078759efd21e95": {
          "model_module": "@jupyter-widgets/controls",
          "model_module_version": "1.5.0",
          "model_name": "HTMLModel",
          "state": {
            "_dom_classes": [],
            "_model_module": "@jupyter-widgets/controls",
            "_model_module_version": "1.5.0",
            "_model_name": "HTMLModel",
            "_view_count": null,
            "_view_module": "@jupyter-widgets/controls",
            "_view_module_version": "1.5.0",
            "_view_name": "HTMLView",
            "description": "",
            "description_tooltip": null,
            "layout": "IPY_MODEL_bbead9e0933c46ada7ed7c8af8dc95d6",
            "placeholder": "​",
            "style": "IPY_MODEL_ddc7ee86d5cd4c3a9dfb0138bd4d65c2",
            "value": "special_tokens_map.json: 100%"
          }
        },
        "02e5714b8be14a8db2838ebeaf916f87": {
          "model_module": "@jupyter-widgets/controls",
          "model_module_version": "1.5.0",
          "model_name": "DescriptionStyleModel",
          "state": {
            "_model_module": "@jupyter-widgets/controls",
            "_model_module_version": "1.5.0",
            "_model_name": "DescriptionStyleModel",
            "_view_count": null,
            "_view_module": "@jupyter-widgets/base",
            "_view_module_version": "1.2.0",
            "_view_name": "StyleView",
            "description_width": ""
          }
        },
        "0499b20ded8e42b08c34f8f46f62a0e1": {
          "model_module": "@jupyter-widgets/controls",
          "model_module_version": "1.5.0",
          "model_name": "DescriptionStyleModel",
          "state": {
            "_model_module": "@jupyter-widgets/controls",
            "_model_module_version": "1.5.0",
            "_model_name": "DescriptionStyleModel",
            "_view_count": null,
            "_view_module": "@jupyter-widgets/base",
            "_view_module_version": "1.2.0",
            "_view_name": "StyleView",
            "description_width": ""
          }
        },
        "05d577e85ccc4fc1a80051c682e35332": {
          "model_module": "@jupyter-widgets/controls",
          "model_module_version": "1.5.0",
          "model_name": "HTMLModel",
          "state": {
            "_dom_classes": [],
            "_model_module": "@jupyter-widgets/controls",
            "_model_module_version": "1.5.0",
            "_model_name": "HTMLModel",
            "_view_count": null,
            "_view_module": "@jupyter-widgets/controls",
            "_view_module_version": "1.5.0",
            "_view_name": "HTMLView",
            "description": "",
            "description_tooltip": null,
            "layout": "IPY_MODEL_970e9ce157164d5585d167f239e9d753",
            "placeholder": "​",
            "style": "IPY_MODEL_0f20cf8f4a654b84acc67cc7ab5e3c23",
            "value": "tokenizer.json: 100%"
          }
        },
        "0e3d933eac9142689ec1919b8ae6d8ba": {
          "model_module": "@jupyter-widgets/controls",
          "model_module_version": "1.5.0",
          "model_name": "HTMLModel",
          "state": {
            "_dom_classes": [],
            "_model_module": "@jupyter-widgets/controls",
            "_model_module_version": "1.5.0",
            "_model_name": "HTMLModel",
            "_view_count": null,
            "_view_module": "@jupyter-widgets/controls",
            "_view_module_version": "1.5.0",
            "_view_name": "HTMLView",
            "description": "",
            "description_tooltip": null,
            "layout": "IPY_MODEL_9364042054d24c1592d076676c5968dc",
            "placeholder": "​",
            "style": "IPY_MODEL_cc2eccdc26eb48559fafc21464bb4c05",
            "value": "Map: 100%"
          }
        },
        "0f20cf8f4a654b84acc67cc7ab5e3c23": {
          "model_module": "@jupyter-widgets/controls",
          "model_module_version": "1.5.0",
          "model_name": "DescriptionStyleModel",
          "state": {
            "_model_module": "@jupyter-widgets/controls",
            "_model_module_version": "1.5.0",
            "_model_name": "DescriptionStyleModel",
            "_view_count": null,
            "_view_module": "@jupyter-widgets/base",
            "_view_module_version": "1.2.0",
            "_view_name": "StyleView",
            "description_width": ""
          }
        },
        "0f720e5a3314489abe3546523459d299": {
          "model_module": "@jupyter-widgets/controls",
          "model_module_version": "1.5.0",
          "model_name": "HBoxModel",
          "state": {
            "_dom_classes": [],
            "_model_module": "@jupyter-widgets/controls",
            "_model_module_version": "1.5.0",
            "_model_name": "HBoxModel",
            "_view_count": null,
            "_view_module": "@jupyter-widgets/controls",
            "_view_module_version": "1.5.0",
            "_view_name": "HBoxView",
            "box_style": "",
            "children": [
              "IPY_MODEL_0e3d933eac9142689ec1919b8ae6d8ba",
              "IPY_MODEL_a03654dcfb524d479746b6e14e75ea92",
              "IPY_MODEL_c9608370c9994fdd977ae5c0cc87a0e1"
            ],
            "layout": "IPY_MODEL_c7840dea8b0a4cedacc0110040f9bac9"
          }
        },
        "11120bb6866f4877aa21bfa6fadafe5c": {
          "model_module": "@jupyter-widgets/controls",
          "model_module_version": "1.5.0",
          "model_name": "FloatProgressModel",
          "state": {
            "_dom_classes": [],
            "_model_module": "@jupyter-widgets/controls",
            "_model_module_version": "1.5.0",
            "_model_name": "FloatProgressModel",
            "_view_count": null,
            "_view_module": "@jupyter-widgets/controls",
            "_view_module_version": "1.5.0",
            "_view_name": "ProgressView",
            "bar_style": "success",
            "description": "",
            "description_tooltip": null,
            "layout": "IPY_MODEL_29e89e671a1c4dfb9c17e35d2dcc9bf6",
            "max": 996,
            "min": 0,
            "orientation": "horizontal",
            "style": "IPY_MODEL_abf1add9203e4af69270a1a72f0a9559",
            "value": 996
          }
        },
        "12b264cc9a9a4c42b5681b775c809305": {
          "model_module": "@jupyter-widgets/controls",
          "model_module_version": "1.5.0",
          "model_name": "HBoxModel",
          "state": {
            "_dom_classes": [],
            "_model_module": "@jupyter-widgets/controls",
            "_model_module_version": "1.5.0",
            "_model_name": "HBoxModel",
            "_view_count": null,
            "_view_module": "@jupyter-widgets/controls",
            "_view_module_version": "1.5.0",
            "_view_name": "HBoxView",
            "box_style": "",
            "children": [
              "IPY_MODEL_7f9593c188b2419cb8a6a7ec4f2e05c4",
              "IPY_MODEL_3dcc731f45bf4559b4bbc5fb81bab69c",
              "IPY_MODEL_ea2fbf8225594f5c8548568c5ca7b6b3"
            ],
            "layout": "IPY_MODEL_d344098091b445d6b1a263e3ea66a54c"
          }
        },
        "13cd0067a64942fba104a634c445db44": {
          "model_module": "@jupyter-widgets/controls",
          "model_module_version": "1.5.0",
          "model_name": "DescriptionStyleModel",
          "state": {
            "_model_module": "@jupyter-widgets/controls",
            "_model_module_version": "1.5.0",
            "_model_name": "DescriptionStyleModel",
            "_view_count": null,
            "_view_module": "@jupyter-widgets/base",
            "_view_module_version": "1.2.0",
            "_view_name": "StyleView",
            "description_width": ""
          }
        },
        "1711265c3a194ce0a355121bf53970fb": {
          "model_module": "@jupyter-widgets/controls",
          "model_module_version": "1.5.0",
          "model_name": "DescriptionStyleModel",
          "state": {
            "_model_module": "@jupyter-widgets/controls",
            "_model_module_version": "1.5.0",
            "_model_name": "DescriptionStyleModel",
            "_view_count": null,
            "_view_module": "@jupyter-widgets/base",
            "_view_module_version": "1.2.0",
            "_view_name": "StyleView",
            "description_width": ""
          }
        },
        "1766993e93fd4b1ea6d040c0614417f9": {
          "model_module": "@jupyter-widgets/base",
          "model_module_version": "1.2.0",
          "model_name": "LayoutModel",
          "state": {
            "_model_module": "@jupyter-widgets/base",
            "_model_module_version": "1.2.0",
            "_model_name": "LayoutModel",
            "_view_count": null,
            "_view_module": "@jupyter-widgets/base",
            "_view_module_version": "1.2.0",
            "_view_name": "LayoutView",
            "align_content": null,
            "align_items": null,
            "align_self": null,
            "border": null,
            "bottom": null,
            "display": null,
            "flex": null,
            "flex_flow": null,
            "grid_area": null,
            "grid_auto_columns": null,
            "grid_auto_flow": null,
            "grid_auto_rows": null,
            "grid_column": null,
            "grid_gap": null,
            "grid_row": null,
            "grid_template_areas": null,
            "grid_template_columns": null,
            "grid_template_rows": null,
            "height": null,
            "justify_content": null,
            "justify_items": null,
            "left": null,
            "margin": null,
            "max_height": null,
            "max_width": null,
            "min_height": null,
            "min_width": null,
            "object_fit": null,
            "object_position": null,
            "order": null,
            "overflow": null,
            "overflow_x": null,
            "overflow_y": null,
            "padding": null,
            "right": null,
            "top": null,
            "visibility": null,
            "width": null
          }
        },
        "18e65a9083b04668b7b3f43c51d6d18c": {
          "model_module": "@jupyter-widgets/base",
          "model_module_version": "1.2.0",
          "model_name": "LayoutModel",
          "state": {
            "_model_module": "@jupyter-widgets/base",
            "_model_module_version": "1.2.0",
            "_model_name": "LayoutModel",
            "_view_count": null,
            "_view_module": "@jupyter-widgets/base",
            "_view_module_version": "1.2.0",
            "_view_name": "LayoutView",
            "align_content": null,
            "align_items": null,
            "align_self": null,
            "border": null,
            "bottom": null,
            "display": null,
            "flex": null,
            "flex_flow": null,
            "grid_area": null,
            "grid_auto_columns": null,
            "grid_auto_flow": null,
            "grid_auto_rows": null,
            "grid_column": null,
            "grid_gap": null,
            "grid_row": null,
            "grid_template_areas": null,
            "grid_template_columns": null,
            "grid_template_rows": null,
            "height": null,
            "justify_content": null,
            "justify_items": null,
            "left": null,
            "margin": null,
            "max_height": null,
            "max_width": null,
            "min_height": null,
            "min_width": null,
            "object_fit": null,
            "object_position": null,
            "order": null,
            "overflow": null,
            "overflow_x": null,
            "overflow_y": null,
            "padding": null,
            "right": null,
            "top": null,
            "visibility": null,
            "width": null
          }
        },
        "19402d95255f42b381709b67c49ca7fd": {
          "model_module": "@jupyter-widgets/controls",
          "model_module_version": "1.5.0",
          "model_name": "HBoxModel",
          "state": {
            "_dom_classes": [],
            "_model_module": "@jupyter-widgets/controls",
            "_model_module_version": "1.5.0",
            "_model_name": "HBoxModel",
            "_view_count": null,
            "_view_module": "@jupyter-widgets/controls",
            "_view_module_version": "1.5.0",
            "_view_name": "HBoxView",
            "box_style": "",
            "children": [
              "IPY_MODEL_2b267ca1d4e5442196d6906c9a4368fa",
              "IPY_MODEL_4a6af9c5bc424af899f5875a3b46f7c0",
              "IPY_MODEL_e4e3560429e7421e885f40e9938d0f61"
            ],
            "layout": "IPY_MODEL_b6bb7fbdac2342d0b74ca2830efdc7b6"
          }
        },
        "19a9d4c8137c40c499f4a51f3a591a7d": {
          "model_module": "@jupyter-widgets/base",
          "model_module_version": "1.2.0",
          "model_name": "LayoutModel",
          "state": {
            "_model_module": "@jupyter-widgets/base",
            "_model_module_version": "1.2.0",
            "_model_name": "LayoutModel",
            "_view_count": null,
            "_view_module": "@jupyter-widgets/base",
            "_view_module_version": "1.2.0",
            "_view_name": "LayoutView",
            "align_content": null,
            "align_items": null,
            "align_self": null,
            "border": null,
            "bottom": null,
            "display": null,
            "flex": null,
            "flex_flow": null,
            "grid_area": null,
            "grid_auto_columns": null,
            "grid_auto_flow": null,
            "grid_auto_rows": null,
            "grid_column": null,
            "grid_gap": null,
            "grid_row": null,
            "grid_template_areas": null,
            "grid_template_columns": null,
            "grid_template_rows": null,
            "height": null,
            "justify_content": null,
            "justify_items": null,
            "left": null,
            "margin": null,
            "max_height": null,
            "max_width": null,
            "min_height": null,
            "min_width": null,
            "object_fit": null,
            "object_position": null,
            "order": null,
            "overflow": null,
            "overflow_x": null,
            "overflow_y": null,
            "padding": null,
            "right": null,
            "top": null,
            "visibility": null,
            "width": null
          }
        },
        "19dee76f642648e9a8196e54af6ca94a": {
          "model_module": "@jupyter-widgets/base",
          "model_module_version": "1.2.0",
          "model_name": "LayoutModel",
          "state": {
            "_model_module": "@jupyter-widgets/base",
            "_model_module_version": "1.2.0",
            "_model_name": "LayoutModel",
            "_view_count": null,
            "_view_module": "@jupyter-widgets/base",
            "_view_module_version": "1.2.0",
            "_view_name": "LayoutView",
            "align_content": null,
            "align_items": null,
            "align_self": null,
            "border": null,
            "bottom": null,
            "display": null,
            "flex": null,
            "flex_flow": null,
            "grid_area": null,
            "grid_auto_columns": null,
            "grid_auto_flow": null,
            "grid_auto_rows": null,
            "grid_column": null,
            "grid_gap": null,
            "grid_row": null,
            "grid_template_areas": null,
            "grid_template_columns": null,
            "grid_template_rows": null,
            "height": null,
            "justify_content": null,
            "justify_items": null,
            "left": null,
            "margin": null,
            "max_height": null,
            "max_width": null,
            "min_height": null,
            "min_width": null,
            "object_fit": null,
            "object_position": null,
            "order": null,
            "overflow": null,
            "overflow_x": null,
            "overflow_y": null,
            "padding": null,
            "right": null,
            "top": null,
            "visibility": null,
            "width": null
          }
        },
        "1a5f878fdbf24f71b6b806cc349a4208": {
          "model_module": "@jupyter-widgets/base",
          "model_module_version": "1.2.0",
          "model_name": "LayoutModel",
          "state": {
            "_model_module": "@jupyter-widgets/base",
            "_model_module_version": "1.2.0",
            "_model_name": "LayoutModel",
            "_view_count": null,
            "_view_module": "@jupyter-widgets/base",
            "_view_module_version": "1.2.0",
            "_view_name": "LayoutView",
            "align_content": null,
            "align_items": null,
            "align_self": null,
            "border": null,
            "bottom": null,
            "display": null,
            "flex": null,
            "flex_flow": null,
            "grid_area": null,
            "grid_auto_columns": null,
            "grid_auto_flow": null,
            "grid_auto_rows": null,
            "grid_column": null,
            "grid_gap": null,
            "grid_row": null,
            "grid_template_areas": null,
            "grid_template_columns": null,
            "grid_template_rows": null,
            "height": null,
            "justify_content": null,
            "justify_items": null,
            "left": null,
            "margin": null,
            "max_height": null,
            "max_width": null,
            "min_height": null,
            "min_width": null,
            "object_fit": null,
            "object_position": null,
            "order": null,
            "overflow": null,
            "overflow_x": null,
            "overflow_y": null,
            "padding": null,
            "right": null,
            "top": null,
            "visibility": null,
            "width": null
          }
        },
        "1af78b88b43d430d8bca6b24fb608b33": {
          "model_module": "@jupyter-widgets/base",
          "model_module_version": "1.2.0",
          "model_name": "LayoutModel",
          "state": {
            "_model_module": "@jupyter-widgets/base",
            "_model_module_version": "1.2.0",
            "_model_name": "LayoutModel",
            "_view_count": null,
            "_view_module": "@jupyter-widgets/base",
            "_view_module_version": "1.2.0",
            "_view_name": "LayoutView",
            "align_content": null,
            "align_items": null,
            "align_self": null,
            "border": null,
            "bottom": null,
            "display": null,
            "flex": null,
            "flex_flow": null,
            "grid_area": null,
            "grid_auto_columns": null,
            "grid_auto_flow": null,
            "grid_auto_rows": null,
            "grid_column": null,
            "grid_gap": null,
            "grid_row": null,
            "grid_template_areas": null,
            "grid_template_columns": null,
            "grid_template_rows": null,
            "height": null,
            "justify_content": null,
            "justify_items": null,
            "left": null,
            "margin": null,
            "max_height": null,
            "max_width": null,
            "min_height": null,
            "min_width": null,
            "object_fit": null,
            "object_position": null,
            "order": null,
            "overflow": null,
            "overflow_x": null,
            "overflow_y": null,
            "padding": null,
            "right": null,
            "top": null,
            "visibility": null,
            "width": null
          }
        },
        "1afd9124685a4106bf4d9e02605b92d4": {
          "model_module": "@jupyter-widgets/controls",
          "model_module_version": "1.5.0",
          "model_name": "ProgressStyleModel",
          "state": {
            "_model_module": "@jupyter-widgets/controls",
            "_model_module_version": "1.5.0",
            "_model_name": "ProgressStyleModel",
            "_view_count": null,
            "_view_module": "@jupyter-widgets/base",
            "_view_module_version": "1.2.0",
            "_view_name": "StyleView",
            "bar_color": null,
            "description_width": ""
          }
        },
        "1cbd8e550b8e4c2d984e151a77df0d3d": {
          "model_module": "@jupyter-widgets/base",
          "model_module_version": "1.2.0",
          "model_name": "LayoutModel",
          "state": {
            "_model_module": "@jupyter-widgets/base",
            "_model_module_version": "1.2.0",
            "_model_name": "LayoutModel",
            "_view_count": null,
            "_view_module": "@jupyter-widgets/base",
            "_view_module_version": "1.2.0",
            "_view_name": "LayoutView",
            "align_content": null,
            "align_items": null,
            "align_self": null,
            "border": null,
            "bottom": null,
            "display": null,
            "flex": null,
            "flex_flow": null,
            "grid_area": null,
            "grid_auto_columns": null,
            "grid_auto_flow": null,
            "grid_auto_rows": null,
            "grid_column": null,
            "grid_gap": null,
            "grid_row": null,
            "grid_template_areas": null,
            "grid_template_columns": null,
            "grid_template_rows": null,
            "height": null,
            "justify_content": null,
            "justify_items": null,
            "left": null,
            "margin": null,
            "max_height": null,
            "max_width": null,
            "min_height": null,
            "min_width": null,
            "object_fit": null,
            "object_position": null,
            "order": null,
            "overflow": null,
            "overflow_x": null,
            "overflow_y": null,
            "padding": null,
            "right": null,
            "top": null,
            "visibility": null,
            "width": null
          }
        },
        "212272c4c57d4d09bac1a25ed3ab0ac0": {
          "model_module": "@jupyter-widgets/base",
          "model_module_version": "1.2.0",
          "model_name": "LayoutModel",
          "state": {
            "_model_module": "@jupyter-widgets/base",
            "_model_module_version": "1.2.0",
            "_model_name": "LayoutModel",
            "_view_count": null,
            "_view_module": "@jupyter-widgets/base",
            "_view_module_version": "1.2.0",
            "_view_name": "LayoutView",
            "align_content": null,
            "align_items": null,
            "align_self": null,
            "border": null,
            "bottom": null,
            "display": null,
            "flex": null,
            "flex_flow": null,
            "grid_area": null,
            "grid_auto_columns": null,
            "grid_auto_flow": null,
            "grid_auto_rows": null,
            "grid_column": null,
            "grid_gap": null,
            "grid_row": null,
            "grid_template_areas": null,
            "grid_template_columns": null,
            "grid_template_rows": null,
            "height": null,
            "justify_content": null,
            "justify_items": null,
            "left": null,
            "margin": null,
            "max_height": null,
            "max_width": null,
            "min_height": null,
            "min_width": null,
            "object_fit": null,
            "object_position": null,
            "order": null,
            "overflow": null,
            "overflow_x": null,
            "overflow_y": null,
            "padding": null,
            "right": null,
            "top": null,
            "visibility": null,
            "width": null
          }
        },
        "2519790a07274fc39fe6813b2140cd92": {
          "model_module": "@jupyter-widgets/controls",
          "model_module_version": "1.5.0",
          "model_name": "DescriptionStyleModel",
          "state": {
            "_model_module": "@jupyter-widgets/controls",
            "_model_module_version": "1.5.0",
            "_model_name": "DescriptionStyleModel",
            "_view_count": null,
            "_view_module": "@jupyter-widgets/base",
            "_view_module_version": "1.2.0",
            "_view_name": "StyleView",
            "description_width": ""
          }
        },
        "25629b1049514d589cd4307879ac2924": {
          "model_module": "@jupyter-widgets/controls",
          "model_module_version": "1.5.0",
          "model_name": "DescriptionStyleModel",
          "state": {
            "_model_module": "@jupyter-widgets/controls",
            "_model_module_version": "1.5.0",
            "_model_name": "DescriptionStyleModel",
            "_view_count": null,
            "_view_module": "@jupyter-widgets/base",
            "_view_module_version": "1.2.0",
            "_view_name": "StyleView",
            "description_width": ""
          }
        },
        "2840474e625d4148a55d2d9f59baa5af": {
          "model_module": "@jupyter-widgets/base",
          "model_module_version": "1.2.0",
          "model_name": "LayoutModel",
          "state": {
            "_model_module": "@jupyter-widgets/base",
            "_model_module_version": "1.2.0",
            "_model_name": "LayoutModel",
            "_view_count": null,
            "_view_module": "@jupyter-widgets/base",
            "_view_module_version": "1.2.0",
            "_view_name": "LayoutView",
            "align_content": null,
            "align_items": null,
            "align_self": null,
            "border": null,
            "bottom": null,
            "display": null,
            "flex": null,
            "flex_flow": null,
            "grid_area": null,
            "grid_auto_columns": null,
            "grid_auto_flow": null,
            "grid_auto_rows": null,
            "grid_column": null,
            "grid_gap": null,
            "grid_row": null,
            "grid_template_areas": null,
            "grid_template_columns": null,
            "grid_template_rows": null,
            "height": null,
            "justify_content": null,
            "justify_items": null,
            "left": null,
            "margin": null,
            "max_height": null,
            "max_width": null,
            "min_height": null,
            "min_width": null,
            "object_fit": null,
            "object_position": null,
            "order": null,
            "overflow": null,
            "overflow_x": null,
            "overflow_y": null,
            "padding": null,
            "right": null,
            "top": null,
            "visibility": null,
            "width": null
          }
        },
        "29e89e671a1c4dfb9c17e35d2dcc9bf6": {
          "model_module": "@jupyter-widgets/base",
          "model_module_version": "1.2.0",
          "model_name": "LayoutModel",
          "state": {
            "_model_module": "@jupyter-widgets/base",
            "_model_module_version": "1.2.0",
            "_model_name": "LayoutModel",
            "_view_count": null,
            "_view_module": "@jupyter-widgets/base",
            "_view_module_version": "1.2.0",
            "_view_name": "LayoutView",
            "align_content": null,
            "align_items": null,
            "align_self": null,
            "border": null,
            "bottom": null,
            "display": null,
            "flex": null,
            "flex_flow": null,
            "grid_area": null,
            "grid_auto_columns": null,
            "grid_auto_flow": null,
            "grid_auto_rows": null,
            "grid_column": null,
            "grid_gap": null,
            "grid_row": null,
            "grid_template_areas": null,
            "grid_template_columns": null,
            "grid_template_rows": null,
            "height": null,
            "justify_content": null,
            "justify_items": null,
            "left": null,
            "margin": null,
            "max_height": null,
            "max_width": null,
            "min_height": null,
            "min_width": null,
            "object_fit": null,
            "object_position": null,
            "order": null,
            "overflow": null,
            "overflow_x": null,
            "overflow_y": null,
            "padding": null,
            "right": null,
            "top": null,
            "visibility": null,
            "width": null
          }
        },
        "2a8310465a084b77a0a73b72209905c3": {
          "model_module": "@jupyter-widgets/controls",
          "model_module_version": "1.5.0",
          "model_name": "FloatProgressModel",
          "state": {
            "_dom_classes": [],
            "_model_module": "@jupyter-widgets/controls",
            "_model_module_version": "1.5.0",
            "_model_name": "FloatProgressModel",
            "_view_count": null,
            "_view_module": "@jupyter-widgets/controls",
            "_view_module_version": "1.5.0",
            "_view_name": "ProgressView",
            "bar_style": "success",
            "description": "",
            "description_tooltip": null,
            "layout": "IPY_MODEL_3307c2472a8b47c29f2d27c90138f373",
            "max": 4540516344,
            "min": 0,
            "orientation": "horizontal",
            "style": "IPY_MODEL_b281da5f6c1a4be2b8f223e6fac90182",
            "value": 4540516344
          }
        },
        "2b267ca1d4e5442196d6906c9a4368fa": {
          "model_module": "@jupyter-widgets/controls",
          "model_module_version": "1.5.0",
          "model_name": "HTMLModel",
          "state": {
            "_dom_classes": [],
            "_model_module": "@jupyter-widgets/controls",
            "_model_module_version": "1.5.0",
            "_model_name": "HTMLModel",
            "_view_count": null,
            "_view_module": "@jupyter-widgets/controls",
            "_view_module_version": "1.5.0",
            "_view_name": "HTMLView",
            "description": "",
            "description_tooltip": null,
            "layout": "IPY_MODEL_1af78b88b43d430d8bca6b24fb608b33",
            "placeholder": "​",
            "style": "IPY_MODEL_db64cf7f75214ab3bbe44c95d3ad18db",
            "value": "Fetching 2 files: 100%"
          }
        },
        "2ca146dcdd3842ec8cadcea099d745db": {
          "model_module": "@jupyter-widgets/controls",
          "model_module_version": "1.5.0",
          "model_name": "HBoxModel",
          "state": {
            "_dom_classes": [],
            "_model_module": "@jupyter-widgets/controls",
            "_model_module_version": "1.5.0",
            "_model_name": "HBoxModel",
            "_view_count": null,
            "_view_module": "@jupyter-widgets/controls",
            "_view_module_version": "1.5.0",
            "_view_name": "HBoxView",
            "box_style": "",
            "children": [
              "IPY_MODEL_3d1af3c5c3504dc7b9631d91f407c3d1",
              "IPY_MODEL_2a8310465a084b77a0a73b72209905c3",
              "IPY_MODEL_782641b43d35466296da703d9567b4bf"
            ],
            "layout": "IPY_MODEL_b5be06d3c1144295ace3ee964b0d566d"
          }
        },
        "2cc7ddbdd14e490e8034984123393082": {
          "model_module": "@jupyter-widgets/base",
          "model_module_version": "1.2.0",
          "model_name": "LayoutModel",
          "state": {
            "_model_module": "@jupyter-widgets/base",
            "_model_module_version": "1.2.0",
            "_model_name": "LayoutModel",
            "_view_count": null,
            "_view_module": "@jupyter-widgets/base",
            "_view_module_version": "1.2.0",
            "_view_name": "LayoutView",
            "align_content": null,
            "align_items": null,
            "align_self": null,
            "border": null,
            "bottom": null,
            "display": null,
            "flex": null,
            "flex_flow": null,
            "grid_area": null,
            "grid_auto_columns": null,
            "grid_auto_flow": null,
            "grid_auto_rows": null,
            "grid_column": null,
            "grid_gap": null,
            "grid_row": null,
            "grid_template_areas": null,
            "grid_template_columns": null,
            "grid_template_rows": null,
            "height": null,
            "justify_content": null,
            "justify_items": null,
            "left": null,
            "margin": null,
            "max_height": null,
            "max_width": null,
            "min_height": null,
            "min_width": null,
            "object_fit": null,
            "object_position": null,
            "order": null,
            "overflow": null,
            "overflow_x": null,
            "overflow_y": null,
            "padding": null,
            "right": null,
            "top": null,
            "visibility": null,
            "width": null
          }
        },
        "2d48ec87604443aeb08740c9bde8a2d3": {
          "model_module": "@jupyter-widgets/controls",
          "model_module_version": "1.5.0",
          "model_name": "DescriptionStyleModel",
          "state": {
            "_model_module": "@jupyter-widgets/controls",
            "_model_module_version": "1.5.0",
            "_model_name": "DescriptionStyleModel",
            "_view_count": null,
            "_view_module": "@jupyter-widgets/base",
            "_view_module_version": "1.2.0",
            "_view_name": "StyleView",
            "description_width": ""
          }
        },
        "2f681dc8831d4cd89f63ff1fb3a17cf1": {
          "model_module": "@jupyter-widgets/controls",
          "model_module_version": "1.5.0",
          "model_name": "HTMLModel",
          "state": {
            "_dom_classes": [],
            "_model_module": "@jupyter-widgets/controls",
            "_model_module_version": "1.5.0",
            "_model_name": "HTMLModel",
            "_view_count": null,
            "_view_module": "@jupyter-widgets/controls",
            "_view_module_version": "1.5.0",
            "_view_name": "HTMLView",
            "description": "",
            "description_tooltip": null,
            "layout": "IPY_MODEL_c274e97b1a2748bdb3bdab18d585e2d3",
            "placeholder": "​",
            "style": "IPY_MODEL_dff7d7d21ab740d6b043c6a4c9146a33",
            "value": " 414/414 [00:00&lt;00:00, 31.9kB/s]"
          }
        },
        "30428486469a41cfaa1d4998c71093b4": {
          "model_module": "@jupyter-widgets/controls",
          "model_module_version": "1.5.0",
          "model_name": "DescriptionStyleModel",
          "state": {
            "_model_module": "@jupyter-widgets/controls",
            "_model_module_version": "1.5.0",
            "_model_name": "DescriptionStyleModel",
            "_view_count": null,
            "_view_module": "@jupyter-widgets/base",
            "_view_module_version": "1.2.0",
            "_view_name": "StyleView",
            "description_width": ""
          }
        },
        "30977cabadad489badb27f5a8aa6b47e": {
          "model_module": "@jupyter-widgets/controls",
          "model_module_version": "1.5.0",
          "model_name": "DescriptionStyleModel",
          "state": {
            "_model_module": "@jupyter-widgets/controls",
            "_model_module_version": "1.5.0",
            "_model_name": "DescriptionStyleModel",
            "_view_count": null,
            "_view_module": "@jupyter-widgets/base",
            "_view_module_version": "1.2.0",
            "_view_name": "StyleView",
            "description_width": ""
          }
        },
        "31f10c00837a480d836946df154185c9": {
          "model_module": "@jupyter-widgets/base",
          "model_module_version": "1.2.0",
          "model_name": "LayoutModel",
          "state": {
            "_model_module": "@jupyter-widgets/base",
            "_model_module_version": "1.2.0",
            "_model_name": "LayoutModel",
            "_view_count": null,
            "_view_module": "@jupyter-widgets/base",
            "_view_module_version": "1.2.0",
            "_view_name": "LayoutView",
            "align_content": null,
            "align_items": null,
            "align_self": null,
            "border": null,
            "bottom": null,
            "display": null,
            "flex": null,
            "flex_flow": null,
            "grid_area": null,
            "grid_auto_columns": null,
            "grid_auto_flow": null,
            "grid_auto_rows": null,
            "grid_column": null,
            "grid_gap": null,
            "grid_row": null,
            "grid_template_areas": null,
            "grid_template_columns": null,
            "grid_template_rows": null,
            "height": null,
            "justify_content": null,
            "justify_items": null,
            "left": null,
            "margin": null,
            "max_height": null,
            "max_width": null,
            "min_height": null,
            "min_width": null,
            "object_fit": null,
            "object_position": null,
            "order": null,
            "overflow": null,
            "overflow_x": null,
            "overflow_y": null,
            "padding": null,
            "right": null,
            "top": null,
            "visibility": null,
            "width": null
          }
        },
        "3307c2472a8b47c29f2d27c90138f373": {
          "model_module": "@jupyter-widgets/base",
          "model_module_version": "1.2.0",
          "model_name": "LayoutModel",
          "state": {
            "_model_module": "@jupyter-widgets/base",
            "_model_module_version": "1.2.0",
            "_model_name": "LayoutModel",
            "_view_count": null,
            "_view_module": "@jupyter-widgets/base",
            "_view_module_version": "1.2.0",
            "_view_name": "LayoutView",
            "align_content": null,
            "align_items": null,
            "align_self": null,
            "border": null,
            "bottom": null,
            "display": null,
            "flex": null,
            "flex_flow": null,
            "grid_area": null,
            "grid_auto_columns": null,
            "grid_auto_flow": null,
            "grid_auto_rows": null,
            "grid_column": null,
            "grid_gap": null,
            "grid_row": null,
            "grid_template_areas": null,
            "grid_template_columns": null,
            "grid_template_rows": null,
            "height": null,
            "justify_content": null,
            "justify_items": null,
            "left": null,
            "margin": null,
            "max_height": null,
            "max_width": null,
            "min_height": null,
            "min_width": null,
            "object_fit": null,
            "object_position": null,
            "order": null,
            "overflow": null,
            "overflow_x": null,
            "overflow_y": null,
            "padding": null,
            "right": null,
            "top": null,
            "visibility": null,
            "width": null
          }
        },
        "33f2a5ee88684962a0a7c5db06d590ad": {
          "model_module": "@jupyter-widgets/base",
          "model_module_version": "1.2.0",
          "model_name": "LayoutModel",
          "state": {
            "_model_module": "@jupyter-widgets/base",
            "_model_module_version": "1.2.0",
            "_model_name": "LayoutModel",
            "_view_count": null,
            "_view_module": "@jupyter-widgets/base",
            "_view_module_version": "1.2.0",
            "_view_name": "LayoutView",
            "align_content": null,
            "align_items": null,
            "align_self": null,
            "border": null,
            "bottom": null,
            "display": null,
            "flex": null,
            "flex_flow": null,
            "grid_area": null,
            "grid_auto_columns": null,
            "grid_auto_flow": null,
            "grid_auto_rows": null,
            "grid_column": null,
            "grid_gap": null,
            "grid_row": null,
            "grid_template_areas": null,
            "grid_template_columns": null,
            "grid_template_rows": null,
            "height": null,
            "justify_content": null,
            "justify_items": null,
            "left": null,
            "margin": null,
            "max_height": null,
            "max_width": null,
            "min_height": null,
            "min_width": null,
            "object_fit": null,
            "object_position": null,
            "order": null,
            "overflow": null,
            "overflow_x": null,
            "overflow_y": null,
            "padding": null,
            "right": null,
            "top": null,
            "visibility": null,
            "width": null
          }
        },
        "34a2aa518eb44ca1bc6f543b585f1e3b": {
          "model_module": "@jupyter-widgets/controls",
          "model_module_version": "1.5.0",
          "model_name": "ProgressStyleModel",
          "state": {
            "_model_module": "@jupyter-widgets/controls",
            "_model_module_version": "1.5.0",
            "_model_name": "ProgressStyleModel",
            "_view_count": null,
            "_view_module": "@jupyter-widgets/base",
            "_view_module_version": "1.2.0",
            "_view_name": "StyleView",
            "bar_color": null,
            "description_width": ""
          }
        },
        "35a5255cf32b41f8b5a82aaaed60dff1": {
          "model_module": "@jupyter-widgets/controls",
          "model_module_version": "1.5.0",
          "model_name": "ProgressStyleModel",
          "state": {
            "_model_module": "@jupyter-widgets/controls",
            "_model_module_version": "1.5.0",
            "_model_name": "ProgressStyleModel",
            "_view_count": null,
            "_view_module": "@jupyter-widgets/base",
            "_view_module_version": "1.2.0",
            "_view_name": "StyleView",
            "bar_color": null,
            "description_width": ""
          }
        },
        "38cf3438630940c59afcf5f70c026c1f": {
          "model_module": "@jupyter-widgets/controls",
          "model_module_version": "1.5.0",
          "model_name": "ProgressStyleModel",
          "state": {
            "_model_module": "@jupyter-widgets/controls",
            "_model_module_version": "1.5.0",
            "_model_name": "ProgressStyleModel",
            "_view_count": null,
            "_view_module": "@jupyter-widgets/base",
            "_view_module_version": "1.2.0",
            "_view_name": "StyleView",
            "bar_color": null,
            "description_width": ""
          }
        },
        "39afa2f05e4445259227459ff2e57a82": {
          "model_module": "@jupyter-widgets/controls",
          "model_module_version": "1.5.0",
          "model_name": "HBoxModel",
          "state": {
            "_dom_classes": [],
            "_model_module": "@jupyter-widgets/controls",
            "_model_module_version": "1.5.0",
            "_model_name": "HBoxModel",
            "_view_count": null,
            "_view_module": "@jupyter-widgets/controls",
            "_view_module_version": "1.5.0",
            "_view_name": "HBoxView",
            "box_style": "",
            "children": [
              "IPY_MODEL_6ed5c21ac5be4934a1076b91512d7c13",
              "IPY_MODEL_aec2aecc35be496faad7b950ed9bcd78",
              "IPY_MODEL_570731ec46aa448db669ae8622343fc4"
            ],
            "layout": "IPY_MODEL_681d7d3201204f13aa51e4bbe196d7ab"
          }
        },
        "3d1af3c5c3504dc7b9631d91f407c3d1": {
          "model_module": "@jupyter-widgets/controls",
          "model_module_version": "1.5.0",
          "model_name": "HTMLModel",
          "state": {
            "_dom_classes": [],
            "_model_module": "@jupyter-widgets/controls",
            "_model_module_version": "1.5.0",
            "_model_name": "HTMLModel",
            "_view_count": null,
            "_view_module": "@jupyter-widgets/controls",
            "_view_module_version": "1.5.0",
            "_view_name": "HTMLView",
            "description": "",
            "description_tooltip": null,
            "layout": "IPY_MODEL_d7a3f2e28b5644ea9e9327abe5876d1a",
            "placeholder": "​",
            "style": "IPY_MODEL_2d48ec87604443aeb08740c9bde8a2d3",
            "value": "model-00002-of-00002.safetensors: 100%"
          }
        },
        "3d502320c81f4d9494180138e048b664": {
          "model_module": "@jupyter-widgets/controls",
          "model_module_version": "1.5.0",
          "model_name": "FloatProgressModel",
          "state": {
            "_dom_classes": [],
            "_model_module": "@jupyter-widgets/controls",
            "_model_module_version": "1.5.0",
            "_model_name": "FloatProgressModel",
            "_view_count": null,
            "_view_module": "@jupyter-widgets/controls",
            "_view_module_version": "1.5.0",
            "_view_name": "ProgressView",
            "bar_style": "success",
            "description": "",
            "description_tooltip": null,
            "layout": "IPY_MODEL_7e68d935233947f5b25633c73bb00977",
            "max": 82,
            "min": 0,
            "orientation": "horizontal",
            "style": "IPY_MODEL_38cf3438630940c59afcf5f70c026c1f",
            "value": 82
          }
        },
        "3dcc731f45bf4559b4bbc5fb81bab69c": {
          "model_module": "@jupyter-widgets/controls",
          "model_module_version": "1.5.0",
          "model_name": "FloatProgressModel",
          "state": {
            "_dom_classes": [],
            "_model_module": "@jupyter-widgets/controls",
            "_model_module_version": "1.5.0",
            "_model_name": "FloatProgressModel",
            "_view_count": null,
            "_view_module": "@jupyter-widgets/controls",
            "_view_module_version": "1.5.0",
            "_view_name": "ProgressView",
            "bar_style": "success",
            "description": "",
            "description_tooltip": null,
            "layout": "IPY_MODEL_f88cfc00e5d446cea954c2fcb0a8bf7d",
            "max": 406,
            "min": 0,
            "orientation": "horizontal",
            "style": "IPY_MODEL_4bd516d3ad52449dbf9b2defea753299",
            "value": 406
          }
        },
        "4164a289e0ef4fbc979deafcb18c0153": {
          "model_module": "@jupyter-widgets/controls",
          "model_module_version": "1.5.0",
          "model_name": "HBoxModel",
          "state": {
            "_dom_classes": [],
            "_model_module": "@jupyter-widgets/controls",
            "_model_module_version": "1.5.0",
            "_model_name": "HBoxModel",
            "_view_count": null,
            "_view_module": "@jupyter-widgets/controls",
            "_view_module_version": "1.5.0",
            "_view_name": "HBoxView",
            "box_style": "",
            "children": [
              "IPY_MODEL_af094298d1be45009ade5c21105ff0b5",
              "IPY_MODEL_fea63dfaab954cb4b5c27c4735da2713",
              "IPY_MODEL_eb6231687725461fab876d4fc442d13d"
            ],
            "layout": "IPY_MODEL_b7cae5043dad40f7a5986fc4811f4eba"
          }
        },
        "424608282aaf46c69787b5646e526dff": {
          "model_module": "@jupyter-widgets/controls",
          "model_module_version": "1.5.0",
          "model_name": "HTMLModel",
          "state": {
            "_dom_classes": [],
            "_model_module": "@jupyter-widgets/controls",
            "_model_module_version": "1.5.0",
            "_model_name": "HTMLModel",
            "_view_count": null,
            "_view_module": "@jupyter-widgets/controls",
            "_view_module_version": "1.5.0",
            "_view_name": "HTMLView",
            "description": "",
            "description_tooltip": null,
            "layout": "IPY_MODEL_cc06344e771a4b0f8c2f84b76c2eda84",
            "placeholder": "​",
            "style": "IPY_MODEL_74a52e3297374fcc8ee1727eb4aa30ca",
            "value": "Loading checkpoint shards: 100%"
          }
        },
        "45746e9ce567488288524be1ff27aa4b": {
          "model_module": "@jupyter-widgets/controls",
          "model_module_version": "1.5.0",
          "model_name": "HTMLModel",
          "state": {
            "_dom_classes": [],
            "_model_module": "@jupyter-widgets/controls",
            "_model_module_version": "1.5.0",
            "_model_name": "HTMLModel",
            "_view_count": null,
            "_view_module": "@jupyter-widgets/controls",
            "_view_module_version": "1.5.0",
            "_view_name": "HTMLView",
            "description": "",
            "description_tooltip": null,
            "layout": "IPY_MODEL_c9775ab1cf714c13819ec9b40d13ad5c",
            "placeholder": "​",
            "style": "IPY_MODEL_f28d82576b7b4b4d9af83180722de137",
            "value": " 996/996 [00:00&lt;00:00, 96.5kB/s]"
          }
        },
        "4a6af9c5bc424af899f5875a3b46f7c0": {
          "model_module": "@jupyter-widgets/controls",
          "model_module_version": "1.5.0",
          "model_name": "FloatProgressModel",
          "state": {
            "_dom_classes": [],
            "_model_module": "@jupyter-widgets/controls",
            "_model_module_version": "1.5.0",
            "_model_name": "FloatProgressModel",
            "_view_count": null,
            "_view_module": "@jupyter-widgets/controls",
            "_view_module_version": "1.5.0",
            "_view_name": "ProgressView",
            "bar_style": "success",
            "description": "",
            "description_tooltip": null,
            "layout": "IPY_MODEL_a2f9a6ee51f0479a891b599126e74e14",
            "max": 2,
            "min": 0,
            "orientation": "horizontal",
            "style": "IPY_MODEL_c6f93b74362e41c8804c0c59d11d1d16",
            "value": 2
          }
        },
        "4bd516d3ad52449dbf9b2defea753299": {
          "model_module": "@jupyter-widgets/controls",
          "model_module_version": "1.5.0",
          "model_name": "ProgressStyleModel",
          "state": {
            "_model_module": "@jupyter-widgets/controls",
            "_model_module_version": "1.5.0",
            "_model_name": "ProgressStyleModel",
            "_view_count": null,
            "_view_module": "@jupyter-widgets/base",
            "_view_module_version": "1.2.0",
            "_view_name": "StyleView",
            "bar_color": null,
            "description_width": ""
          }
        },
        "4da5bf63a0ea464d8088dddcb924fa37": {
          "model_module": "@jupyter-widgets/base",
          "model_module_version": "1.2.0",
          "model_name": "LayoutModel",
          "state": {
            "_model_module": "@jupyter-widgets/base",
            "_model_module_version": "1.2.0",
            "_model_name": "LayoutModel",
            "_view_count": null,
            "_view_module": "@jupyter-widgets/base",
            "_view_module_version": "1.2.0",
            "_view_name": "LayoutView",
            "align_content": null,
            "align_items": null,
            "align_self": null,
            "border": null,
            "bottom": null,
            "display": null,
            "flex": null,
            "flex_flow": null,
            "grid_area": null,
            "grid_auto_columns": null,
            "grid_auto_flow": null,
            "grid_auto_rows": null,
            "grid_column": null,
            "grid_gap": null,
            "grid_row": null,
            "grid_template_areas": null,
            "grid_template_columns": null,
            "grid_template_rows": null,
            "height": null,
            "justify_content": null,
            "justify_items": null,
            "left": null,
            "margin": null,
            "max_height": null,
            "max_width": null,
            "min_height": null,
            "min_width": null,
            "object_fit": null,
            "object_position": null,
            "order": null,
            "overflow": null,
            "overflow_x": null,
            "overflow_y": null,
            "padding": null,
            "right": null,
            "top": null,
            "visibility": null,
            "width": null
          }
        },
        "4dcbc7a40bef4565b74ab8eb9c7475a4": {
          "model_module": "@jupyter-widgets/controls",
          "model_module_version": "1.5.0",
          "model_name": "HTMLModel",
          "state": {
            "_dom_classes": [],
            "_model_module": "@jupyter-widgets/controls",
            "_model_module_version": "1.5.0",
            "_model_name": "HTMLModel",
            "_view_count": null,
            "_view_module": "@jupyter-widgets/controls",
            "_view_module_version": "1.5.0",
            "_view_name": "HTMLView",
            "description": "",
            "description_tooltip": null,
            "layout": "IPY_MODEL_cd5683a8371546d08ba5434c7a49d58a",
            "placeholder": "​",
            "style": "IPY_MODEL_9977552b847a4c19936669c50db937a5",
            "value": "tokenizer.model: 100%"
          }
        },
        "5395c12f1efe42d6a45b19953756c2db": {
          "model_module": "@jupyter-widgets/controls",
          "model_module_version": "1.5.0",
          "model_name": "HTMLModel",
          "state": {
            "_dom_classes": [],
            "_model_module": "@jupyter-widgets/controls",
            "_model_module_version": "1.5.0",
            "_model_name": "HTMLModel",
            "_view_count": null,
            "_view_module": "@jupyter-widgets/controls",
            "_view_module_version": "1.5.0",
            "_view_name": "HTMLView",
            "description": "",
            "description_tooltip": null,
            "layout": "IPY_MODEL_7fddaff5664043edb82996993dfc2823",
            "placeholder": "​",
            "style": "IPY_MODEL_25629b1049514d589cd4307879ac2924",
            "value": " 82/82 [00:00&lt;00:00, 549.12 examples/s]"
          }
        },
        "5517afee881149749cab79ac99380856": {
          "model_module": "@jupyter-widgets/controls",
          "model_module_version": "1.5.0",
          "model_name": "HTMLModel",
          "state": {
            "_dom_classes": [],
            "_model_module": "@jupyter-widgets/controls",
            "_model_module_version": "1.5.0",
            "_model_name": "HTMLModel",
            "_view_count": null,
            "_view_module": "@jupyter-widgets/controls",
            "_view_module_version": "1.5.0",
            "_view_name": "HTMLView",
            "description": "",
            "description_tooltip": null,
            "layout": "IPY_MODEL_628e094bd66948adb0073c8dfdbc15ba",
            "placeholder": "​",
            "style": "IPY_MODEL_a00c4149814e4627a0f0b7b5d268ed83",
            "value": "model-00001-of-00002.safetensors: 100%"
          }
        },
        "55be766ce873448a8e53e46f4596d54e": {
          "model_module": "@jupyter-widgets/controls",
          "model_module_version": "1.5.0",
          "model_name": "ProgressStyleModel",
          "state": {
            "_model_module": "@jupyter-widgets/controls",
            "_model_module_version": "1.5.0",
            "_model_name": "ProgressStyleModel",
            "_view_count": null,
            "_view_module": "@jupyter-widgets/base",
            "_view_module_version": "1.2.0",
            "_view_name": "StyleView",
            "bar_color": null,
            "description_width": ""
          }
        },
        "570731ec46aa448db669ae8622343fc4": {
          "model_module": "@jupyter-widgets/controls",
          "model_module_version": "1.5.0",
          "model_name": "HTMLModel",
          "state": {
            "_dom_classes": [],
            "_model_module": "@jupyter-widgets/controls",
            "_model_module_version": "1.5.0",
            "_model_name": "HTMLModel",
            "_view_count": null,
            "_view_module": "@jupyter-widgets/controls",
            "_view_module_version": "1.5.0",
            "_view_name": "HTMLView",
            "description": "",
            "description_tooltip": null,
            "layout": "IPY_MODEL_19a9d4c8137c40c499f4a51f3a591a7d",
            "placeholder": "​",
            "style": "IPY_MODEL_8133bce7dfce49bb8718eb4e3bbd8f31",
            "value": " 25.1k/25.1k [00:00&lt;00:00, 2.12MB/s]"
          }
        },
        "584d77caeb064940b3bab89fa460f0e7": {
          "model_module": "@jupyter-widgets/controls",
          "model_module_version": "1.5.0",
          "model_name": "HBoxModel",
          "state": {
            "_dom_classes": [],
            "_model_module": "@jupyter-widgets/controls",
            "_model_module_version": "1.5.0",
            "_model_name": "HBoxModel",
            "_view_count": null,
            "_view_module": "@jupyter-widgets/controls",
            "_view_module_version": "1.5.0",
            "_view_name": "HBoxView",
            "box_style": "",
            "children": [
              "IPY_MODEL_5517afee881149749cab79ac99380856",
              "IPY_MODEL_c8b18a857ca94e218fc10e2775f804e9",
              "IPY_MODEL_80773527772044988a4ef81f41662bd0"
            ],
            "layout": "IPY_MODEL_18e65a9083b04668b7b3f43c51d6d18c"
          }
        },
        "58a227140a884f3c9453cf9f25134321": {
          "model_module": "@jupyter-widgets/base",
          "model_module_version": "1.2.0",
          "model_name": "LayoutModel",
          "state": {
            "_model_module": "@jupyter-widgets/base",
            "_model_module_version": "1.2.0",
            "_model_name": "LayoutModel",
            "_view_count": null,
            "_view_module": "@jupyter-widgets/base",
            "_view_module_version": "1.2.0",
            "_view_name": "LayoutView",
            "align_content": null,
            "align_items": null,
            "align_self": null,
            "border": null,
            "bottom": null,
            "display": null,
            "flex": null,
            "flex_flow": null,
            "grid_area": null,
            "grid_auto_columns": null,
            "grid_auto_flow": null,
            "grid_auto_rows": null,
            "grid_column": null,
            "grid_gap": null,
            "grid_row": null,
            "grid_template_areas": null,
            "grid_template_columns": null,
            "grid_template_rows": null,
            "height": null,
            "justify_content": null,
            "justify_items": null,
            "left": null,
            "margin": null,
            "max_height": null,
            "max_width": null,
            "min_height": null,
            "min_width": null,
            "object_fit": null,
            "object_position": null,
            "order": null,
            "overflow": null,
            "overflow_x": null,
            "overflow_y": null,
            "padding": null,
            "right": null,
            "top": null,
            "visibility": null,
            "width": "20px"
          }
        },
        "5bfef01334994279b8099bddf712889a": {
          "model_module": "@jupyter-widgets/base",
          "model_module_version": "1.2.0",
          "model_name": "LayoutModel",
          "state": {
            "_model_module": "@jupyter-widgets/base",
            "_model_module_version": "1.2.0",
            "_model_name": "LayoutModel",
            "_view_count": null,
            "_view_module": "@jupyter-widgets/base",
            "_view_module_version": "1.2.0",
            "_view_name": "LayoutView",
            "align_content": null,
            "align_items": null,
            "align_self": null,
            "border": null,
            "bottom": null,
            "display": null,
            "flex": null,
            "flex_flow": null,
            "grid_area": null,
            "grid_auto_columns": null,
            "grid_auto_flow": null,
            "grid_auto_rows": null,
            "grid_column": null,
            "grid_gap": null,
            "grid_row": null,
            "grid_template_areas": null,
            "grid_template_columns": null,
            "grid_template_rows": null,
            "height": null,
            "justify_content": null,
            "justify_items": null,
            "left": null,
            "margin": null,
            "max_height": null,
            "max_width": null,
            "min_height": null,
            "min_width": null,
            "object_fit": null,
            "object_position": null,
            "order": null,
            "overflow": null,
            "overflow_x": null,
            "overflow_y": null,
            "padding": null,
            "right": null,
            "top": null,
            "visibility": null,
            "width": null
          }
        },
        "5d1ddaebe6d041cfa4c6496db71f9718": {
          "model_module": "@jupyter-widgets/base",
          "model_module_version": "1.2.0",
          "model_name": "LayoutModel",
          "state": {
            "_model_module": "@jupyter-widgets/base",
            "_model_module_version": "1.2.0",
            "_model_name": "LayoutModel",
            "_view_count": null,
            "_view_module": "@jupyter-widgets/base",
            "_view_module_version": "1.2.0",
            "_view_name": "LayoutView",
            "align_content": null,
            "align_items": null,
            "align_self": null,
            "border": null,
            "bottom": null,
            "display": null,
            "flex": null,
            "flex_flow": null,
            "grid_area": null,
            "grid_auto_columns": null,
            "grid_auto_flow": null,
            "grid_auto_rows": null,
            "grid_column": null,
            "grid_gap": null,
            "grid_row": null,
            "grid_template_areas": null,
            "grid_template_columns": null,
            "grid_template_rows": null,
            "height": null,
            "justify_content": null,
            "justify_items": null,
            "left": null,
            "margin": null,
            "max_height": null,
            "max_width": null,
            "min_height": null,
            "min_width": null,
            "object_fit": null,
            "object_position": null,
            "order": null,
            "overflow": null,
            "overflow_x": null,
            "overflow_y": null,
            "padding": null,
            "right": null,
            "top": null,
            "visibility": null,
            "width": null
          }
        },
        "6020df0d8b7747cda1e698fa0146424b": {
          "model_module": "@jupyter-widgets/controls",
          "model_module_version": "1.5.0",
          "model_name": "HBoxModel",
          "state": {
            "_dom_classes": [],
            "_model_module": "@jupyter-widgets/controls",
            "_model_module_version": "1.5.0",
            "_model_name": "HBoxModel",
            "_view_count": null,
            "_view_module": "@jupyter-widgets/controls",
            "_view_module_version": "1.5.0",
            "_view_name": "HBoxView",
            "box_style": "",
            "children": [
              "IPY_MODEL_7dbaf3400b094af8ab87f3bf49558dcb",
              "IPY_MODEL_d7c30f902b5f4c6ba049815d4f73d3b6",
              "IPY_MODEL_91a0cbe310654e7c8e87a481b7ef453e"
            ],
            "layout": "IPY_MODEL_9ea0b6af0583442686752e82ccd45caa"
          }
        },
        "61b4f59c488d4df690c115e66f10f3dd": {
          "model_module": "@jupyter-widgets/controls",
          "model_module_version": "1.5.0",
          "model_name": "DescriptionStyleModel",
          "state": {
            "_model_module": "@jupyter-widgets/controls",
            "_model_module_version": "1.5.0",
            "_model_name": "DescriptionStyleModel",
            "_view_count": null,
            "_view_module": "@jupyter-widgets/base",
            "_view_module_version": "1.2.0",
            "_view_name": "StyleView",
            "description_width": ""
          }
        },
        "621d7f43651e4913b8744417f4877b30": {
          "model_module": "@jupyter-widgets/base",
          "model_module_version": "1.2.0",
          "model_name": "LayoutModel",
          "state": {
            "_model_module": "@jupyter-widgets/base",
            "_model_module_version": "1.2.0",
            "_model_name": "LayoutModel",
            "_view_count": null,
            "_view_module": "@jupyter-widgets/base",
            "_view_module_version": "1.2.0",
            "_view_name": "LayoutView",
            "align_content": null,
            "align_items": null,
            "align_self": null,
            "border": null,
            "bottom": null,
            "display": null,
            "flex": null,
            "flex_flow": null,
            "grid_area": null,
            "grid_auto_columns": null,
            "grid_auto_flow": null,
            "grid_auto_rows": null,
            "grid_column": null,
            "grid_gap": null,
            "grid_row": null,
            "grid_template_areas": null,
            "grid_template_columns": null,
            "grid_template_rows": null,
            "height": null,
            "justify_content": null,
            "justify_items": null,
            "left": null,
            "margin": null,
            "max_height": null,
            "max_width": null,
            "min_height": null,
            "min_width": null,
            "object_fit": null,
            "object_position": null,
            "order": null,
            "overflow": null,
            "overflow_x": null,
            "overflow_y": null,
            "padding": null,
            "right": null,
            "top": null,
            "visibility": null,
            "width": null
          }
        },
        "628e094bd66948adb0073c8dfdbc15ba": {
          "model_module": "@jupyter-widgets/base",
          "model_module_version": "1.2.0",
          "model_name": "LayoutModel",
          "state": {
            "_model_module": "@jupyter-widgets/base",
            "_model_module_version": "1.2.0",
            "_model_name": "LayoutModel",
            "_view_count": null,
            "_view_module": "@jupyter-widgets/base",
            "_view_module_version": "1.2.0",
            "_view_name": "LayoutView",
            "align_content": null,
            "align_items": null,
            "align_self": null,
            "border": null,
            "bottom": null,
            "display": null,
            "flex": null,
            "flex_flow": null,
            "grid_area": null,
            "grid_auto_columns": null,
            "grid_auto_flow": null,
            "grid_auto_rows": null,
            "grid_column": null,
            "grid_gap": null,
            "grid_row": null,
            "grid_template_areas": null,
            "grid_template_columns": null,
            "grid_template_rows": null,
            "height": null,
            "justify_content": null,
            "justify_items": null,
            "left": null,
            "margin": null,
            "max_height": null,
            "max_width": null,
            "min_height": null,
            "min_width": null,
            "object_fit": null,
            "object_position": null,
            "order": null,
            "overflow": null,
            "overflow_x": null,
            "overflow_y": null,
            "padding": null,
            "right": null,
            "top": null,
            "visibility": null,
            "width": null
          }
        },
        "677ece14e3fa4745942da68b7869295b": {
          "model_module": "@jupyter-widgets/controls",
          "model_module_version": "1.5.0",
          "model_name": "HTMLModel",
          "state": {
            "_dom_classes": [],
            "_model_module": "@jupyter-widgets/controls",
            "_model_module_version": "1.5.0",
            "_model_name": "HTMLModel",
            "_view_count": null,
            "_view_module": "@jupyter-widgets/controls",
            "_view_module_version": "1.5.0",
            "_view_name": "HTMLView",
            "description": "",
            "description_tooltip": null,
            "layout": "IPY_MODEL_b3554b4e29aa42d9983b6cb9f86240d6",
            "placeholder": "​",
            "style": "IPY_MODEL_13cd0067a64942fba104a634c445db44",
            "value": " 1.80M/1.80M [00:00&lt;00:00, 7.16MB/s]"
          }
        },
        "681d7d3201204f13aa51e4bbe196d7ab": {
          "model_module": "@jupyter-widgets/base",
          "model_module_version": "1.2.0",
          "model_name": "LayoutModel",
          "state": {
            "_model_module": "@jupyter-widgets/base",
            "_model_module_version": "1.2.0",
            "_model_name": "LayoutModel",
            "_view_count": null,
            "_view_module": "@jupyter-widgets/base",
            "_view_module_version": "1.2.0",
            "_view_name": "LayoutView",
            "align_content": null,
            "align_items": null,
            "align_self": null,
            "border": null,
            "bottom": null,
            "display": null,
            "flex": null,
            "flex_flow": null,
            "grid_area": null,
            "grid_auto_columns": null,
            "grid_auto_flow": null,
            "grid_auto_rows": null,
            "grid_column": null,
            "grid_gap": null,
            "grid_row": null,
            "grid_template_areas": null,
            "grid_template_columns": null,
            "grid_template_rows": null,
            "height": null,
            "justify_content": null,
            "justify_items": null,
            "left": null,
            "margin": null,
            "max_height": null,
            "max_width": null,
            "min_height": null,
            "min_width": null,
            "object_fit": null,
            "object_position": null,
            "order": null,
            "overflow": null,
            "overflow_x": null,
            "overflow_y": null,
            "padding": null,
            "right": null,
            "top": null,
            "visibility": null,
            "width": null
          }
        },
        "6ce2fc9018414f4f8d66cfb5663552e5": {
          "model_module": "@jupyter-widgets/base",
          "model_module_version": "1.2.0",
          "model_name": "LayoutModel",
          "state": {
            "_model_module": "@jupyter-widgets/base",
            "_model_module_version": "1.2.0",
            "_model_name": "LayoutModel",
            "_view_count": null,
            "_view_module": "@jupyter-widgets/base",
            "_view_module_version": "1.2.0",
            "_view_name": "LayoutView",
            "align_content": null,
            "align_items": null,
            "align_self": null,
            "border": null,
            "bottom": null,
            "display": null,
            "flex": null,
            "flex_flow": null,
            "grid_area": null,
            "grid_auto_columns": null,
            "grid_auto_flow": null,
            "grid_auto_rows": null,
            "grid_column": null,
            "grid_gap": null,
            "grid_row": null,
            "grid_template_areas": null,
            "grid_template_columns": null,
            "grid_template_rows": null,
            "height": null,
            "justify_content": null,
            "justify_items": null,
            "left": null,
            "margin": null,
            "max_height": null,
            "max_width": null,
            "min_height": null,
            "min_width": null,
            "object_fit": null,
            "object_position": null,
            "order": null,
            "overflow": null,
            "overflow_x": null,
            "overflow_y": null,
            "padding": null,
            "right": null,
            "top": null,
            "visibility": null,
            "width": null
          }
        },
        "6eb6d25fd77348ddbfde8dc650c903a5": {
          "model_module": "@jupyter-widgets/base",
          "model_module_version": "1.2.0",
          "model_name": "LayoutModel",
          "state": {
            "_model_module": "@jupyter-widgets/base",
            "_model_module_version": "1.2.0",
            "_model_name": "LayoutModel",
            "_view_count": null,
            "_view_module": "@jupyter-widgets/base",
            "_view_module_version": "1.2.0",
            "_view_name": "LayoutView",
            "align_content": null,
            "align_items": null,
            "align_self": null,
            "border": null,
            "bottom": null,
            "display": null,
            "flex": null,
            "flex_flow": null,
            "grid_area": null,
            "grid_auto_columns": null,
            "grid_auto_flow": null,
            "grid_auto_rows": null,
            "grid_column": null,
            "grid_gap": null,
            "grid_row": null,
            "grid_template_areas": null,
            "grid_template_columns": null,
            "grid_template_rows": null,
            "height": null,
            "justify_content": null,
            "justify_items": null,
            "left": null,
            "margin": null,
            "max_height": null,
            "max_width": null,
            "min_height": null,
            "min_width": null,
            "object_fit": null,
            "object_position": null,
            "order": null,
            "overflow": null,
            "overflow_x": null,
            "overflow_y": null,
            "padding": null,
            "right": null,
            "top": null,
            "visibility": null,
            "width": null
          }
        },
        "6ed5c21ac5be4934a1076b91512d7c13": {
          "model_module": "@jupyter-widgets/controls",
          "model_module_version": "1.5.0",
          "model_name": "HTMLModel",
          "state": {
            "_dom_classes": [],
            "_model_module": "@jupyter-widgets/controls",
            "_model_module_version": "1.5.0",
            "_model_name": "HTMLModel",
            "_view_count": null,
            "_view_module": "@jupyter-widgets/controls",
            "_view_module_version": "1.5.0",
            "_view_name": "HTMLView",
            "description": "",
            "description_tooltip": null,
            "layout": "IPY_MODEL_4da5bf63a0ea464d8088dddcb924fa37",
            "placeholder": "​",
            "style": "IPY_MODEL_a00a5f6b31374571b76acbd00cb23e92",
            "value": "model.safetensors.index.json: 100%"
          }
        },
        "7348bf8cf2c04f9780c60a844ef78d26": {
          "model_module": "@jupyter-widgets/controls",
          "model_module_version": "1.5.0",
          "model_name": "HTMLModel",
          "state": {
            "_dom_classes": [],
            "_model_module": "@jupyter-widgets/controls",
            "_model_module_version": "1.5.0",
            "_model_name": "HTMLModel",
            "_view_count": null,
            "_view_module": "@jupyter-widgets/controls",
            "_view_module_version": "1.5.0",
            "_view_name": "HTMLView",
            "description": "",
            "description_tooltip": null,
            "layout": "IPY_MODEL_19dee76f642648e9a8196e54af6ca94a",
            "placeholder": "​",
            "style": "IPY_MODEL_c229e256c0e941138d0e739121e72489",
            "value": " 406/0 [00:00&lt;00:00, 2157.24 examples/s]"
          }
        },
        "745b65b6d7c94dd190ca764a9185ce18": {
          "model_module": "@jupyter-widgets/controls",
          "model_module_version": "1.5.0",
          "model_name": "FloatProgressModel",
          "state": {
            "_dom_classes": [],
            "_model_module": "@jupyter-widgets/controls",
            "_model_module_version": "1.5.0",
            "_model_name": "FloatProgressModel",
            "_view_count": null,
            "_view_module": "@jupyter-widgets/controls",
            "_view_module_version": "1.5.0",
            "_view_name": "ProgressView",
            "bar_style": "success",
            "description": "",
            "description_tooltip": null,
            "layout": "IPY_MODEL_621d7f43651e4913b8744417f4877b30",
            "max": 2,
            "min": 0,
            "orientation": "horizontal",
            "style": "IPY_MODEL_35a5255cf32b41f8b5a82aaaed60dff1",
            "value": 2
          }
        },
        "748a728756c24405ba304d31bd307d54": {
          "model_module": "@jupyter-widgets/controls",
          "model_module_version": "1.5.0",
          "model_name": "HTMLModel",
          "state": {
            "_dom_classes": [],
            "_model_module": "@jupyter-widgets/controls",
            "_model_module_version": "1.5.0",
            "_model_name": "HTMLModel",
            "_view_count": null,
            "_view_module": "@jupyter-widgets/controls",
            "_view_module_version": "1.5.0",
            "_view_name": "HTMLView",
            "description": "",
            "description_tooltip": null,
            "layout": "IPY_MODEL_212272c4c57d4d09bac1a25ed3ab0ac0",
            "placeholder": "​",
            "style": "IPY_MODEL_30977cabadad489badb27f5a8aa6b47e",
            "value": "Generating train split: "
          }
        },
        "74a52e3297374fcc8ee1727eb4aa30ca": {
          "model_module": "@jupyter-widgets/controls",
          "model_module_version": "1.5.0",
          "model_name": "DescriptionStyleModel",
          "state": {
            "_model_module": "@jupyter-widgets/controls",
            "_model_module_version": "1.5.0",
            "_model_name": "DescriptionStyleModel",
            "_view_count": null,
            "_view_module": "@jupyter-widgets/base",
            "_view_module_version": "1.2.0",
            "_view_name": "StyleView",
            "description_width": ""
          }
        },
        "76c22d7fe4f64ed89b8848994163b335": {
          "model_module": "@jupyter-widgets/controls",
          "model_module_version": "1.5.0",
          "model_name": "ProgressStyleModel",
          "state": {
            "_model_module": "@jupyter-widgets/controls",
            "_model_module_version": "1.5.0",
            "_model_name": "ProgressStyleModel",
            "_view_count": null,
            "_view_module": "@jupyter-widgets/base",
            "_view_module_version": "1.2.0",
            "_view_name": "StyleView",
            "bar_color": null,
            "description_width": ""
          }
        },
        "782641b43d35466296da703d9567b4bf": {
          "model_module": "@jupyter-widgets/controls",
          "model_module_version": "1.5.0",
          "model_name": "HTMLModel",
          "state": {
            "_dom_classes": [],
            "_model_module": "@jupyter-widgets/controls",
            "_model_module_version": "1.5.0",
            "_model_name": "HTMLModel",
            "_view_count": null,
            "_view_module": "@jupyter-widgets/controls",
            "_view_module_version": "1.5.0",
            "_view_name": "HTMLView",
            "description": "",
            "description_tooltip": null,
            "layout": "IPY_MODEL_33f2a5ee88684962a0a7c5db06d590ad",
            "placeholder": "​",
            "style": "IPY_MODEL_9c8969cceda849c3aa78197c400028e9",
            "value": " 4.54G/4.54G [03:50&lt;00:00, 16.3MB/s]"
          }
        },
        "7dbaf3400b094af8ab87f3bf49558dcb": {
          "model_module": "@jupyter-widgets/controls",
          "model_module_version": "1.5.0",
          "model_name": "HTMLModel",
          "state": {
            "_dom_classes": [],
            "_model_module": "@jupyter-widgets/controls",
            "_model_module_version": "1.5.0",
            "_model_name": "HTMLModel",
            "_view_count": null,
            "_view_module": "@jupyter-widgets/controls",
            "_view_module_version": "1.5.0",
            "_view_name": "HTMLView",
            "description": "",
            "description_tooltip": null,
            "layout": "IPY_MODEL_9932831bb2854cdca2d3b73bd34e577a",
            "placeholder": "​",
            "style": "IPY_MODEL_1711265c3a194ce0a355121bf53970fb",
            "value": "config.json: 100%"
          }
        },
        "7e68d935233947f5b25633c73bb00977": {
          "model_module": "@jupyter-widgets/base",
          "model_module_version": "1.2.0",
          "model_name": "LayoutModel",
          "state": {
            "_model_module": "@jupyter-widgets/base",
            "_model_module_version": "1.2.0",
            "_model_name": "LayoutModel",
            "_view_count": null,
            "_view_module": "@jupyter-widgets/base",
            "_view_module_version": "1.2.0",
            "_view_name": "LayoutView",
            "align_content": null,
            "align_items": null,
            "align_self": null,
            "border": null,
            "bottom": null,
            "display": null,
            "flex": null,
            "flex_flow": null,
            "grid_area": null,
            "grid_auto_columns": null,
            "grid_auto_flow": null,
            "grid_auto_rows": null,
            "grid_column": null,
            "grid_gap": null,
            "grid_row": null,
            "grid_template_areas": null,
            "grid_template_columns": null,
            "grid_template_rows": null,
            "height": null,
            "justify_content": null,
            "justify_items": null,
            "left": null,
            "margin": null,
            "max_height": null,
            "max_width": null,
            "min_height": null,
            "min_width": null,
            "object_fit": null,
            "object_position": null,
            "order": null,
            "overflow": null,
            "overflow_x": null,
            "overflow_y": null,
            "padding": null,
            "right": null,
            "top": null,
            "visibility": null,
            "width": null
          }
        },
        "7ef5002178324369bfd99b85c779b08b": {
          "model_module": "@jupyter-widgets/controls",
          "model_module_version": "1.5.0",
          "model_name": "HBoxModel",
          "state": {
            "_dom_classes": [],
            "_model_module": "@jupyter-widgets/controls",
            "_model_module_version": "1.5.0",
            "_model_name": "HBoxModel",
            "_view_count": null,
            "_view_module": "@jupyter-widgets/controls",
            "_view_module_version": "1.5.0",
            "_view_name": "HBoxView",
            "box_style": "",
            "children": [
              "IPY_MODEL_748a728756c24405ba304d31bd307d54",
              "IPY_MODEL_df61c4226b804ec89ebb48443b8932c2",
              "IPY_MODEL_7348bf8cf2c04f9780c60a844ef78d26"
            ],
            "layout": "IPY_MODEL_1a5f878fdbf24f71b6b806cc349a4208"
          }
        },
        "7f6b889481a147a1ab9b521c9da6e859": {
          "model_module": "@jupyter-widgets/base",
          "model_module_version": "1.2.0",
          "model_name": "LayoutModel",
          "state": {
            "_model_module": "@jupyter-widgets/base",
            "_model_module_version": "1.2.0",
            "_model_name": "LayoutModel",
            "_view_count": null,
            "_view_module": "@jupyter-widgets/base",
            "_view_module_version": "1.2.0",
            "_view_name": "LayoutView",
            "align_content": null,
            "align_items": null,
            "align_self": null,
            "border": null,
            "bottom": null,
            "display": null,
            "flex": null,
            "flex_flow": null,
            "grid_area": null,
            "grid_auto_columns": null,
            "grid_auto_flow": null,
            "grid_auto_rows": null,
            "grid_column": null,
            "grid_gap": null,
            "grid_row": null,
            "grid_template_areas": null,
            "grid_template_columns": null,
            "grid_template_rows": null,
            "height": null,
            "justify_content": null,
            "justify_items": null,
            "left": null,
            "margin": null,
            "max_height": null,
            "max_width": null,
            "min_height": null,
            "min_width": null,
            "object_fit": null,
            "object_position": null,
            "order": null,
            "overflow": null,
            "overflow_x": null,
            "overflow_y": null,
            "padding": null,
            "right": null,
            "top": null,
            "visibility": null,
            "width": null
          }
        },
        "7f9593c188b2419cb8a6a7ec4f2e05c4": {
          "model_module": "@jupyter-widgets/controls",
          "model_module_version": "1.5.0",
          "model_name": "HTMLModel",
          "state": {
            "_dom_classes": [],
            "_model_module": "@jupyter-widgets/controls",
            "_model_module_version": "1.5.0",
            "_model_name": "HTMLModel",
            "_view_count": null,
            "_view_module": "@jupyter-widgets/controls",
            "_view_module_version": "1.5.0",
            "_view_name": "HTMLView",
            "description": "",
            "description_tooltip": null,
            "layout": "IPY_MODEL_f78be504318b4f968b3cb925d88bf803",
            "placeholder": "​",
            "style": "IPY_MODEL_e6ab5c8c435a42b3a706a7846db229b7",
            "value": "Map: 100%"
          }
        },
        "7fddaff5664043edb82996993dfc2823": {
          "model_module": "@jupyter-widgets/base",
          "model_module_version": "1.2.0",
          "model_name": "LayoutModel",
          "state": {
            "_model_module": "@jupyter-widgets/base",
            "_model_module_version": "1.2.0",
            "_model_name": "LayoutModel",
            "_view_count": null,
            "_view_module": "@jupyter-widgets/base",
            "_view_module_version": "1.2.0",
            "_view_name": "LayoutView",
            "align_content": null,
            "align_items": null,
            "align_self": null,
            "border": null,
            "bottom": null,
            "display": null,
            "flex": null,
            "flex_flow": null,
            "grid_area": null,
            "grid_auto_columns": null,
            "grid_auto_flow": null,
            "grid_auto_rows": null,
            "grid_column": null,
            "grid_gap": null,
            "grid_row": null,
            "grid_template_areas": null,
            "grid_template_columns": null,
            "grid_template_rows": null,
            "height": null,
            "justify_content": null,
            "justify_items": null,
            "left": null,
            "margin": null,
            "max_height": null,
            "max_width": null,
            "min_height": null,
            "min_width": null,
            "object_fit": null,
            "object_position": null,
            "order": null,
            "overflow": null,
            "overflow_x": null,
            "overflow_y": null,
            "padding": null,
            "right": null,
            "top": null,
            "visibility": null,
            "width": null
          }
        },
        "80773527772044988a4ef81f41662bd0": {
          "model_module": "@jupyter-widgets/controls",
          "model_module_version": "1.5.0",
          "model_name": "HTMLModel",
          "state": {
            "_dom_classes": [],
            "_model_module": "@jupyter-widgets/controls",
            "_model_module_version": "1.5.0",
            "_model_name": "HTMLModel",
            "_view_count": null,
            "_view_module": "@jupyter-widgets/controls",
            "_view_module_version": "1.5.0",
            "_view_name": "HTMLView",
            "description": "",
            "description_tooltip": null,
            "layout": "IPY_MODEL_f09cf0063d044a42ac047a0e5971036d",
            "placeholder": "​",
            "style": "IPY_MODEL_c57ba30b81534285b3af955775635000",
            "value": " 9.94G/9.94G [04:22&lt;00:00, 50.9MB/s]"
          }
        },
        "8133bce7dfce49bb8718eb4e3bbd8f31": {
          "model_module": "@jupyter-widgets/controls",
          "model_module_version": "1.5.0",
          "model_name": "DescriptionStyleModel",
          "state": {
            "_model_module": "@jupyter-widgets/controls",
            "_model_module_version": "1.5.0",
            "_model_name": "DescriptionStyleModel",
            "_view_count": null,
            "_view_module": "@jupyter-widgets/base",
            "_view_module_version": "1.2.0",
            "_view_name": "StyleView",
            "description_width": ""
          }
        },
        "82c7ecc3dbdf4973af901b1ca9c678ba": {
          "model_module": "@jupyter-widgets/base",
          "model_module_version": "1.2.0",
          "model_name": "LayoutModel",
          "state": {
            "_model_module": "@jupyter-widgets/base",
            "_model_module_version": "1.2.0",
            "_model_name": "LayoutModel",
            "_view_count": null,
            "_view_module": "@jupyter-widgets/base",
            "_view_module_version": "1.2.0",
            "_view_name": "LayoutView",
            "align_content": null,
            "align_items": null,
            "align_self": null,
            "border": null,
            "bottom": null,
            "display": null,
            "flex": null,
            "flex_flow": null,
            "grid_area": null,
            "grid_auto_columns": null,
            "grid_auto_flow": null,
            "grid_auto_rows": null,
            "grid_column": null,
            "grid_gap": null,
            "grid_row": null,
            "grid_template_areas": null,
            "grid_template_columns": null,
            "grid_template_rows": null,
            "height": null,
            "justify_content": null,
            "justify_items": null,
            "left": null,
            "margin": null,
            "max_height": null,
            "max_width": null,
            "min_height": null,
            "min_width": null,
            "object_fit": null,
            "object_position": null,
            "order": null,
            "overflow": null,
            "overflow_x": null,
            "overflow_y": null,
            "padding": null,
            "right": null,
            "top": null,
            "visibility": null,
            "width": null
          }
        },
        "867e7f0f2e474268a5320734e08c17ec": {
          "model_module": "@jupyter-widgets/base",
          "model_module_version": "1.2.0",
          "model_name": "LayoutModel",
          "state": {
            "_model_module": "@jupyter-widgets/base",
            "_model_module_version": "1.2.0",
            "_model_name": "LayoutModel",
            "_view_count": null,
            "_view_module": "@jupyter-widgets/base",
            "_view_module_version": "1.2.0",
            "_view_name": "LayoutView",
            "align_content": null,
            "align_items": null,
            "align_self": null,
            "border": null,
            "bottom": null,
            "display": null,
            "flex": null,
            "flex_flow": null,
            "grid_area": null,
            "grid_auto_columns": null,
            "grid_auto_flow": null,
            "grid_auto_rows": null,
            "grid_column": null,
            "grid_gap": null,
            "grid_row": null,
            "grid_template_areas": null,
            "grid_template_columns": null,
            "grid_template_rows": null,
            "height": null,
            "justify_content": null,
            "justify_items": null,
            "left": null,
            "margin": null,
            "max_height": null,
            "max_width": null,
            "min_height": null,
            "min_width": null,
            "object_fit": null,
            "object_position": null,
            "order": null,
            "overflow": null,
            "overflow_x": null,
            "overflow_y": null,
            "padding": null,
            "right": null,
            "top": null,
            "visibility": null,
            "width": null
          }
        },
        "8acbc6951ebc4c21b05c9a6c8a731dbd": {
          "model_module": "@jupyter-widgets/controls",
          "model_module_version": "1.5.0",
          "model_name": "HBoxModel",
          "state": {
            "_dom_classes": [],
            "_model_module": "@jupyter-widgets/controls",
            "_model_module_version": "1.5.0",
            "_model_name": "HBoxModel",
            "_view_count": null,
            "_view_module": "@jupyter-widgets/controls",
            "_view_module_version": "1.5.0",
            "_view_name": "HBoxView",
            "box_style": "",
            "children": [
              "IPY_MODEL_91df9d8723004ecfb49706aeecd016e0",
              "IPY_MODEL_a697a31eac8b42ef96873aa2091b4b75",
              "IPY_MODEL_dda61e7cee0c4e71bd5e667e177fb121"
            ],
            "layout": "IPY_MODEL_6ce2fc9018414f4f8d66cfb5663552e5"
          }
        },
        "8b18fe6de21349d3b0178834a99a3f50": {
          "model_module": "@jupyter-widgets/controls",
          "model_module_version": "1.5.0",
          "model_name": "HBoxModel",
          "state": {
            "_dom_classes": [],
            "_model_module": "@jupyter-widgets/controls",
            "_model_module_version": "1.5.0",
            "_model_name": "HBoxModel",
            "_view_count": null,
            "_view_module": "@jupyter-widgets/controls",
            "_view_module_version": "1.5.0",
            "_view_name": "HBoxView",
            "box_style": "",
            "children": [
              "IPY_MODEL_e201c11258a449658c79e4290dd4328a",
              "IPY_MODEL_11120bb6866f4877aa21bfa6fadafe5c",
              "IPY_MODEL_45746e9ce567488288524be1ff27aa4b"
            ],
            "layout": "IPY_MODEL_d2d4530ca36e439688fcdfcd9e2335dd"
          }
        },
        "8b2e341a05f54437a07227e62626c7b3": {
          "model_module": "@jupyter-widgets/controls",
          "model_module_version": "1.5.0",
          "model_name": "DescriptionStyleModel",
          "state": {
            "_model_module": "@jupyter-widgets/controls",
            "_model_module_version": "1.5.0",
            "_model_name": "DescriptionStyleModel",
            "_view_count": null,
            "_view_module": "@jupyter-widgets/base",
            "_view_module_version": "1.2.0",
            "_view_name": "StyleView",
            "description_width": ""
          }
        },
        "8f6ec2b8f2884905b59ce8ec98a4a4d9": {
          "model_module": "@jupyter-widgets/controls",
          "model_module_version": "1.5.0",
          "model_name": "FloatProgressModel",
          "state": {
            "_dom_classes": [],
            "_model_module": "@jupyter-widgets/controls",
            "_model_module_version": "1.5.0",
            "_model_name": "FloatProgressModel",
            "_view_count": null,
            "_view_module": "@jupyter-widgets/controls",
            "_view_module_version": "1.5.0",
            "_view_name": "ProgressView",
            "bar_style": "success",
            "description": "",
            "description_tooltip": null,
            "layout": "IPY_MODEL_2cc7ddbdd14e490e8034984123393082",
            "max": 1795188,
            "min": 0,
            "orientation": "horizontal",
            "style": "IPY_MODEL_c60ae3678a104d928df62f46b056a217",
            "value": 1795188
          }
        },
        "91a0cbe310654e7c8e87a481b7ef453e": {
          "model_module": "@jupyter-widgets/controls",
          "model_module_version": "1.5.0",
          "model_name": "HTMLModel",
          "state": {
            "_dom_classes": [],
            "_model_module": "@jupyter-widgets/controls",
            "_model_module_version": "1.5.0",
            "_model_name": "HTMLModel",
            "_view_count": null,
            "_view_module": "@jupyter-widgets/controls",
            "_view_module_version": "1.5.0",
            "_view_name": "HTMLView",
            "description": "",
            "description_tooltip": null,
            "layout": "IPY_MODEL_6eb6d25fd77348ddbfde8dc650c903a5",
            "placeholder": "​",
            "style": "IPY_MODEL_de1d91ef2b9344ffa7e44a0cc25daa9f",
            "value": " 571/571 [00:00&lt;00:00, 51.2kB/s]"
          }
        },
        "91df9d8723004ecfb49706aeecd016e0": {
          "model_module": "@jupyter-widgets/controls",
          "model_module_version": "1.5.0",
          "model_name": "HTMLModel",
          "state": {
            "_dom_classes": [],
            "_model_module": "@jupyter-widgets/controls",
            "_model_module_version": "1.5.0",
            "_model_name": "HTMLModel",
            "_view_count": null,
            "_view_module": "@jupyter-widgets/controls",
            "_view_module_version": "1.5.0",
            "_view_name": "HTMLView",
            "description": "",
            "description_tooltip": null,
            "layout": "IPY_MODEL_1766993e93fd4b1ea6d040c0614417f9",
            "placeholder": "​",
            "style": "IPY_MODEL_02e5714b8be14a8db2838ebeaf916f87",
            "value": "Loading checkpoint shards:   0%"
          }
        },
        "92c925d808bd48229b5ecefdf2755350": {
          "model_module": "@jupyter-widgets/base",
          "model_module_version": "1.2.0",
          "model_name": "LayoutModel",
          "state": {
            "_model_module": "@jupyter-widgets/base",
            "_model_module_version": "1.2.0",
            "_model_name": "LayoutModel",
            "_view_count": null,
            "_view_module": "@jupyter-widgets/base",
            "_view_module_version": "1.2.0",
            "_view_name": "LayoutView",
            "align_content": null,
            "align_items": null,
            "align_self": null,
            "border": null,
            "bottom": null,
            "display": null,
            "flex": null,
            "flex_flow": null,
            "grid_area": null,
            "grid_auto_columns": null,
            "grid_auto_flow": null,
            "grid_auto_rows": null,
            "grid_column": null,
            "grid_gap": null,
            "grid_row": null,
            "grid_template_areas": null,
            "grid_template_columns": null,
            "grid_template_rows": null,
            "height": null,
            "justify_content": null,
            "justify_items": null,
            "left": null,
            "margin": null,
            "max_height": null,
            "max_width": null,
            "min_height": null,
            "min_width": null,
            "object_fit": null,
            "object_position": null,
            "order": null,
            "overflow": null,
            "overflow_x": null,
            "overflow_y": null,
            "padding": null,
            "right": null,
            "top": null,
            "visibility": null,
            "width": null
          }
        },
        "9364042054d24c1592d076676c5968dc": {
          "model_module": "@jupyter-widgets/base",
          "model_module_version": "1.2.0",
          "model_name": "LayoutModel",
          "state": {
            "_model_module": "@jupyter-widgets/base",
            "_model_module_version": "1.2.0",
            "_model_name": "LayoutModel",
            "_view_count": null,
            "_view_module": "@jupyter-widgets/base",
            "_view_module_version": "1.2.0",
            "_view_name": "LayoutView",
            "align_content": null,
            "align_items": null,
            "align_self": null,
            "border": null,
            "bottom": null,
            "display": null,
            "flex": null,
            "flex_flow": null,
            "grid_area": null,
            "grid_auto_columns": null,
            "grid_auto_flow": null,
            "grid_auto_rows": null,
            "grid_column": null,
            "grid_gap": null,
            "grid_row": null,
            "grid_template_areas": null,
            "grid_template_columns": null,
            "grid_template_rows": null,
            "height": null,
            "justify_content": null,
            "justify_items": null,
            "left": null,
            "margin": null,
            "max_height": null,
            "max_width": null,
            "min_height": null,
            "min_width": null,
            "object_fit": null,
            "object_position": null,
            "order": null,
            "overflow": null,
            "overflow_x": null,
            "overflow_y": null,
            "padding": null,
            "right": null,
            "top": null,
            "visibility": null,
            "width": null
          }
        },
        "95154feb98ca4f9cbb30deba278d9671": {
          "model_module": "@jupyter-widgets/controls",
          "model_module_version": "1.5.0",
          "model_name": "DescriptionStyleModel",
          "state": {
            "_model_module": "@jupyter-widgets/controls",
            "_model_module_version": "1.5.0",
            "_model_name": "DescriptionStyleModel",
            "_view_count": null,
            "_view_module": "@jupyter-widgets/base",
            "_view_module_version": "1.2.0",
            "_view_name": "StyleView",
            "description_width": ""
          }
        },
        "95c50bf58a4e4c848cd0862f3acd85dc": {
          "model_module": "@jupyter-widgets/controls",
          "model_module_version": "1.5.0",
          "model_name": "DescriptionStyleModel",
          "state": {
            "_model_module": "@jupyter-widgets/controls",
            "_model_module_version": "1.5.0",
            "_model_name": "DescriptionStyleModel",
            "_view_count": null,
            "_view_module": "@jupyter-widgets/base",
            "_view_module_version": "1.2.0",
            "_view_name": "StyleView",
            "description_width": ""
          }
        },
        "970e9ce157164d5585d167f239e9d753": {
          "model_module": "@jupyter-widgets/base",
          "model_module_version": "1.2.0",
          "model_name": "LayoutModel",
          "state": {
            "_model_module": "@jupyter-widgets/base",
            "_model_module_version": "1.2.0",
            "_model_name": "LayoutModel",
            "_view_count": null,
            "_view_module": "@jupyter-widgets/base",
            "_view_module_version": "1.2.0",
            "_view_name": "LayoutView",
            "align_content": null,
            "align_items": null,
            "align_self": null,
            "border": null,
            "bottom": null,
            "display": null,
            "flex": null,
            "flex_flow": null,
            "grid_area": null,
            "grid_auto_columns": null,
            "grid_auto_flow": null,
            "grid_auto_rows": null,
            "grid_column": null,
            "grid_gap": null,
            "grid_row": null,
            "grid_template_areas": null,
            "grid_template_columns": null,
            "grid_template_rows": null,
            "height": null,
            "justify_content": null,
            "justify_items": null,
            "left": null,
            "margin": null,
            "max_height": null,
            "max_width": null,
            "min_height": null,
            "min_width": null,
            "object_fit": null,
            "object_position": null,
            "order": null,
            "overflow": null,
            "overflow_x": null,
            "overflow_y": null,
            "padding": null,
            "right": null,
            "top": null,
            "visibility": null,
            "width": null
          }
        },
        "9932831bb2854cdca2d3b73bd34e577a": {
          "model_module": "@jupyter-widgets/base",
          "model_module_version": "1.2.0",
          "model_name": "LayoutModel",
          "state": {
            "_model_module": "@jupyter-widgets/base",
            "_model_module_version": "1.2.0",
            "_model_name": "LayoutModel",
            "_view_count": null,
            "_view_module": "@jupyter-widgets/base",
            "_view_module_version": "1.2.0",
            "_view_name": "LayoutView",
            "align_content": null,
            "align_items": null,
            "align_self": null,
            "border": null,
            "bottom": null,
            "display": null,
            "flex": null,
            "flex_flow": null,
            "grid_area": null,
            "grid_auto_columns": null,
            "grid_auto_flow": null,
            "grid_auto_rows": null,
            "grid_column": null,
            "grid_gap": null,
            "grid_row": null,
            "grid_template_areas": null,
            "grid_template_columns": null,
            "grid_template_rows": null,
            "height": null,
            "justify_content": null,
            "justify_items": null,
            "left": null,
            "margin": null,
            "max_height": null,
            "max_width": null,
            "min_height": null,
            "min_width": null,
            "object_fit": null,
            "object_position": null,
            "order": null,
            "overflow": null,
            "overflow_x": null,
            "overflow_y": null,
            "padding": null,
            "right": null,
            "top": null,
            "visibility": null,
            "width": null
          }
        },
        "9977552b847a4c19936669c50db937a5": {
          "model_module": "@jupyter-widgets/controls",
          "model_module_version": "1.5.0",
          "model_name": "DescriptionStyleModel",
          "state": {
            "_model_module": "@jupyter-widgets/controls",
            "_model_module_version": "1.5.0",
            "_model_name": "DescriptionStyleModel",
            "_view_count": null,
            "_view_module": "@jupyter-widgets/base",
            "_view_module_version": "1.2.0",
            "_view_name": "StyleView",
            "description_width": ""
          }
        },
        "9b5bc7e9358842ac9f3aeed43d7cabf2": {
          "model_module": "@jupyter-widgets/base",
          "model_module_version": "1.2.0",
          "model_name": "LayoutModel",
          "state": {
            "_model_module": "@jupyter-widgets/base",
            "_model_module_version": "1.2.0",
            "_model_name": "LayoutModel",
            "_view_count": null,
            "_view_module": "@jupyter-widgets/base",
            "_view_module_version": "1.2.0",
            "_view_name": "LayoutView",
            "align_content": null,
            "align_items": null,
            "align_self": null,
            "border": null,
            "bottom": null,
            "display": null,
            "flex": null,
            "flex_flow": null,
            "grid_area": null,
            "grid_auto_columns": null,
            "grid_auto_flow": null,
            "grid_auto_rows": null,
            "grid_column": null,
            "grid_gap": null,
            "grid_row": null,
            "grid_template_areas": null,
            "grid_template_columns": null,
            "grid_template_rows": null,
            "height": null,
            "justify_content": null,
            "justify_items": null,
            "left": null,
            "margin": null,
            "max_height": null,
            "max_width": null,
            "min_height": null,
            "min_width": null,
            "object_fit": null,
            "object_position": null,
            "order": null,
            "overflow": null,
            "overflow_x": null,
            "overflow_y": null,
            "padding": null,
            "right": null,
            "top": null,
            "visibility": null,
            "width": null
          }
        },
        "9b8e96e5a2fb4846babb4f2a324e14c7": {
          "model_module": "@jupyter-widgets/controls",
          "model_module_version": "1.5.0",
          "model_name": "HTMLModel",
          "state": {
            "_dom_classes": [],
            "_model_module": "@jupyter-widgets/controls",
            "_model_module_version": "1.5.0",
            "_model_name": "HTMLModel",
            "_view_count": null,
            "_view_module": "@jupyter-widgets/controls",
            "_view_module_version": "1.5.0",
            "_view_name": "HTMLView",
            "description": "",
            "description_tooltip": null,
            "layout": "IPY_MODEL_9b5bc7e9358842ac9f3aeed43d7cabf2",
            "placeholder": "​",
            "style": "IPY_MODEL_be07ce282aad4887b317395c445ec97b",
            "value": "Map: 100%"
          }
        },
        "9c8969cceda849c3aa78197c400028e9": {
          "model_module": "@jupyter-widgets/controls",
          "model_module_version": "1.5.0",
          "model_name": "DescriptionStyleModel",
          "state": {
            "_model_module": "@jupyter-widgets/controls",
            "_model_module_version": "1.5.0",
            "_model_name": "DescriptionStyleModel",
            "_view_count": null,
            "_view_module": "@jupyter-widgets/base",
            "_view_module_version": "1.2.0",
            "_view_name": "StyleView",
            "description_width": ""
          }
        },
        "9d9ba21c0b6f49518999d7b30d96cafd": {
          "model_module": "@jupyter-widgets/controls",
          "model_module_version": "1.5.0",
          "model_name": "ProgressStyleModel",
          "state": {
            "_model_module": "@jupyter-widgets/controls",
            "_model_module_version": "1.5.0",
            "_model_name": "ProgressStyleModel",
            "_view_count": null,
            "_view_module": "@jupyter-widgets/base",
            "_view_module_version": "1.2.0",
            "_view_name": "StyleView",
            "bar_color": null,
            "description_width": ""
          }
        },
        "9ea0b6af0583442686752e82ccd45caa": {
          "model_module": "@jupyter-widgets/base",
          "model_module_version": "1.2.0",
          "model_name": "LayoutModel",
          "state": {
            "_model_module": "@jupyter-widgets/base",
            "_model_module_version": "1.2.0",
            "_model_name": "LayoutModel",
            "_view_count": null,
            "_view_module": "@jupyter-widgets/base",
            "_view_module_version": "1.2.0",
            "_view_name": "LayoutView",
            "align_content": null,
            "align_items": null,
            "align_self": null,
            "border": null,
            "bottom": null,
            "display": null,
            "flex": null,
            "flex_flow": null,
            "grid_area": null,
            "grid_auto_columns": null,
            "grid_auto_flow": null,
            "grid_auto_rows": null,
            "grid_column": null,
            "grid_gap": null,
            "grid_row": null,
            "grid_template_areas": null,
            "grid_template_columns": null,
            "grid_template_rows": null,
            "height": null,
            "justify_content": null,
            "justify_items": null,
            "left": null,
            "margin": null,
            "max_height": null,
            "max_width": null,
            "min_height": null,
            "min_width": null,
            "object_fit": null,
            "object_position": null,
            "order": null,
            "overflow": null,
            "overflow_x": null,
            "overflow_y": null,
            "padding": null,
            "right": null,
            "top": null,
            "visibility": null,
            "width": null
          }
        },
        "a00a5f6b31374571b76acbd00cb23e92": {
          "model_module": "@jupyter-widgets/controls",
          "model_module_version": "1.5.0",
          "model_name": "DescriptionStyleModel",
          "state": {
            "_model_module": "@jupyter-widgets/controls",
            "_model_module_version": "1.5.0",
            "_model_name": "DescriptionStyleModel",
            "_view_count": null,
            "_view_module": "@jupyter-widgets/base",
            "_view_module_version": "1.2.0",
            "_view_name": "StyleView",
            "description_width": ""
          }
        },
        "a00c4149814e4627a0f0b7b5d268ed83": {
          "model_module": "@jupyter-widgets/controls",
          "model_module_version": "1.5.0",
          "model_name": "DescriptionStyleModel",
          "state": {
            "_model_module": "@jupyter-widgets/controls",
            "_model_module_version": "1.5.0",
            "_model_name": "DescriptionStyleModel",
            "_view_count": null,
            "_view_module": "@jupyter-widgets/base",
            "_view_module_version": "1.2.0",
            "_view_name": "StyleView",
            "description_width": ""
          }
        },
        "a03654dcfb524d479746b6e14e75ea92": {
          "model_module": "@jupyter-widgets/controls",
          "model_module_version": "1.5.0",
          "model_name": "FloatProgressModel",
          "state": {
            "_dom_classes": [],
            "_model_module": "@jupyter-widgets/controls",
            "_model_module_version": "1.5.0",
            "_model_name": "FloatProgressModel",
            "_view_count": null,
            "_view_module": "@jupyter-widgets/controls",
            "_view_module_version": "1.5.0",
            "_view_name": "ProgressView",
            "bar_style": "success",
            "description": "",
            "description_tooltip": null,
            "layout": "IPY_MODEL_867e7f0f2e474268a5320734e08c17ec",
            "max": 324,
            "min": 0,
            "orientation": "horizontal",
            "style": "IPY_MODEL_1afd9124685a4106bf4d9e02605b92d4",
            "value": 324
          }
        },
        "a04b57d2efab4082819483d974558233": {
          "model_module": "@jupyter-widgets/controls",
          "model_module_version": "1.5.0",
          "model_name": "FloatProgressModel",
          "state": {
            "_dom_classes": [],
            "_model_module": "@jupyter-widgets/controls",
            "_model_module_version": "1.5.0",
            "_model_name": "FloatProgressModel",
            "_view_count": null,
            "_view_module": "@jupyter-widgets/controls",
            "_view_module_version": "1.5.0",
            "_view_name": "ProgressView",
            "bar_style": "success",
            "description": "",
            "description_tooltip": null,
            "layout": "IPY_MODEL_1cbd8e550b8e4c2d984e151a77df0d3d",
            "max": 414,
            "min": 0,
            "orientation": "horizontal",
            "style": "IPY_MODEL_ca268020842242a39f6ae55f58d33a53",
            "value": 414
          }
        },
        "a28e6a91a7f04db39f434bbe2eabeb59": {
          "model_module": "@jupyter-widgets/base",
          "model_module_version": "1.2.0",
          "model_name": "LayoutModel",
          "state": {
            "_model_module": "@jupyter-widgets/base",
            "_model_module_version": "1.2.0",
            "_model_name": "LayoutModel",
            "_view_count": null,
            "_view_module": "@jupyter-widgets/base",
            "_view_module_version": "1.2.0",
            "_view_name": "LayoutView",
            "align_content": null,
            "align_items": null,
            "align_self": null,
            "border": null,
            "bottom": null,
            "display": null,
            "flex": null,
            "flex_flow": null,
            "grid_area": null,
            "grid_auto_columns": null,
            "grid_auto_flow": null,
            "grid_auto_rows": null,
            "grid_column": null,
            "grid_gap": null,
            "grid_row": null,
            "grid_template_areas": null,
            "grid_template_columns": null,
            "grid_template_rows": null,
            "height": null,
            "justify_content": null,
            "justify_items": null,
            "left": null,
            "margin": null,
            "max_height": null,
            "max_width": null,
            "min_height": null,
            "min_width": null,
            "object_fit": null,
            "object_position": null,
            "order": null,
            "overflow": null,
            "overflow_x": null,
            "overflow_y": null,
            "padding": null,
            "right": null,
            "top": null,
            "visibility": null,
            "width": null
          }
        },
        "a2f9a6ee51f0479a891b599126e74e14": {
          "model_module": "@jupyter-widgets/base",
          "model_module_version": "1.2.0",
          "model_name": "LayoutModel",
          "state": {
            "_model_module": "@jupyter-widgets/base",
            "_model_module_version": "1.2.0",
            "_model_name": "LayoutModel",
            "_view_count": null,
            "_view_module": "@jupyter-widgets/base",
            "_view_module_version": "1.2.0",
            "_view_name": "LayoutView",
            "align_content": null,
            "align_items": null,
            "align_self": null,
            "border": null,
            "bottom": null,
            "display": null,
            "flex": null,
            "flex_flow": null,
            "grid_area": null,
            "grid_auto_columns": null,
            "grid_auto_flow": null,
            "grid_auto_rows": null,
            "grid_column": null,
            "grid_gap": null,
            "grid_row": null,
            "grid_template_areas": null,
            "grid_template_columns": null,
            "grid_template_rows": null,
            "height": null,
            "justify_content": null,
            "justify_items": null,
            "left": null,
            "margin": null,
            "max_height": null,
            "max_width": null,
            "min_height": null,
            "min_width": null,
            "object_fit": null,
            "object_position": null,
            "order": null,
            "overflow": null,
            "overflow_x": null,
            "overflow_y": null,
            "padding": null,
            "right": null,
            "top": null,
            "visibility": null,
            "width": null
          }
        },
        "a697a31eac8b42ef96873aa2091b4b75": {
          "model_module": "@jupyter-widgets/controls",
          "model_module_version": "1.5.0",
          "model_name": "FloatProgressModel",
          "state": {
            "_dom_classes": [],
            "_model_module": "@jupyter-widgets/controls",
            "_model_module_version": "1.5.0",
            "_model_name": "FloatProgressModel",
            "_view_count": null,
            "_view_module": "@jupyter-widgets/controls",
            "_view_module_version": "1.5.0",
            "_view_name": "ProgressView",
            "bar_style": "",
            "description": "",
            "description_tooltip": null,
            "layout": "IPY_MODEL_b5c625fb9266494c97140d4a90091619",
            "max": 2,
            "min": 0,
            "orientation": "horizontal",
            "style": "IPY_MODEL_ea7f42f224974fc490ed187e9e71cc89",
            "value": 0
          }
        },
        "a9ae39bf9f944362a01930f9265f5481": {
          "model_module": "@jupyter-widgets/base",
          "model_module_version": "1.2.0",
          "model_name": "LayoutModel",
          "state": {
            "_model_module": "@jupyter-widgets/base",
            "_model_module_version": "1.2.0",
            "_model_name": "LayoutModel",
            "_view_count": null,
            "_view_module": "@jupyter-widgets/base",
            "_view_module_version": "1.2.0",
            "_view_name": "LayoutView",
            "align_content": null,
            "align_items": null,
            "align_self": null,
            "border": null,
            "bottom": null,
            "display": null,
            "flex": null,
            "flex_flow": null,
            "grid_area": null,
            "grid_auto_columns": null,
            "grid_auto_flow": null,
            "grid_auto_rows": null,
            "grid_column": null,
            "grid_gap": null,
            "grid_row": null,
            "grid_template_areas": null,
            "grid_template_columns": null,
            "grid_template_rows": null,
            "height": null,
            "justify_content": null,
            "justify_items": null,
            "left": null,
            "margin": null,
            "max_height": null,
            "max_width": null,
            "min_height": null,
            "min_width": null,
            "object_fit": null,
            "object_position": null,
            "order": null,
            "overflow": null,
            "overflow_x": null,
            "overflow_y": null,
            "padding": null,
            "right": null,
            "top": null,
            "visibility": null,
            "width": null
          }
        },
        "ab3e4f9793c64b21b0fd785f1890a874": {
          "model_module": "@jupyter-widgets/controls",
          "model_module_version": "1.5.0",
          "model_name": "DescriptionStyleModel",
          "state": {
            "_model_module": "@jupyter-widgets/controls",
            "_model_module_version": "1.5.0",
            "_model_name": "DescriptionStyleModel",
            "_view_count": null,
            "_view_module": "@jupyter-widgets/base",
            "_view_module_version": "1.2.0",
            "_view_name": "StyleView",
            "description_width": ""
          }
        },
        "abf1add9203e4af69270a1a72f0a9559": {
          "model_module": "@jupyter-widgets/controls",
          "model_module_version": "1.5.0",
          "model_name": "ProgressStyleModel",
          "state": {
            "_model_module": "@jupyter-widgets/controls",
            "_model_module_version": "1.5.0",
            "_model_name": "ProgressStyleModel",
            "_view_count": null,
            "_view_module": "@jupyter-widgets/base",
            "_view_module_version": "1.2.0",
            "_view_name": "StyleView",
            "bar_color": null,
            "description_width": ""
          }
        },
        "aec2aecc35be496faad7b950ed9bcd78": {
          "model_module": "@jupyter-widgets/controls",
          "model_module_version": "1.5.0",
          "model_name": "FloatProgressModel",
          "state": {
            "_dom_classes": [],
            "_model_module": "@jupyter-widgets/controls",
            "_model_module_version": "1.5.0",
            "_model_name": "FloatProgressModel",
            "_view_count": null,
            "_view_module": "@jupyter-widgets/controls",
            "_view_module_version": "1.5.0",
            "_view_name": "ProgressView",
            "bar_style": "success",
            "description": "",
            "description_tooltip": null,
            "layout": "IPY_MODEL_da147ebf9d0f4cf4aa65d8f167d22e46",
            "max": 25125,
            "min": 0,
            "orientation": "horizontal",
            "style": "IPY_MODEL_55be766ce873448a8e53e46f4596d54e",
            "value": 25125
          }
        },
        "af094298d1be45009ade5c21105ff0b5": {
          "model_module": "@jupyter-widgets/controls",
          "model_module_version": "1.5.0",
          "model_name": "HTMLModel",
          "state": {
            "_dom_classes": [],
            "_model_module": "@jupyter-widgets/controls",
            "_model_module_version": "1.5.0",
            "_model_name": "HTMLModel",
            "_view_count": null,
            "_view_module": "@jupyter-widgets/controls",
            "_view_module_version": "1.5.0",
            "_view_name": "HTMLView",
            "description": "",
            "description_tooltip": null,
            "layout": "IPY_MODEL_cba999f6ceb2431d88ba072865bb833b",
            "placeholder": "​",
            "style": "IPY_MODEL_ab3e4f9793c64b21b0fd785f1890a874",
            "value": "generation_config.json: 100%"
          }
        },
        "b0c5a1d3e48343aa88337462e541c0b6": {
          "model_module": "@jupyter-widgets/controls",
          "model_module_version": "1.5.0",
          "model_name": "ProgressStyleModel",
          "state": {
            "_model_module": "@jupyter-widgets/controls",
            "_model_module_version": "1.5.0",
            "_model_name": "ProgressStyleModel",
            "_view_count": null,
            "_view_module": "@jupyter-widgets/base",
            "_view_module_version": "1.2.0",
            "_view_name": "StyleView",
            "bar_color": null,
            "description_width": ""
          }
        },
        "b281da5f6c1a4be2b8f223e6fac90182": {
          "model_module": "@jupyter-widgets/controls",
          "model_module_version": "1.5.0",
          "model_name": "ProgressStyleModel",
          "state": {
            "_model_module": "@jupyter-widgets/controls",
            "_model_module_version": "1.5.0",
            "_model_name": "ProgressStyleModel",
            "_view_count": null,
            "_view_module": "@jupyter-widgets/base",
            "_view_module_version": "1.2.0",
            "_view_name": "StyleView",
            "bar_color": null,
            "description_width": ""
          }
        },
        "b3554b4e29aa42d9983b6cb9f86240d6": {
          "model_module": "@jupyter-widgets/base",
          "model_module_version": "1.2.0",
          "model_name": "LayoutModel",
          "state": {
            "_model_module": "@jupyter-widgets/base",
            "_model_module_version": "1.2.0",
            "_model_name": "LayoutModel",
            "_view_count": null,
            "_view_module": "@jupyter-widgets/base",
            "_view_module_version": "1.2.0",
            "_view_name": "LayoutView",
            "align_content": null,
            "align_items": null,
            "align_self": null,
            "border": null,
            "bottom": null,
            "display": null,
            "flex": null,
            "flex_flow": null,
            "grid_area": null,
            "grid_auto_columns": null,
            "grid_auto_flow": null,
            "grid_auto_rows": null,
            "grid_column": null,
            "grid_gap": null,
            "grid_row": null,
            "grid_template_areas": null,
            "grid_template_columns": null,
            "grid_template_rows": null,
            "height": null,
            "justify_content": null,
            "justify_items": null,
            "left": null,
            "margin": null,
            "max_height": null,
            "max_width": null,
            "min_height": null,
            "min_width": null,
            "object_fit": null,
            "object_position": null,
            "order": null,
            "overflow": null,
            "overflow_x": null,
            "overflow_y": null,
            "padding": null,
            "right": null,
            "top": null,
            "visibility": null,
            "width": null
          }
        },
        "b59dcbf6647549caa1c16316bccd6332": {
          "model_module": "@jupyter-widgets/base",
          "model_module_version": "1.2.0",
          "model_name": "LayoutModel",
          "state": {
            "_model_module": "@jupyter-widgets/base",
            "_model_module_version": "1.2.0",
            "_model_name": "LayoutModel",
            "_view_count": null,
            "_view_module": "@jupyter-widgets/base",
            "_view_module_version": "1.2.0",
            "_view_name": "LayoutView",
            "align_content": null,
            "align_items": null,
            "align_self": null,
            "border": null,
            "bottom": null,
            "display": null,
            "flex": null,
            "flex_flow": null,
            "grid_area": null,
            "grid_auto_columns": null,
            "grid_auto_flow": null,
            "grid_auto_rows": null,
            "grid_column": null,
            "grid_gap": null,
            "grid_row": null,
            "grid_template_areas": null,
            "grid_template_columns": null,
            "grid_template_rows": null,
            "height": null,
            "justify_content": null,
            "justify_items": null,
            "left": null,
            "margin": null,
            "max_height": null,
            "max_width": null,
            "min_height": null,
            "min_width": null,
            "object_fit": null,
            "object_position": null,
            "order": null,
            "overflow": null,
            "overflow_x": null,
            "overflow_y": null,
            "padding": null,
            "right": null,
            "top": null,
            "visibility": null,
            "width": null
          }
        },
        "b5be06d3c1144295ace3ee964b0d566d": {
          "model_module": "@jupyter-widgets/base",
          "model_module_version": "1.2.0",
          "model_name": "LayoutModel",
          "state": {
            "_model_module": "@jupyter-widgets/base",
            "_model_module_version": "1.2.0",
            "_model_name": "LayoutModel",
            "_view_count": null,
            "_view_module": "@jupyter-widgets/base",
            "_view_module_version": "1.2.0",
            "_view_name": "LayoutView",
            "align_content": null,
            "align_items": null,
            "align_self": null,
            "border": null,
            "bottom": null,
            "display": null,
            "flex": null,
            "flex_flow": null,
            "grid_area": null,
            "grid_auto_columns": null,
            "grid_auto_flow": null,
            "grid_auto_rows": null,
            "grid_column": null,
            "grid_gap": null,
            "grid_row": null,
            "grid_template_areas": null,
            "grid_template_columns": null,
            "grid_template_rows": null,
            "height": null,
            "justify_content": null,
            "justify_items": null,
            "left": null,
            "margin": null,
            "max_height": null,
            "max_width": null,
            "min_height": null,
            "min_width": null,
            "object_fit": null,
            "object_position": null,
            "order": null,
            "overflow": null,
            "overflow_x": null,
            "overflow_y": null,
            "padding": null,
            "right": null,
            "top": null,
            "visibility": null,
            "width": null
          }
        },
        "b5c625fb9266494c97140d4a90091619": {
          "model_module": "@jupyter-widgets/base",
          "model_module_version": "1.2.0",
          "model_name": "LayoutModel",
          "state": {
            "_model_module": "@jupyter-widgets/base",
            "_model_module_version": "1.2.0",
            "_model_name": "LayoutModel",
            "_view_count": null,
            "_view_module": "@jupyter-widgets/base",
            "_view_module_version": "1.2.0",
            "_view_name": "LayoutView",
            "align_content": null,
            "align_items": null,
            "align_self": null,
            "border": null,
            "bottom": null,
            "display": null,
            "flex": null,
            "flex_flow": null,
            "grid_area": null,
            "grid_auto_columns": null,
            "grid_auto_flow": null,
            "grid_auto_rows": null,
            "grid_column": null,
            "grid_gap": null,
            "grid_row": null,
            "grid_template_areas": null,
            "grid_template_columns": null,
            "grid_template_rows": null,
            "height": null,
            "justify_content": null,
            "justify_items": null,
            "left": null,
            "margin": null,
            "max_height": null,
            "max_width": null,
            "min_height": null,
            "min_width": null,
            "object_fit": null,
            "object_position": null,
            "order": null,
            "overflow": null,
            "overflow_x": null,
            "overflow_y": null,
            "padding": null,
            "right": null,
            "top": null,
            "visibility": null,
            "width": null
          }
        },
        "b6bb7fbdac2342d0b74ca2830efdc7b6": {
          "model_module": "@jupyter-widgets/base",
          "model_module_version": "1.2.0",
          "model_name": "LayoutModel",
          "state": {
            "_model_module": "@jupyter-widgets/base",
            "_model_module_version": "1.2.0",
            "_model_name": "LayoutModel",
            "_view_count": null,
            "_view_module": "@jupyter-widgets/base",
            "_view_module_version": "1.2.0",
            "_view_name": "LayoutView",
            "align_content": null,
            "align_items": null,
            "align_self": null,
            "border": null,
            "bottom": null,
            "display": null,
            "flex": null,
            "flex_flow": null,
            "grid_area": null,
            "grid_auto_columns": null,
            "grid_auto_flow": null,
            "grid_auto_rows": null,
            "grid_column": null,
            "grid_gap": null,
            "grid_row": null,
            "grid_template_areas": null,
            "grid_template_columns": null,
            "grid_template_rows": null,
            "height": null,
            "justify_content": null,
            "justify_items": null,
            "left": null,
            "margin": null,
            "max_height": null,
            "max_width": null,
            "min_height": null,
            "min_width": null,
            "object_fit": null,
            "object_position": null,
            "order": null,
            "overflow": null,
            "overflow_x": null,
            "overflow_y": null,
            "padding": null,
            "right": null,
            "top": null,
            "visibility": null,
            "width": null
          }
        },
        "b77aa8dcd48445f0be0347d09391cb65": {
          "model_module": "@jupyter-widgets/base",
          "model_module_version": "1.2.0",
          "model_name": "LayoutModel",
          "state": {
            "_model_module": "@jupyter-widgets/base",
            "_model_module_version": "1.2.0",
            "_model_name": "LayoutModel",
            "_view_count": null,
            "_view_module": "@jupyter-widgets/base",
            "_view_module_version": "1.2.0",
            "_view_name": "LayoutView",
            "align_content": null,
            "align_items": null,
            "align_self": null,
            "border": null,
            "bottom": null,
            "display": null,
            "flex": null,
            "flex_flow": null,
            "grid_area": null,
            "grid_auto_columns": null,
            "grid_auto_flow": null,
            "grid_auto_rows": null,
            "grid_column": null,
            "grid_gap": null,
            "grid_row": null,
            "grid_template_areas": null,
            "grid_template_columns": null,
            "grid_template_rows": null,
            "height": null,
            "justify_content": null,
            "justify_items": null,
            "left": null,
            "margin": null,
            "max_height": null,
            "max_width": null,
            "min_height": null,
            "min_width": null,
            "object_fit": null,
            "object_position": null,
            "order": null,
            "overflow": null,
            "overflow_x": null,
            "overflow_y": null,
            "padding": null,
            "right": null,
            "top": null,
            "visibility": null,
            "width": null
          }
        },
        "b7cae5043dad40f7a5986fc4811f4eba": {
          "model_module": "@jupyter-widgets/base",
          "model_module_version": "1.2.0",
          "model_name": "LayoutModel",
          "state": {
            "_model_module": "@jupyter-widgets/base",
            "_model_module_version": "1.2.0",
            "_model_name": "LayoutModel",
            "_view_count": null,
            "_view_module": "@jupyter-widgets/base",
            "_view_module_version": "1.2.0",
            "_view_name": "LayoutView",
            "align_content": null,
            "align_items": null,
            "align_self": null,
            "border": null,
            "bottom": null,
            "display": null,
            "flex": null,
            "flex_flow": null,
            "grid_area": null,
            "grid_auto_columns": null,
            "grid_auto_flow": null,
            "grid_auto_rows": null,
            "grid_column": null,
            "grid_gap": null,
            "grid_row": null,
            "grid_template_areas": null,
            "grid_template_columns": null,
            "grid_template_rows": null,
            "height": null,
            "justify_content": null,
            "justify_items": null,
            "left": null,
            "margin": null,
            "max_height": null,
            "max_width": null,
            "min_height": null,
            "min_width": null,
            "object_fit": null,
            "object_position": null,
            "order": null,
            "overflow": null,
            "overflow_x": null,
            "overflow_y": null,
            "padding": null,
            "right": null,
            "top": null,
            "visibility": null,
            "width": null
          }
        },
        "b9683c3db7984f1099a8e988f76c68f3": {
          "model_module": "@jupyter-widgets/controls",
          "model_module_version": "1.5.0",
          "model_name": "DescriptionStyleModel",
          "state": {
            "_model_module": "@jupyter-widgets/controls",
            "_model_module_version": "1.5.0",
            "_model_name": "DescriptionStyleModel",
            "_view_count": null,
            "_view_module": "@jupyter-widgets/base",
            "_view_module_version": "1.2.0",
            "_view_name": "StyleView",
            "description_width": ""
          }
        },
        "ba2d9627b25a41b493161c273160fc60": {
          "model_module": "@jupyter-widgets/base",
          "model_module_version": "1.2.0",
          "model_name": "LayoutModel",
          "state": {
            "_model_module": "@jupyter-widgets/base",
            "_model_module_version": "1.2.0",
            "_model_name": "LayoutModel",
            "_view_count": null,
            "_view_module": "@jupyter-widgets/base",
            "_view_module_version": "1.2.0",
            "_view_name": "LayoutView",
            "align_content": null,
            "align_items": null,
            "align_self": null,
            "border": null,
            "bottom": null,
            "display": null,
            "flex": null,
            "flex_flow": null,
            "grid_area": null,
            "grid_auto_columns": null,
            "grid_auto_flow": null,
            "grid_auto_rows": null,
            "grid_column": null,
            "grid_gap": null,
            "grid_row": null,
            "grid_template_areas": null,
            "grid_template_columns": null,
            "grid_template_rows": null,
            "height": null,
            "justify_content": null,
            "justify_items": null,
            "left": null,
            "margin": null,
            "max_height": null,
            "max_width": null,
            "min_height": null,
            "min_width": null,
            "object_fit": null,
            "object_position": null,
            "order": null,
            "overflow": null,
            "overflow_x": null,
            "overflow_y": null,
            "padding": null,
            "right": null,
            "top": null,
            "visibility": null,
            "width": null
          }
        },
        "bbead9e0933c46ada7ed7c8af8dc95d6": {
          "model_module": "@jupyter-widgets/base",
          "model_module_version": "1.2.0",
          "model_name": "LayoutModel",
          "state": {
            "_model_module": "@jupyter-widgets/base",
            "_model_module_version": "1.2.0",
            "_model_name": "LayoutModel",
            "_view_count": null,
            "_view_module": "@jupyter-widgets/base",
            "_view_module_version": "1.2.0",
            "_view_name": "LayoutView",
            "align_content": null,
            "align_items": null,
            "align_self": null,
            "border": null,
            "bottom": null,
            "display": null,
            "flex": null,
            "flex_flow": null,
            "grid_area": null,
            "grid_auto_columns": null,
            "grid_auto_flow": null,
            "grid_auto_rows": null,
            "grid_column": null,
            "grid_gap": null,
            "grid_row": null,
            "grid_template_areas": null,
            "grid_template_columns": null,
            "grid_template_rows": null,
            "height": null,
            "justify_content": null,
            "justify_items": null,
            "left": null,
            "margin": null,
            "max_height": null,
            "max_width": null,
            "min_height": null,
            "min_width": null,
            "object_fit": null,
            "object_position": null,
            "order": null,
            "overflow": null,
            "overflow_x": null,
            "overflow_y": null,
            "padding": null,
            "right": null,
            "top": null,
            "visibility": null,
            "width": null
          }
        },
        "bcb16ac866124dab8ed231a57cfab5be": {
          "model_module": "@jupyter-widgets/base",
          "model_module_version": "1.2.0",
          "model_name": "LayoutModel",
          "state": {
            "_model_module": "@jupyter-widgets/base",
            "_model_module_version": "1.2.0",
            "_model_name": "LayoutModel",
            "_view_count": null,
            "_view_module": "@jupyter-widgets/base",
            "_view_module_version": "1.2.0",
            "_view_name": "LayoutView",
            "align_content": null,
            "align_items": null,
            "align_self": null,
            "border": null,
            "bottom": null,
            "display": null,
            "flex": null,
            "flex_flow": null,
            "grid_area": null,
            "grid_auto_columns": null,
            "grid_auto_flow": null,
            "grid_auto_rows": null,
            "grid_column": null,
            "grid_gap": null,
            "grid_row": null,
            "grid_template_areas": null,
            "grid_template_columns": null,
            "grid_template_rows": null,
            "height": null,
            "justify_content": null,
            "justify_items": null,
            "left": null,
            "margin": null,
            "max_height": null,
            "max_width": null,
            "min_height": null,
            "min_width": null,
            "object_fit": null,
            "object_position": null,
            "order": null,
            "overflow": null,
            "overflow_x": null,
            "overflow_y": null,
            "padding": null,
            "right": null,
            "top": null,
            "visibility": null,
            "width": null
          }
        },
        "bcba2817a3ed4c69988b5d03ec40fe0d": {
          "model_module": "@jupyter-widgets/controls",
          "model_module_version": "1.5.0",
          "model_name": "HBoxModel",
          "state": {
            "_dom_classes": [],
            "_model_module": "@jupyter-widgets/controls",
            "_model_module_version": "1.5.0",
            "_model_name": "HBoxModel",
            "_view_count": null,
            "_view_module": "@jupyter-widgets/controls",
            "_view_module_version": "1.5.0",
            "_view_name": "HBoxView",
            "box_style": "",
            "children": [
              "IPY_MODEL_05d577e85ccc4fc1a80051c682e35332",
              "IPY_MODEL_8f6ec2b8f2884905b59ce8ec98a4a4d9",
              "IPY_MODEL_677ece14e3fa4745942da68b7869295b"
            ],
            "layout": "IPY_MODEL_a28e6a91a7f04db39f434bbe2eabeb59"
          }
        },
        "be07ce282aad4887b317395c445ec97b": {
          "model_module": "@jupyter-widgets/controls",
          "model_module_version": "1.5.0",
          "model_name": "DescriptionStyleModel",
          "state": {
            "_model_module": "@jupyter-widgets/controls",
            "_model_module_version": "1.5.0",
            "_model_name": "DescriptionStyleModel",
            "_view_count": null,
            "_view_module": "@jupyter-widgets/base",
            "_view_module_version": "1.2.0",
            "_view_name": "StyleView",
            "description_width": ""
          }
        },
        "c229e256c0e941138d0e739121e72489": {
          "model_module": "@jupyter-widgets/controls",
          "model_module_version": "1.5.0",
          "model_name": "DescriptionStyleModel",
          "state": {
            "_model_module": "@jupyter-widgets/controls",
            "_model_module_version": "1.5.0",
            "_model_name": "DescriptionStyleModel",
            "_view_count": null,
            "_view_module": "@jupyter-widgets/base",
            "_view_module_version": "1.2.0",
            "_view_name": "StyleView",
            "description_width": ""
          }
        },
        "c274e97b1a2748bdb3bdab18d585e2d3": {
          "model_module": "@jupyter-widgets/base",
          "model_module_version": "1.2.0",
          "model_name": "LayoutModel",
          "state": {
            "_model_module": "@jupyter-widgets/base",
            "_model_module_version": "1.2.0",
            "_model_name": "LayoutModel",
            "_view_count": null,
            "_view_module": "@jupyter-widgets/base",
            "_view_module_version": "1.2.0",
            "_view_name": "LayoutView",
            "align_content": null,
            "align_items": null,
            "align_self": null,
            "border": null,
            "bottom": null,
            "display": null,
            "flex": null,
            "flex_flow": null,
            "grid_area": null,
            "grid_auto_columns": null,
            "grid_auto_flow": null,
            "grid_auto_rows": null,
            "grid_column": null,
            "grid_gap": null,
            "grid_row": null,
            "grid_template_areas": null,
            "grid_template_columns": null,
            "grid_template_rows": null,
            "height": null,
            "justify_content": null,
            "justify_items": null,
            "left": null,
            "margin": null,
            "max_height": null,
            "max_width": null,
            "min_height": null,
            "min_width": null,
            "object_fit": null,
            "object_position": null,
            "order": null,
            "overflow": null,
            "overflow_x": null,
            "overflow_y": null,
            "padding": null,
            "right": null,
            "top": null,
            "visibility": null,
            "width": null
          }
        },
        "c57ba30b81534285b3af955775635000": {
          "model_module": "@jupyter-widgets/controls",
          "model_module_version": "1.5.0",
          "model_name": "DescriptionStyleModel",
          "state": {
            "_model_module": "@jupyter-widgets/controls",
            "_model_module_version": "1.5.0",
            "_model_name": "DescriptionStyleModel",
            "_view_count": null,
            "_view_module": "@jupyter-widgets/base",
            "_view_module_version": "1.2.0",
            "_view_name": "StyleView",
            "description_width": ""
          }
        },
        "c60ae3678a104d928df62f46b056a217": {
          "model_module": "@jupyter-widgets/controls",
          "model_module_version": "1.5.0",
          "model_name": "ProgressStyleModel",
          "state": {
            "_model_module": "@jupyter-widgets/controls",
            "_model_module_version": "1.5.0",
            "_model_name": "ProgressStyleModel",
            "_view_count": null,
            "_view_module": "@jupyter-widgets/base",
            "_view_module_version": "1.2.0",
            "_view_name": "StyleView",
            "bar_color": null,
            "description_width": ""
          }
        },
        "c66e2c1addf54c5c828dd20ed863f516": {
          "model_module": "@jupyter-widgets/controls",
          "model_module_version": "1.5.0",
          "model_name": "HTMLModel",
          "state": {
            "_dom_classes": [],
            "_model_module": "@jupyter-widgets/controls",
            "_model_module_version": "1.5.0",
            "_model_name": "HTMLModel",
            "_view_count": null,
            "_view_module": "@jupyter-widgets/controls",
            "_view_module_version": "1.5.0",
            "_view_name": "HTMLView",
            "description": "",
            "description_tooltip": null,
            "layout": "IPY_MODEL_a9ae39bf9f944362a01930f9265f5481",
            "placeholder": "​",
            "style": "IPY_MODEL_95c50bf58a4e4c848cd0862f3acd85dc",
            "value": " 493k/493k [00:00&lt;00:00, 9.15MB/s]"
          }
        },
        "c6f93b74362e41c8804c0c59d11d1d16": {
          "model_module": "@jupyter-widgets/controls",
          "model_module_version": "1.5.0",
          "model_name": "ProgressStyleModel",
          "state": {
            "_model_module": "@jupyter-widgets/controls",
            "_model_module_version": "1.5.0",
            "_model_name": "ProgressStyleModel",
            "_view_count": null,
            "_view_module": "@jupyter-widgets/base",
            "_view_module_version": "1.2.0",
            "_view_name": "StyleView",
            "bar_color": null,
            "description_width": ""
          }
        },
        "c7840dea8b0a4cedacc0110040f9bac9": {
          "model_module": "@jupyter-widgets/base",
          "model_module_version": "1.2.0",
          "model_name": "LayoutModel",
          "state": {
            "_model_module": "@jupyter-widgets/base",
            "_model_module_version": "1.2.0",
            "_model_name": "LayoutModel",
            "_view_count": null,
            "_view_module": "@jupyter-widgets/base",
            "_view_module_version": "1.2.0",
            "_view_name": "LayoutView",
            "align_content": null,
            "align_items": null,
            "align_self": null,
            "border": null,
            "bottom": null,
            "display": null,
            "flex": null,
            "flex_flow": null,
            "grid_area": null,
            "grid_auto_columns": null,
            "grid_auto_flow": null,
            "grid_auto_rows": null,
            "grid_column": null,
            "grid_gap": null,
            "grid_row": null,
            "grid_template_areas": null,
            "grid_template_columns": null,
            "grid_template_rows": null,
            "height": null,
            "justify_content": null,
            "justify_items": null,
            "left": null,
            "margin": null,
            "max_height": null,
            "max_width": null,
            "min_height": null,
            "min_width": null,
            "object_fit": null,
            "object_position": null,
            "order": null,
            "overflow": null,
            "overflow_x": null,
            "overflow_y": null,
            "padding": null,
            "right": null,
            "top": null,
            "visibility": null,
            "width": null
          }
        },
        "c8b18a857ca94e218fc10e2775f804e9": {
          "model_module": "@jupyter-widgets/controls",
          "model_module_version": "1.5.0",
          "model_name": "FloatProgressModel",
          "state": {
            "_dom_classes": [],
            "_model_module": "@jupyter-widgets/controls",
            "_model_module_version": "1.5.0",
            "_model_name": "FloatProgressModel",
            "_view_count": null,
            "_view_module": "@jupyter-widgets/controls",
            "_view_module_version": "1.5.0",
            "_view_name": "ProgressView",
            "bar_style": "success",
            "description": "",
            "description_tooltip": null,
            "layout": "IPY_MODEL_b59dcbf6647549caa1c16316bccd6332",
            "max": 9942981696,
            "min": 0,
            "orientation": "horizontal",
            "style": "IPY_MODEL_9d9ba21c0b6f49518999d7b30d96cafd",
            "value": 9942981696
          }
        },
        "c8c3e6f450b047fca6a134cc1cda5ac4": {
          "model_module": "@jupyter-widgets/controls",
          "model_module_version": "1.5.0",
          "model_name": "ProgressStyleModel",
          "state": {
            "_model_module": "@jupyter-widgets/controls",
            "_model_module_version": "1.5.0",
            "_model_name": "ProgressStyleModel",
            "_view_count": null,
            "_view_module": "@jupyter-widgets/base",
            "_view_module_version": "1.2.0",
            "_view_name": "StyleView",
            "bar_color": null,
            "description_width": ""
          }
        },
        "c9608370c9994fdd977ae5c0cc87a0e1": {
          "model_module": "@jupyter-widgets/controls",
          "model_module_version": "1.5.0",
          "model_name": "HTMLModel",
          "state": {
            "_dom_classes": [],
            "_model_module": "@jupyter-widgets/controls",
            "_model_module_version": "1.5.0",
            "_model_name": "HTMLModel",
            "_view_count": null,
            "_view_module": "@jupyter-widgets/controls",
            "_view_module_version": "1.5.0",
            "_view_name": "HTMLView",
            "description": "",
            "description_tooltip": null,
            "layout": "IPY_MODEL_e483a010113d46f9957b01516e16cc5b",
            "placeholder": "​",
            "style": "IPY_MODEL_95154feb98ca4f9cbb30deba278d9671",
            "value": " 324/324 [00:00&lt;00:00, 677.76 examples/s]"
          }
        },
        "c96e28ba884f4444a63f06747df73a92": {
          "model_module": "@jupyter-widgets/controls",
          "model_module_version": "1.5.0",
          "model_name": "HBoxModel",
          "state": {
            "_dom_classes": [],
            "_model_module": "@jupyter-widgets/controls",
            "_model_module_version": "1.5.0",
            "_model_name": "HBoxModel",
            "_view_count": null,
            "_view_module": "@jupyter-widgets/controls",
            "_view_module_version": "1.5.0",
            "_view_name": "HBoxView",
            "box_style": "",
            "children": [
              "IPY_MODEL_9b8e96e5a2fb4846babb4f2a324e14c7",
              "IPY_MODEL_3d502320c81f4d9494180138e048b664",
              "IPY_MODEL_5395c12f1efe42d6a45b19953756c2db"
            ],
            "layout": "IPY_MODEL_ba2d9627b25a41b493161c273160fc60"
          }
        },
        "c9775ab1cf714c13819ec9b40d13ad5c": {
          "model_module": "@jupyter-widgets/base",
          "model_module_version": "1.2.0",
          "model_name": "LayoutModel",
          "state": {
            "_model_module": "@jupyter-widgets/base",
            "_model_module_version": "1.2.0",
            "_model_name": "LayoutModel",
            "_view_count": null,
            "_view_module": "@jupyter-widgets/base",
            "_view_module_version": "1.2.0",
            "_view_name": "LayoutView",
            "align_content": null,
            "align_items": null,
            "align_self": null,
            "border": null,
            "bottom": null,
            "display": null,
            "flex": null,
            "flex_flow": null,
            "grid_area": null,
            "grid_auto_columns": null,
            "grid_auto_flow": null,
            "grid_auto_rows": null,
            "grid_column": null,
            "grid_gap": null,
            "grid_row": null,
            "grid_template_areas": null,
            "grid_template_columns": null,
            "grid_template_rows": null,
            "height": null,
            "justify_content": null,
            "justify_items": null,
            "left": null,
            "margin": null,
            "max_height": null,
            "max_width": null,
            "min_height": null,
            "min_width": null,
            "object_fit": null,
            "object_position": null,
            "order": null,
            "overflow": null,
            "overflow_x": null,
            "overflow_y": null,
            "padding": null,
            "right": null,
            "top": null,
            "visibility": null,
            "width": null
          }
        },
        "ca23d58e5c9549539dd0f52a95ebb43e": {
          "model_module": "@jupyter-widgets/base",
          "model_module_version": "1.2.0",
          "model_name": "LayoutModel",
          "state": {
            "_model_module": "@jupyter-widgets/base",
            "_model_module_version": "1.2.0",
            "_model_name": "LayoutModel",
            "_view_count": null,
            "_view_module": "@jupyter-widgets/base",
            "_view_module_version": "1.2.0",
            "_view_name": "LayoutView",
            "align_content": null,
            "align_items": null,
            "align_self": null,
            "border": null,
            "bottom": null,
            "display": null,
            "flex": null,
            "flex_flow": null,
            "grid_area": null,
            "grid_auto_columns": null,
            "grid_auto_flow": null,
            "grid_auto_rows": null,
            "grid_column": null,
            "grid_gap": null,
            "grid_row": null,
            "grid_template_areas": null,
            "grid_template_columns": null,
            "grid_template_rows": null,
            "height": null,
            "justify_content": null,
            "justify_items": null,
            "left": null,
            "margin": null,
            "max_height": null,
            "max_width": null,
            "min_height": null,
            "min_width": null,
            "object_fit": null,
            "object_position": null,
            "order": null,
            "overflow": null,
            "overflow_x": null,
            "overflow_y": null,
            "padding": null,
            "right": null,
            "top": null,
            "visibility": null,
            "width": null
          }
        },
        "ca268020842242a39f6ae55f58d33a53": {
          "model_module": "@jupyter-widgets/controls",
          "model_module_version": "1.5.0",
          "model_name": "ProgressStyleModel",
          "state": {
            "_model_module": "@jupyter-widgets/controls",
            "_model_module_version": "1.5.0",
            "_model_name": "ProgressStyleModel",
            "_view_count": null,
            "_view_module": "@jupyter-widgets/base",
            "_view_module_version": "1.2.0",
            "_view_name": "StyleView",
            "bar_color": null,
            "description_width": ""
          }
        },
        "caa2c87d3b2744a292143475388b4fb8": {
          "model_module": "@jupyter-widgets/controls",
          "model_module_version": "1.5.0",
          "model_name": "HBoxModel",
          "state": {
            "_dom_classes": [],
            "_model_module": "@jupyter-widgets/controls",
            "_model_module_version": "1.5.0",
            "_model_name": "HBoxModel",
            "_view_count": null,
            "_view_module": "@jupyter-widgets/controls",
            "_view_module_version": "1.5.0",
            "_view_name": "HBoxView",
            "box_style": "",
            "children": [
              "IPY_MODEL_424608282aaf46c69787b5646e526dff",
              "IPY_MODEL_745b65b6d7c94dd190ca764a9185ce18",
              "IPY_MODEL_f6f6ae2dd64b432084a9c9448390dc14"
            ],
            "layout": "IPY_MODEL_31f10c00837a480d836946df154185c9"
          }
        },
        "cba999f6ceb2431d88ba072865bb833b": {
          "model_module": "@jupyter-widgets/base",
          "model_module_version": "1.2.0",
          "model_name": "LayoutModel",
          "state": {
            "_model_module": "@jupyter-widgets/base",
            "_model_module_version": "1.2.0",
            "_model_name": "LayoutModel",
            "_view_count": null,
            "_view_module": "@jupyter-widgets/base",
            "_view_module_version": "1.2.0",
            "_view_name": "LayoutView",
            "align_content": null,
            "align_items": null,
            "align_self": null,
            "border": null,
            "bottom": null,
            "display": null,
            "flex": null,
            "flex_flow": null,
            "grid_area": null,
            "grid_auto_columns": null,
            "grid_auto_flow": null,
            "grid_auto_rows": null,
            "grid_column": null,
            "grid_gap": null,
            "grid_row": null,
            "grid_template_areas": null,
            "grid_template_columns": null,
            "grid_template_rows": null,
            "height": null,
            "justify_content": null,
            "justify_items": null,
            "left": null,
            "margin": null,
            "max_height": null,
            "max_width": null,
            "min_height": null,
            "min_width": null,
            "object_fit": null,
            "object_position": null,
            "order": null,
            "overflow": null,
            "overflow_x": null,
            "overflow_y": null,
            "padding": null,
            "right": null,
            "top": null,
            "visibility": null,
            "width": null
          }
        },
        "cc06344e771a4b0f8c2f84b76c2eda84": {
          "model_module": "@jupyter-widgets/base",
          "model_module_version": "1.2.0",
          "model_name": "LayoutModel",
          "state": {
            "_model_module": "@jupyter-widgets/base",
            "_model_module_version": "1.2.0",
            "_model_name": "LayoutModel",
            "_view_count": null,
            "_view_module": "@jupyter-widgets/base",
            "_view_module_version": "1.2.0",
            "_view_name": "LayoutView",
            "align_content": null,
            "align_items": null,
            "align_self": null,
            "border": null,
            "bottom": null,
            "display": null,
            "flex": null,
            "flex_flow": null,
            "grid_area": null,
            "grid_auto_columns": null,
            "grid_auto_flow": null,
            "grid_auto_rows": null,
            "grid_column": null,
            "grid_gap": null,
            "grid_row": null,
            "grid_template_areas": null,
            "grid_template_columns": null,
            "grid_template_rows": null,
            "height": null,
            "justify_content": null,
            "justify_items": null,
            "left": null,
            "margin": null,
            "max_height": null,
            "max_width": null,
            "min_height": null,
            "min_width": null,
            "object_fit": null,
            "object_position": null,
            "order": null,
            "overflow": null,
            "overflow_x": null,
            "overflow_y": null,
            "padding": null,
            "right": null,
            "top": null,
            "visibility": null,
            "width": null
          }
        },
        "cc2eccdc26eb48559fafc21464bb4c05": {
          "model_module": "@jupyter-widgets/controls",
          "model_module_version": "1.5.0",
          "model_name": "DescriptionStyleModel",
          "state": {
            "_model_module": "@jupyter-widgets/controls",
            "_model_module_version": "1.5.0",
            "_model_name": "DescriptionStyleModel",
            "_view_count": null,
            "_view_module": "@jupyter-widgets/base",
            "_view_module_version": "1.2.0",
            "_view_name": "StyleView",
            "description_width": ""
          }
        },
        "cd5683a8371546d08ba5434c7a49d58a": {
          "model_module": "@jupyter-widgets/base",
          "model_module_version": "1.2.0",
          "model_name": "LayoutModel",
          "state": {
            "_model_module": "@jupyter-widgets/base",
            "_model_module_version": "1.2.0",
            "_model_name": "LayoutModel",
            "_view_count": null,
            "_view_module": "@jupyter-widgets/base",
            "_view_module_version": "1.2.0",
            "_view_name": "LayoutView",
            "align_content": null,
            "align_items": null,
            "align_self": null,
            "border": null,
            "bottom": null,
            "display": null,
            "flex": null,
            "flex_flow": null,
            "grid_area": null,
            "grid_auto_columns": null,
            "grid_auto_flow": null,
            "grid_auto_rows": null,
            "grid_column": null,
            "grid_gap": null,
            "grid_row": null,
            "grid_template_areas": null,
            "grid_template_columns": null,
            "grid_template_rows": null,
            "height": null,
            "justify_content": null,
            "justify_items": null,
            "left": null,
            "margin": null,
            "max_height": null,
            "max_width": null,
            "min_height": null,
            "min_width": null,
            "object_fit": null,
            "object_position": null,
            "order": null,
            "overflow": null,
            "overflow_x": null,
            "overflow_y": null,
            "padding": null,
            "right": null,
            "top": null,
            "visibility": null,
            "width": null
          }
        },
        "cf9521d43a784c32a72fe56ba6147d1f": {
          "model_module": "@jupyter-widgets/controls",
          "model_module_version": "1.5.0",
          "model_name": "FloatProgressModel",
          "state": {
            "_dom_classes": [],
            "_model_module": "@jupyter-widgets/controls",
            "_model_module_version": "1.5.0",
            "_model_name": "FloatProgressModel",
            "_view_count": null,
            "_view_module": "@jupyter-widgets/controls",
            "_view_module_version": "1.5.0",
            "_view_name": "ProgressView",
            "bar_style": "success",
            "description": "",
            "description_tooltip": null,
            "layout": "IPY_MODEL_b77aa8dcd48445f0be0347d09391cb65",
            "max": 493443,
            "min": 0,
            "orientation": "horizontal",
            "style": "IPY_MODEL_34a2aa518eb44ca1bc6f543b585f1e3b",
            "value": 493443
          }
        },
        "d2d4530ca36e439688fcdfcd9e2335dd": {
          "model_module": "@jupyter-widgets/base",
          "model_module_version": "1.2.0",
          "model_name": "LayoutModel",
          "state": {
            "_model_module": "@jupyter-widgets/base",
            "_model_module_version": "1.2.0",
            "_model_name": "LayoutModel",
            "_view_count": null,
            "_view_module": "@jupyter-widgets/base",
            "_view_module_version": "1.2.0",
            "_view_name": "LayoutView",
            "align_content": null,
            "align_items": null,
            "align_self": null,
            "border": null,
            "bottom": null,
            "display": null,
            "flex": null,
            "flex_flow": null,
            "grid_area": null,
            "grid_auto_columns": null,
            "grid_auto_flow": null,
            "grid_auto_rows": null,
            "grid_column": null,
            "grid_gap": null,
            "grid_row": null,
            "grid_template_areas": null,
            "grid_template_columns": null,
            "grid_template_rows": null,
            "height": null,
            "justify_content": null,
            "justify_items": null,
            "left": null,
            "margin": null,
            "max_height": null,
            "max_width": null,
            "min_height": null,
            "min_width": null,
            "object_fit": null,
            "object_position": null,
            "order": null,
            "overflow": null,
            "overflow_x": null,
            "overflow_y": null,
            "padding": null,
            "right": null,
            "top": null,
            "visibility": null,
            "width": null
          }
        },
        "d344098091b445d6b1a263e3ea66a54c": {
          "model_module": "@jupyter-widgets/base",
          "model_module_version": "1.2.0",
          "model_name": "LayoutModel",
          "state": {
            "_model_module": "@jupyter-widgets/base",
            "_model_module_version": "1.2.0",
            "_model_name": "LayoutModel",
            "_view_count": null,
            "_view_module": "@jupyter-widgets/base",
            "_view_module_version": "1.2.0",
            "_view_name": "LayoutView",
            "align_content": null,
            "align_items": null,
            "align_self": null,
            "border": null,
            "bottom": null,
            "display": null,
            "flex": null,
            "flex_flow": null,
            "grid_area": null,
            "grid_auto_columns": null,
            "grid_auto_flow": null,
            "grid_auto_rows": null,
            "grid_column": null,
            "grid_gap": null,
            "grid_row": null,
            "grid_template_areas": null,
            "grid_template_columns": null,
            "grid_template_rows": null,
            "height": null,
            "justify_content": null,
            "justify_items": null,
            "left": null,
            "margin": null,
            "max_height": null,
            "max_width": null,
            "min_height": null,
            "min_width": null,
            "object_fit": null,
            "object_position": null,
            "order": null,
            "overflow": null,
            "overflow_x": null,
            "overflow_y": null,
            "padding": null,
            "right": null,
            "top": null,
            "visibility": null,
            "width": null
          }
        },
        "d7a3f2e28b5644ea9e9327abe5876d1a": {
          "model_module": "@jupyter-widgets/base",
          "model_module_version": "1.2.0",
          "model_name": "LayoutModel",
          "state": {
            "_model_module": "@jupyter-widgets/base",
            "_model_module_version": "1.2.0",
            "_model_name": "LayoutModel",
            "_view_count": null,
            "_view_module": "@jupyter-widgets/base",
            "_view_module_version": "1.2.0",
            "_view_name": "LayoutView",
            "align_content": null,
            "align_items": null,
            "align_self": null,
            "border": null,
            "bottom": null,
            "display": null,
            "flex": null,
            "flex_flow": null,
            "grid_area": null,
            "grid_auto_columns": null,
            "grid_auto_flow": null,
            "grid_auto_rows": null,
            "grid_column": null,
            "grid_gap": null,
            "grid_row": null,
            "grid_template_areas": null,
            "grid_template_columns": null,
            "grid_template_rows": null,
            "height": null,
            "justify_content": null,
            "justify_items": null,
            "left": null,
            "margin": null,
            "max_height": null,
            "max_width": null,
            "min_height": null,
            "min_width": null,
            "object_fit": null,
            "object_position": null,
            "order": null,
            "overflow": null,
            "overflow_x": null,
            "overflow_y": null,
            "padding": null,
            "right": null,
            "top": null,
            "visibility": null,
            "width": null
          }
        },
        "d7c30f902b5f4c6ba049815d4f73d3b6": {
          "model_module": "@jupyter-widgets/controls",
          "model_module_version": "1.5.0",
          "model_name": "FloatProgressModel",
          "state": {
            "_dom_classes": [],
            "_model_module": "@jupyter-widgets/controls",
            "_model_module_version": "1.5.0",
            "_model_name": "FloatProgressModel",
            "_view_count": null,
            "_view_module": "@jupyter-widgets/controls",
            "_view_module_version": "1.5.0",
            "_view_name": "ProgressView",
            "bar_style": "success",
            "description": "",
            "description_tooltip": null,
            "layout": "IPY_MODEL_92c925d808bd48229b5ecefdf2755350",
            "max": 571,
            "min": 0,
            "orientation": "horizontal",
            "style": "IPY_MODEL_c8c3e6f450b047fca6a134cc1cda5ac4",
            "value": 571
          }
        },
        "da147ebf9d0f4cf4aa65d8f167d22e46": {
          "model_module": "@jupyter-widgets/base",
          "model_module_version": "1.2.0",
          "model_name": "LayoutModel",
          "state": {
            "_model_module": "@jupyter-widgets/base",
            "_model_module_version": "1.2.0",
            "_model_name": "LayoutModel",
            "_view_count": null,
            "_view_module": "@jupyter-widgets/base",
            "_view_module_version": "1.2.0",
            "_view_name": "LayoutView",
            "align_content": null,
            "align_items": null,
            "align_self": null,
            "border": null,
            "bottom": null,
            "display": null,
            "flex": null,
            "flex_flow": null,
            "grid_area": null,
            "grid_auto_columns": null,
            "grid_auto_flow": null,
            "grid_auto_rows": null,
            "grid_column": null,
            "grid_gap": null,
            "grid_row": null,
            "grid_template_areas": null,
            "grid_template_columns": null,
            "grid_template_rows": null,
            "height": null,
            "justify_content": null,
            "justify_items": null,
            "left": null,
            "margin": null,
            "max_height": null,
            "max_width": null,
            "min_height": null,
            "min_width": null,
            "object_fit": null,
            "object_position": null,
            "order": null,
            "overflow": null,
            "overflow_x": null,
            "overflow_y": null,
            "padding": null,
            "right": null,
            "top": null,
            "visibility": null,
            "width": null
          }
        },
        "db64cf7f75214ab3bbe44c95d3ad18db": {
          "model_module": "@jupyter-widgets/controls",
          "model_module_version": "1.5.0",
          "model_name": "DescriptionStyleModel",
          "state": {
            "_model_module": "@jupyter-widgets/controls",
            "_model_module_version": "1.5.0",
            "_model_name": "DescriptionStyleModel",
            "_view_count": null,
            "_view_module": "@jupyter-widgets/base",
            "_view_module_version": "1.2.0",
            "_view_name": "StyleView",
            "description_width": ""
          }
        },
        "dda61e7cee0c4e71bd5e667e177fb121": {
          "model_module": "@jupyter-widgets/controls",
          "model_module_version": "1.5.0",
          "model_name": "HTMLModel",
          "state": {
            "_dom_classes": [],
            "_model_module": "@jupyter-widgets/controls",
            "_model_module_version": "1.5.0",
            "_model_name": "HTMLModel",
            "_view_count": null,
            "_view_module": "@jupyter-widgets/controls",
            "_view_module_version": "1.5.0",
            "_view_name": "HTMLView",
            "description": "",
            "description_tooltip": null,
            "layout": "IPY_MODEL_e87493a5fd3c42cf8536d512df9992d7",
            "placeholder": "​",
            "style": "IPY_MODEL_0499b20ded8e42b08c34f8f46f62a0e1",
            "value": " 0/2 [00:00&lt;?, ?it/s]"
          }
        },
        "ddc7ee86d5cd4c3a9dfb0138bd4d65c2": {
          "model_module": "@jupyter-widgets/controls",
          "model_module_version": "1.5.0",
          "model_name": "DescriptionStyleModel",
          "state": {
            "_model_module": "@jupyter-widgets/controls",
            "_model_module_version": "1.5.0",
            "_model_name": "DescriptionStyleModel",
            "_view_count": null,
            "_view_module": "@jupyter-widgets/base",
            "_view_module_version": "1.2.0",
            "_view_name": "StyleView",
            "description_width": ""
          }
        },
        "de1d91ef2b9344ffa7e44a0cc25daa9f": {
          "model_module": "@jupyter-widgets/controls",
          "model_module_version": "1.5.0",
          "model_name": "DescriptionStyleModel",
          "state": {
            "_model_module": "@jupyter-widgets/controls",
            "_model_module_version": "1.5.0",
            "_model_name": "DescriptionStyleModel",
            "_view_count": null,
            "_view_module": "@jupyter-widgets/base",
            "_view_module_version": "1.2.0",
            "_view_name": "StyleView",
            "description_width": ""
          }
        },
        "df61c4226b804ec89ebb48443b8932c2": {
          "model_module": "@jupyter-widgets/controls",
          "model_module_version": "1.5.0",
          "model_name": "FloatProgressModel",
          "state": {
            "_dom_classes": [],
            "_model_module": "@jupyter-widgets/controls",
            "_model_module_version": "1.5.0",
            "_model_name": "FloatProgressModel",
            "_view_count": null,
            "_view_module": "@jupyter-widgets/controls",
            "_view_module_version": "1.5.0",
            "_view_name": "ProgressView",
            "bar_style": "success",
            "description": "",
            "description_tooltip": null,
            "layout": "IPY_MODEL_58a227140a884f3c9453cf9f25134321",
            "max": 1,
            "min": 0,
            "orientation": "horizontal",
            "style": "IPY_MODEL_b0c5a1d3e48343aa88337462e541c0b6",
            "value": 1
          }
        },
        "dff7d7d21ab740d6b043c6a4c9146a33": {
          "model_module": "@jupyter-widgets/controls",
          "model_module_version": "1.5.0",
          "model_name": "DescriptionStyleModel",
          "state": {
            "_model_module": "@jupyter-widgets/controls",
            "_model_module_version": "1.5.0",
            "_model_name": "DescriptionStyleModel",
            "_view_count": null,
            "_view_module": "@jupyter-widgets/base",
            "_view_module_version": "1.2.0",
            "_view_name": "StyleView",
            "description_width": ""
          }
        },
        "e201c11258a449658c79e4290dd4328a": {
          "model_module": "@jupyter-widgets/controls",
          "model_module_version": "1.5.0",
          "model_name": "HTMLModel",
          "state": {
            "_dom_classes": [],
            "_model_module": "@jupyter-widgets/controls",
            "_model_module_version": "1.5.0",
            "_model_name": "HTMLModel",
            "_view_count": null,
            "_view_module": "@jupyter-widgets/controls",
            "_view_module_version": "1.5.0",
            "_view_name": "HTMLView",
            "description": "",
            "description_tooltip": null,
            "layout": "IPY_MODEL_5bfef01334994279b8099bddf712889a",
            "placeholder": "​",
            "style": "IPY_MODEL_8b2e341a05f54437a07227e62626c7b3",
            "value": "tokenizer_config.json: 100%"
          }
        },
        "e483a010113d46f9957b01516e16cc5b": {
          "model_module": "@jupyter-widgets/base",
          "model_module_version": "1.2.0",
          "model_name": "LayoutModel",
          "state": {
            "_model_module": "@jupyter-widgets/base",
            "_model_module_version": "1.2.0",
            "_model_name": "LayoutModel",
            "_view_count": null,
            "_view_module": "@jupyter-widgets/base",
            "_view_module_version": "1.2.0",
            "_view_name": "LayoutView",
            "align_content": null,
            "align_items": null,
            "align_self": null,
            "border": null,
            "bottom": null,
            "display": null,
            "flex": null,
            "flex_flow": null,
            "grid_area": null,
            "grid_auto_columns": null,
            "grid_auto_flow": null,
            "grid_auto_rows": null,
            "grid_column": null,
            "grid_gap": null,
            "grid_row": null,
            "grid_template_areas": null,
            "grid_template_columns": null,
            "grid_template_rows": null,
            "height": null,
            "justify_content": null,
            "justify_items": null,
            "left": null,
            "margin": null,
            "max_height": null,
            "max_width": null,
            "min_height": null,
            "min_width": null,
            "object_fit": null,
            "object_position": null,
            "order": null,
            "overflow": null,
            "overflow_x": null,
            "overflow_y": null,
            "padding": null,
            "right": null,
            "top": null,
            "visibility": null,
            "width": null
          }
        },
        "e4e3560429e7421e885f40e9938d0f61": {
          "model_module": "@jupyter-widgets/controls",
          "model_module_version": "1.5.0",
          "model_name": "HTMLModel",
          "state": {
            "_dom_classes": [],
            "_model_module": "@jupyter-widgets/controls",
            "_model_module_version": "1.5.0",
            "_model_name": "HTMLModel",
            "_view_count": null,
            "_view_module": "@jupyter-widgets/controls",
            "_view_module_version": "1.5.0",
            "_view_name": "HTMLView",
            "description": "",
            "description_tooltip": null,
            "layout": "IPY_MODEL_f8ab5d7373f84f3e88cdd5e475f08528",
            "placeholder": "​",
            "style": "IPY_MODEL_30428486469a41cfaa1d4998c71093b4",
            "value": " 2/2 [04:23&lt;00:00, 263.15s/it]"
          }
        },
        "e6ab5c8c435a42b3a706a7846db229b7": {
          "model_module": "@jupyter-widgets/controls",
          "model_module_version": "1.5.0",
          "model_name": "DescriptionStyleModel",
          "state": {
            "_model_module": "@jupyter-widgets/controls",
            "_model_module_version": "1.5.0",
            "_model_name": "DescriptionStyleModel",
            "_view_count": null,
            "_view_module": "@jupyter-widgets/base",
            "_view_module_version": "1.2.0",
            "_view_name": "StyleView",
            "description_width": ""
          }
        },
        "e7dceb87d5c847b086aac3d05f90b979": {
          "model_module": "@jupyter-widgets/controls",
          "model_module_version": "1.5.0",
          "model_name": "HBoxModel",
          "state": {
            "_dom_classes": [],
            "_model_module": "@jupyter-widgets/controls",
            "_model_module_version": "1.5.0",
            "_model_name": "HBoxModel",
            "_view_count": null,
            "_view_module": "@jupyter-widgets/controls",
            "_view_module_version": "1.5.0",
            "_view_name": "HBoxView",
            "box_style": "",
            "children": [
              "IPY_MODEL_4dcbc7a40bef4565b74ab8eb9c7475a4",
              "IPY_MODEL_cf9521d43a784c32a72fe56ba6147d1f",
              "IPY_MODEL_c66e2c1addf54c5c828dd20ed863f516"
            ],
            "layout": "IPY_MODEL_ca23d58e5c9549539dd0f52a95ebb43e"
          }
        },
        "e87493a5fd3c42cf8536d512df9992d7": {
          "model_module": "@jupyter-widgets/base",
          "model_module_version": "1.2.0",
          "model_name": "LayoutModel",
          "state": {
            "_model_module": "@jupyter-widgets/base",
            "_model_module_version": "1.2.0",
            "_model_name": "LayoutModel",
            "_view_count": null,
            "_view_module": "@jupyter-widgets/base",
            "_view_module_version": "1.2.0",
            "_view_name": "LayoutView",
            "align_content": null,
            "align_items": null,
            "align_self": null,
            "border": null,
            "bottom": null,
            "display": null,
            "flex": null,
            "flex_flow": null,
            "grid_area": null,
            "grid_auto_columns": null,
            "grid_auto_flow": null,
            "grid_auto_rows": null,
            "grid_column": null,
            "grid_gap": null,
            "grid_row": null,
            "grid_template_areas": null,
            "grid_template_columns": null,
            "grid_template_rows": null,
            "height": null,
            "justify_content": null,
            "justify_items": null,
            "left": null,
            "margin": null,
            "max_height": null,
            "max_width": null,
            "min_height": null,
            "min_width": null,
            "object_fit": null,
            "object_position": null,
            "order": null,
            "overflow": null,
            "overflow_x": null,
            "overflow_y": null,
            "padding": null,
            "right": null,
            "top": null,
            "visibility": null,
            "width": null
          }
        },
        "ea2fbf8225594f5c8548568c5ca7b6b3": {
          "model_module": "@jupyter-widgets/controls",
          "model_module_version": "1.5.0",
          "model_name": "HTMLModel",
          "state": {
            "_dom_classes": [],
            "_model_module": "@jupyter-widgets/controls",
            "_model_module_version": "1.5.0",
            "_model_name": "HTMLModel",
            "_view_count": null,
            "_view_module": "@jupyter-widgets/controls",
            "_view_module_version": "1.5.0",
            "_view_name": "HTMLView",
            "description": "",
            "description_tooltip": null,
            "layout": "IPY_MODEL_82c7ecc3dbdf4973af901b1ca9c678ba",
            "placeholder": "​",
            "style": "IPY_MODEL_61b4f59c488d4df690c115e66f10f3dd",
            "value": " 406/406 [00:00&lt;00:00, 3368.50 examples/s]"
          }
        },
        "ea7f42f224974fc490ed187e9e71cc89": {
          "model_module": "@jupyter-widgets/controls",
          "model_module_version": "1.5.0",
          "model_name": "ProgressStyleModel",
          "state": {
            "_model_module": "@jupyter-widgets/controls",
            "_model_module_version": "1.5.0",
            "_model_name": "ProgressStyleModel",
            "_view_count": null,
            "_view_module": "@jupyter-widgets/base",
            "_view_module_version": "1.2.0",
            "_view_name": "StyleView",
            "bar_color": null,
            "description_width": ""
          }
        },
        "eb6231687725461fab876d4fc442d13d": {
          "model_module": "@jupyter-widgets/controls",
          "model_module_version": "1.5.0",
          "model_name": "HTMLModel",
          "state": {
            "_dom_classes": [],
            "_model_module": "@jupyter-widgets/controls",
            "_model_module_version": "1.5.0",
            "_model_name": "HTMLModel",
            "_view_count": null,
            "_view_module": "@jupyter-widgets/controls",
            "_view_module_version": "1.5.0",
            "_view_name": "HTMLView",
            "description": "",
            "description_tooltip": null,
            "layout": "IPY_MODEL_5d1ddaebe6d041cfa4c6496db71f9718",
            "placeholder": "​",
            "style": "IPY_MODEL_b9683c3db7984f1099a8e988f76c68f3",
            "value": " 116/116 [00:00&lt;00:00, 11.8kB/s]"
          }
        },
        "f09cf0063d044a42ac047a0e5971036d": {
          "model_module": "@jupyter-widgets/base",
          "model_module_version": "1.2.0",
          "model_name": "LayoutModel",
          "state": {
            "_model_module": "@jupyter-widgets/base",
            "_model_module_version": "1.2.0",
            "_model_name": "LayoutModel",
            "_view_count": null,
            "_view_module": "@jupyter-widgets/base",
            "_view_module_version": "1.2.0",
            "_view_name": "LayoutView",
            "align_content": null,
            "align_items": null,
            "align_self": null,
            "border": null,
            "bottom": null,
            "display": null,
            "flex": null,
            "flex_flow": null,
            "grid_area": null,
            "grid_auto_columns": null,
            "grid_auto_flow": null,
            "grid_auto_rows": null,
            "grid_column": null,
            "grid_gap": null,
            "grid_row": null,
            "grid_template_areas": null,
            "grid_template_columns": null,
            "grid_template_rows": null,
            "height": null,
            "justify_content": null,
            "justify_items": null,
            "left": null,
            "margin": null,
            "max_height": null,
            "max_width": null,
            "min_height": null,
            "min_width": null,
            "object_fit": null,
            "object_position": null,
            "order": null,
            "overflow": null,
            "overflow_x": null,
            "overflow_y": null,
            "padding": null,
            "right": null,
            "top": null,
            "visibility": null,
            "width": null
          }
        },
        "f28d82576b7b4b4d9af83180722de137": {
          "model_module": "@jupyter-widgets/controls",
          "model_module_version": "1.5.0",
          "model_name": "DescriptionStyleModel",
          "state": {
            "_model_module": "@jupyter-widgets/controls",
            "_model_module_version": "1.5.0",
            "_model_name": "DescriptionStyleModel",
            "_view_count": null,
            "_view_module": "@jupyter-widgets/base",
            "_view_module_version": "1.2.0",
            "_view_name": "StyleView",
            "description_width": ""
          }
        },
        "f6f6ae2dd64b432084a9c9448390dc14": {
          "model_module": "@jupyter-widgets/controls",
          "model_module_version": "1.5.0",
          "model_name": "HTMLModel",
          "state": {
            "_dom_classes": [],
            "_model_module": "@jupyter-widgets/controls",
            "_model_module_version": "1.5.0",
            "_model_name": "HTMLModel",
            "_view_count": null,
            "_view_module": "@jupyter-widgets/controls",
            "_view_module_version": "1.5.0",
            "_view_name": "HTMLView",
            "description": "",
            "description_tooltip": null,
            "layout": "IPY_MODEL_2840474e625d4148a55d2d9f59baa5af",
            "placeholder": "​",
            "style": "IPY_MODEL_2519790a07274fc39fe6813b2140cd92",
            "value": " 2/2 [01:28&lt;00:00, 41.26s/it]"
          }
        },
        "f78be504318b4f968b3cb925d88bf803": {
          "model_module": "@jupyter-widgets/base",
          "model_module_version": "1.2.0",
          "model_name": "LayoutModel",
          "state": {
            "_model_module": "@jupyter-widgets/base",
            "_model_module_version": "1.2.0",
            "_model_name": "LayoutModel",
            "_view_count": null,
            "_view_module": "@jupyter-widgets/base",
            "_view_module_version": "1.2.0",
            "_view_name": "LayoutView",
            "align_content": null,
            "align_items": null,
            "align_self": null,
            "border": null,
            "bottom": null,
            "display": null,
            "flex": null,
            "flex_flow": null,
            "grid_area": null,
            "grid_auto_columns": null,
            "grid_auto_flow": null,
            "grid_auto_rows": null,
            "grid_column": null,
            "grid_gap": null,
            "grid_row": null,
            "grid_template_areas": null,
            "grid_template_columns": null,
            "grid_template_rows": null,
            "height": null,
            "justify_content": null,
            "justify_items": null,
            "left": null,
            "margin": null,
            "max_height": null,
            "max_width": null,
            "min_height": null,
            "min_width": null,
            "object_fit": null,
            "object_position": null,
            "order": null,
            "overflow": null,
            "overflow_x": null,
            "overflow_y": null,
            "padding": null,
            "right": null,
            "top": null,
            "visibility": null,
            "width": null
          }
        },
        "f88cfc00e5d446cea954c2fcb0a8bf7d": {
          "model_module": "@jupyter-widgets/base",
          "model_module_version": "1.2.0",
          "model_name": "LayoutModel",
          "state": {
            "_model_module": "@jupyter-widgets/base",
            "_model_module_version": "1.2.0",
            "_model_name": "LayoutModel",
            "_view_count": null,
            "_view_module": "@jupyter-widgets/base",
            "_view_module_version": "1.2.0",
            "_view_name": "LayoutView",
            "align_content": null,
            "align_items": null,
            "align_self": null,
            "border": null,
            "bottom": null,
            "display": null,
            "flex": null,
            "flex_flow": null,
            "grid_area": null,
            "grid_auto_columns": null,
            "grid_auto_flow": null,
            "grid_auto_rows": null,
            "grid_column": null,
            "grid_gap": null,
            "grid_row": null,
            "grid_template_areas": null,
            "grid_template_columns": null,
            "grid_template_rows": null,
            "height": null,
            "justify_content": null,
            "justify_items": null,
            "left": null,
            "margin": null,
            "max_height": null,
            "max_width": null,
            "min_height": null,
            "min_width": null,
            "object_fit": null,
            "object_position": null,
            "order": null,
            "overflow": null,
            "overflow_x": null,
            "overflow_y": null,
            "padding": null,
            "right": null,
            "top": null,
            "visibility": null,
            "width": null
          }
        },
        "f8ab5d7373f84f3e88cdd5e475f08528": {
          "model_module": "@jupyter-widgets/base",
          "model_module_version": "1.2.0",
          "model_name": "LayoutModel",
          "state": {
            "_model_module": "@jupyter-widgets/base",
            "_model_module_version": "1.2.0",
            "_model_name": "LayoutModel",
            "_view_count": null,
            "_view_module": "@jupyter-widgets/base",
            "_view_module_version": "1.2.0",
            "_view_name": "LayoutView",
            "align_content": null,
            "align_items": null,
            "align_self": null,
            "border": null,
            "bottom": null,
            "display": null,
            "flex": null,
            "flex_flow": null,
            "grid_area": null,
            "grid_auto_columns": null,
            "grid_auto_flow": null,
            "grid_auto_rows": null,
            "grid_column": null,
            "grid_gap": null,
            "grid_row": null,
            "grid_template_areas": null,
            "grid_template_columns": null,
            "grid_template_rows": null,
            "height": null,
            "justify_content": null,
            "justify_items": null,
            "left": null,
            "margin": null,
            "max_height": null,
            "max_width": null,
            "min_height": null,
            "min_width": null,
            "object_fit": null,
            "object_position": null,
            "order": null,
            "overflow": null,
            "overflow_x": null,
            "overflow_y": null,
            "padding": null,
            "right": null,
            "top": null,
            "visibility": null,
            "width": null
          }
        },
        "fa5dbd2567ce43828ba339ac6121922c": {
          "model_module": "@jupyter-widgets/controls",
          "model_module_version": "1.5.0",
          "model_name": "HBoxModel",
          "state": {
            "_dom_classes": [],
            "_model_module": "@jupyter-widgets/controls",
            "_model_module_version": "1.5.0",
            "_model_name": "HBoxModel",
            "_view_count": null,
            "_view_module": "@jupyter-widgets/controls",
            "_view_module_version": "1.5.0",
            "_view_name": "HBoxView",
            "box_style": "",
            "children": [
              "IPY_MODEL_011d01295ad74a06ae078759efd21e95",
              "IPY_MODEL_a04b57d2efab4082819483d974558233",
              "IPY_MODEL_2f681dc8831d4cd89f63ff1fb3a17cf1"
            ],
            "layout": "IPY_MODEL_bcb16ac866124dab8ed231a57cfab5be"
          }
        },
        "fea63dfaab954cb4b5c27c4735da2713": {
          "model_module": "@jupyter-widgets/controls",
          "model_module_version": "1.5.0",
          "model_name": "FloatProgressModel",
          "state": {
            "_dom_classes": [],
            "_model_module": "@jupyter-widgets/controls",
            "_model_module_version": "1.5.0",
            "_model_name": "FloatProgressModel",
            "_view_count": null,
            "_view_module": "@jupyter-widgets/controls",
            "_view_module_version": "1.5.0",
            "_view_name": "ProgressView",
            "bar_style": "success",
            "description": "",
            "description_tooltip": null,
            "layout": "IPY_MODEL_7f6b889481a147a1ab9b521c9da6e859",
            "max": 116,
            "min": 0,
            "orientation": "horizontal",
            "style": "IPY_MODEL_76c22d7fe4f64ed89b8848994163b335",
            "value": 116
          }
        }
      }
    }
  },
  "nbformat": 4,
  "nbformat_minor": 0
}
